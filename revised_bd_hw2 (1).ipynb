{
  "cells": [
    {
      "cell_type": "markdown",
      "metadata": {
        "id": "wlv8esDGMj0h"
      },
      "source": [
        "#  Homework 2: SQL\n",
        "## Due: Monday, 19th February 2024, 11:59pm EST\n",
        "### Worth 100 points in total\n",
        "\n",
        "Welcome to Homework 2! By now, you should be familiar with the world of data science and the Pandas library. This assignment focuses on helping you get to grips with a new tool: SQL.\n",
        "\n",
        "Through this homework, we will be working with SQL (specifically **pandasql**) by exploring a [Indego](https://www.rideindego.com/) dataset containing bike rides, stations and weather data. We will also conduct some text analysis of reataurant reviews in Philly.\n",
        "\n",
        " <!-- We will finish off the homework with some text analysis. -->\n",
        "\n",
        "We are introducing a lot of new things in this homework, and this is often where students start to get lost. Thus, we **strongly** encourage you to review the slides/material as you work through this assignment.\n",
        "\n",
        "**Before you begin:**\n",
        "- Be sure to click \"Copy to Drive\" to make sure you're working on your own personal version of the homework\n",
        "- Check the pinned FAQ post on Ed for updates! If you have been stuck, chances are other students have also faced similar problems.\n",
        "\n",
        "# <ins> Note</ins>: this has historically been the _**MOST  difficult**_ HW out of all of them, so please watch the SQL recitation and **start early**!"
      ]
    },
    {
      "cell_type": "markdown",
      "metadata": {
        "id": "W0hcZWDcqCUL"
      },
      "source": [
        "## Part 0: Libraries and Set Up Jargon (The usual wall of imports)"
      ]
    },
    {
      "cell_type": "code",
      "execution_count": 513,
      "metadata": {
        "id": "ylkUtozb2Oc8",
        "colab": {
          "base_uri": "https://localhost:8080/",
          "height": 35
        },
        "outputId": "16a64338-10ab-4aa4-9191-bd036eb18bc8"
      },
      "outputs": [
        {
          "output_type": "execute_result",
          "data": {
            "text/plain": [
              "'\\n!pip3 install penngrader-client\\n!pip install sqlalchemy==1.4.46\\n!pip install pandasql\\n!pip install geopy\\n!pip install -U kaleido'"
            ],
            "application/vnd.google.colaboratory.intrinsic+json": {
              "type": "string"
            }
          },
          "metadata": {},
          "execution_count": 513
        }
      ],
      "source": [
        "'''\n",
        "!pip3 install penngrader-client\n",
        "!pip install sqlalchemy==1.4.46\n",
        "!pip install pandasql\n",
        "!pip install geopy\n",
        "!pip install -U kaleido'''"
      ]
    },
    {
      "cell_type": "code",
      "execution_count": 514,
      "metadata": {
        "id": "LAXVD0Lo454x",
        "colab": {
          "base_uri": "https://localhost:8080/"
        },
        "outputId": "3b576ecf-7b4c-4329-fc96-a09f80c70a52"
      },
      "outputs": [
        {
          "output_type": "stream",
          "name": "stderr",
          "text": [
            "[nltk_data] Downloading package punkt to /root/nltk_data...\n",
            "[nltk_data]   Package punkt is already up-to-date!\n"
          ]
        }
      ],
      "source": [
        "from penngrader.grader import *\n",
        "import pandas as pd\n",
        "import datetime as dt\n",
        "import geopy.distance as gp\n",
        "import matplotlib.image as mpimg\n",
        "import plotly.express as px\n",
        "# import re\n",
        "import pandasql as ps #SQL on Pandas Dataframe\n",
        "import nltk\n",
        "nltk.download('punkt')\n",
        "\n",
        "from wordcloud import WordCloud\n",
        "\n",
        "import matplotlib.pyplot as plt\n",
        "# from collections import Counter\n",
        "# import random"
      ]
    },
    {
      "cell_type": "code",
      "execution_count": 515,
      "metadata": {
        "id": "0TmMEXVcwONB",
        "colab": {
          "base_uri": "https://localhost:8080/"
        },
        "outputId": "9b4e6a3c-6998-40e7-9886-8b60c3c6ebfb"
      },
      "outputs": [
        {
          "output_type": "stream",
          "name": "stdout",
          "text": [
            "File ‘indego_trips.csv’ already there; not retrieving.\n",
            "\n",
            "File ‘indego_stations.csv’ already there; not retrieving.\n",
            "\n",
            "File ‘weather_2022_PHL.csv’ already there; not retrieving.\n",
            "\n",
            "File ‘restaurant_reviews.csv’ already there; not retrieving.\n",
            "\n"
          ]
        }
      ],
      "source": [
        "# Three datasets we're using\n",
        "! wget -nc https://storage.googleapis.com/penn-cis5450/indego_trips.csv\n",
        "! wget -nc https://storage.googleapis.com/penn-cis5450/indego_stations.csv\n",
        "! wget -nc https://storage.googleapis.com/penn-cis5450/weather_2022_PHL.csv\n",
        "! wget -nc https://storage.googleapis.com/penn-cis5450/restaurant_reviews.csv"
      ]
    },
    {
      "cell_type": "markdown",
      "metadata": {
        "id": "TeyWoMn6pxSC"
      },
      "source": [
        "### Grader Setup"
      ]
    },
    {
      "cell_type": "code",
      "execution_count": 516,
      "metadata": {
        "id": "4ds2HHSkpvBO",
        "colab": {
          "base_uri": "https://localhost:8080/"
        },
        "outputId": "8c42f36e-3113-4aec-facc-2e22495c349f"
      },
      "outputs": [
        {
          "output_type": "stream",
          "name": "stdout",
          "text": [
            "Hold up!!! \n",
            "Hold up!!!!! \n",
            "Hold up!!!!!!!! \n",
            " \n",
            "We can't store your grade if you forgot to change the ID!\n"
          ]
        }
      ],
      "source": [
        "# ENSURE YOUR ID IS ENTERED CORRECTLY. IF NOT, THE AUTOGRADER WON'T KNOW\n",
        "# TO ASSIGN POINTS TO YOU IN OUR BACKEND\n",
        "\n",
        "STUDENT_ID = 12345678                                                           # YOUR ID GOES HERE AS AN INTEGER #\n",
        "\n",
        "\n",
        "################################################################################\n",
        "# Check (no need to modify below - we're checking if you changed the ID above)\n",
        "if STUDENT_ID == 12345678:\n",
        "   print(\"Hold up!!! \\nHold up!!!!! \\nHold up!!!!!!!! \\n \\nWe can't store your grade if you forgot to change the ID!\")\n",
        "\n",
        "SECRET = STUDENT_ID"
      ]
    },
    {
      "cell_type": "code",
      "source": [
        "%%writefile config.yaml\n",
        "\n",
        "grader_api_url: 'https://23whrwph9h.execute-api.us-east-1.amazonaws.com/default/Grader23'\n",
        "grader_api_key: 'flfkE736fA6Z8GxMDJe2q8Kfk8UDqjsG3GVqOFOa'"
      ],
      "metadata": {
        "id": "jbsUgnYw6snq",
        "colab": {
          "base_uri": "https://localhost:8080/"
        },
        "outputId": "c5b269b1-2ab8-4835-b540-b4eeba28b8e2"
      },
      "execution_count": 517,
      "outputs": [
        {
          "output_type": "stream",
          "name": "stdout",
          "text": [
            "Overwriting config.yaml\n"
          ]
        }
      ]
    },
    {
      "cell_type": "code",
      "execution_count": 518,
      "metadata": {
        "id": "vAsLYJGotKbO",
        "colab": {
          "base_uri": "https://localhost:8080/"
        },
        "outputId": "00c4f26f-1385-4ff3-f429-126f0f5de131"
      },
      "outputs": [
        {
          "output_type": "stream",
          "name": "stdout",
          "text": [
            "PennGrader initialized with Student ID: 12345678\n",
            "\n",
            "Make sure this correct or we will not be able to store your grade\n"
          ]
        }
      ],
      "source": [
        "grader = PennGrader('config.yaml', 'cis5450O_S24_HW2', STUDENT_ID, SECRET)"
      ]
    },
    {
      "cell_type": "markdown",
      "metadata": {
        "id": "VzZ6JNnKLplQ"
      },
      "source": [
        "\n",
        "\n",
        "# Biking\n",
        "\n",
        "<br>\n",
        "<center><img src = \"https://whyy.org/wp-content/uploads/2021/11/AP-indego-bike-share-philly-docking-station-110421-768x512.jpg\" width= \"500\" align =\"center\"/></center>\n",
        "<br>\n",
        "\n",
        "I'm sure in your time so far you've come across these blue bikes and stations. Indego is the company responsible for this bike sharing ride system, and they make data on bike trips available to the public. This data can not only be useful to get information of how people in Philly use bikes, but it can give information on the most visited places in the city which can be useful for city planners and business owners.\n",
        "\n",
        "\n",
        "In this homework, we'll be exploring some data about bikes including:\n",
        "\n",
        "*   Trips: data about bike trips during the first week of October 2022.\n",
        "\n",
        "*   Stations: data about bike stations, their ID and Name.\n",
        "\n",
        "*   Weather: data about the weather in Philadelphia during 2022.\n",
        "\n",
        "\n",
        "We'll be parsing this data into dataframes and relations, and then exploring how to query and assemble the tables into results. We will primarily be using PandaSQL, but for some of the initial questions, we will ask you to perform the same operations in Pandas as well, so as to familiarize you with the differences and similarities of the two.\n",
        "\n",
        "For the final part of this Homework, we'll use a fourth database with restaurants and reviews, and perform some text analysis."
      ]
    },
    {
      "cell_type": "markdown",
      "metadata": {
        "id": "oENmSeFkFRCo"
      },
      "source": [
        "## Part 1: Load & Process our Datasets [15 points total]\n",
        "\n",
        "Before we get into the data, we first need to load and clean our datasets.\n",
        "\n",
        "# Metadata\n",
        "You'll be working with four CSV files:\n",
        "- `indego_trips.csv`: contains data about each trip, like the origin station, destination station and duration.\n",
        "- `indego_stations.csv`: includes information about stations and their status in January 2023.\n",
        "- `weather_2022_PHL.csv`: has one row per day during 2022 and shows weather information.\n",
        "- `restaurant_reviews.csv`: has several reviews about three restaurants.\n",
        "\n",
        "**TO-DO**:\n",
        "* Load `indego_trips.csv` and save the data to a dataframe called `trips_df`.\n",
        "* Load `indego_stations.csv` and save the data to a dataframe called `stations_df`.\n",
        "* Load `weather_2022_PHL.csv` and save the data to a dataframe called `weather_df`.\n",
        "* Load `restaurant_reviews.csv` and save the data to a dataframe called `reviews_df`."
      ]
    },
    {
      "cell_type": "code",
      "execution_count": 519,
      "metadata": {
        "id": "zfMn38A25Vt8"
      },
      "outputs": [],
      "source": [
        "# TODO: Import the 4 datasets to pandas dataframes -- make sure the dataframes are named correctly!\n",
        "trips_df = pd.read_csv(\"indego_trips.csv\")\n",
        "stations_df = pd.read_csv(\"indego_stations.csv\")\n",
        "weather_df = pd.read_csv(\"weather_2022_PHL.csv\")\n",
        "reviews_df = pd.read_csv(\"restaurant_reviews.csv\")\n"
      ]
    },
    {
      "cell_type": "code",
      "execution_count": 520,
      "metadata": {
        "id": "yTBIwDJ1qDp0",
        "colab": {
          "base_uri": "https://localhost:8080/",
          "height": 313
        },
        "outputId": "7c4b5ab1-ee6f-487c-b48d-9e5d43187a6e"
      },
      "outputs": [
        {
          "output_type": "execute_result",
          "data": {
            "text/plain": [
              "     trip_id  duration      start_time        end_time  start_station  \\\n",
              "0  536547052         9  10/1/2022 0:00  10/1/2022 0:09         3190.0   \n",
              "1  536547050        19  10/1/2022 0:01  10/1/2022 0:20         3168.0   \n",
              "2  536547048        12  10/1/2022 0:02  10/1/2022 0:14         3190.0   \n",
              "3  536547046         5  10/1/2022 0:03  10/1/2022 0:08         3075.0   \n",
              "4  536547044        11  10/1/2022 0:03  10/1/2022 0:14         3050.0   \n",
              "\n",
              "   start_lat  start_lon  end_station    end_lat    end_lon bike_id  \\\n",
              "0  39.948921 -75.169907       3158.0  39.925522 -75.169037   23553   \n",
              "1  39.951340 -75.173943       3034.0  39.933151 -75.162483   22190   \n",
              "2  39.948921 -75.169907       3158.0  39.925522 -75.169037   18789   \n",
              "3  39.967178 -75.161247       3039.0  39.971569 -75.159927   23383   \n",
              "4  39.953388 -75.154259       3075.0  39.967178 -75.161247    5367   \n",
              "\n",
              "   plan_duration trip_route_category passholder_type bike_type  \n",
              "0           30.0             One Way        Indego30  electric  \n",
              "1           30.0             One Way        Indego30  electric  \n",
              "2           30.0             One Way        Indego30  electric  \n",
              "3           30.0             One Way        Indego30  electric  \n",
              "4           30.0             One Way        Indego30  standard  "
            ],
            "text/html": [
              "\n",
              "  <div id=\"df-feb032d3-6d92-42a3-afaf-5a890162a31a\" class=\"colab-df-container\">\n",
              "    <div>\n",
              "<style scoped>\n",
              "    .dataframe tbody tr th:only-of-type {\n",
              "        vertical-align: middle;\n",
              "    }\n",
              "\n",
              "    .dataframe tbody tr th {\n",
              "        vertical-align: top;\n",
              "    }\n",
              "\n",
              "    .dataframe thead th {\n",
              "        text-align: right;\n",
              "    }\n",
              "</style>\n",
              "<table border=\"1\" class=\"dataframe\">\n",
              "  <thead>\n",
              "    <tr style=\"text-align: right;\">\n",
              "      <th></th>\n",
              "      <th>trip_id</th>\n",
              "      <th>duration</th>\n",
              "      <th>start_time</th>\n",
              "      <th>end_time</th>\n",
              "      <th>start_station</th>\n",
              "      <th>start_lat</th>\n",
              "      <th>start_lon</th>\n",
              "      <th>end_station</th>\n",
              "      <th>end_lat</th>\n",
              "      <th>end_lon</th>\n",
              "      <th>bike_id</th>\n",
              "      <th>plan_duration</th>\n",
              "      <th>trip_route_category</th>\n",
              "      <th>passholder_type</th>\n",
              "      <th>bike_type</th>\n",
              "    </tr>\n",
              "  </thead>\n",
              "  <tbody>\n",
              "    <tr>\n",
              "      <th>0</th>\n",
              "      <td>536547052</td>\n",
              "      <td>9</td>\n",
              "      <td>10/1/2022 0:00</td>\n",
              "      <td>10/1/2022 0:09</td>\n",
              "      <td>3190.0</td>\n",
              "      <td>39.948921</td>\n",
              "      <td>-75.169907</td>\n",
              "      <td>3158.0</td>\n",
              "      <td>39.925522</td>\n",
              "      <td>-75.169037</td>\n",
              "      <td>23553</td>\n",
              "      <td>30.0</td>\n",
              "      <td>One Way</td>\n",
              "      <td>Indego30</td>\n",
              "      <td>electric</td>\n",
              "    </tr>\n",
              "    <tr>\n",
              "      <th>1</th>\n",
              "      <td>536547050</td>\n",
              "      <td>19</td>\n",
              "      <td>10/1/2022 0:01</td>\n",
              "      <td>10/1/2022 0:20</td>\n",
              "      <td>3168.0</td>\n",
              "      <td>39.951340</td>\n",
              "      <td>-75.173943</td>\n",
              "      <td>3034.0</td>\n",
              "      <td>39.933151</td>\n",
              "      <td>-75.162483</td>\n",
              "      <td>22190</td>\n",
              "      <td>30.0</td>\n",
              "      <td>One Way</td>\n",
              "      <td>Indego30</td>\n",
              "      <td>electric</td>\n",
              "    </tr>\n",
              "    <tr>\n",
              "      <th>2</th>\n",
              "      <td>536547048</td>\n",
              "      <td>12</td>\n",
              "      <td>10/1/2022 0:02</td>\n",
              "      <td>10/1/2022 0:14</td>\n",
              "      <td>3190.0</td>\n",
              "      <td>39.948921</td>\n",
              "      <td>-75.169907</td>\n",
              "      <td>3158.0</td>\n",
              "      <td>39.925522</td>\n",
              "      <td>-75.169037</td>\n",
              "      <td>18789</td>\n",
              "      <td>30.0</td>\n",
              "      <td>One Way</td>\n",
              "      <td>Indego30</td>\n",
              "      <td>electric</td>\n",
              "    </tr>\n",
              "    <tr>\n",
              "      <th>3</th>\n",
              "      <td>536547046</td>\n",
              "      <td>5</td>\n",
              "      <td>10/1/2022 0:03</td>\n",
              "      <td>10/1/2022 0:08</td>\n",
              "      <td>3075.0</td>\n",
              "      <td>39.967178</td>\n",
              "      <td>-75.161247</td>\n",
              "      <td>3039.0</td>\n",
              "      <td>39.971569</td>\n",
              "      <td>-75.159927</td>\n",
              "      <td>23383</td>\n",
              "      <td>30.0</td>\n",
              "      <td>One Way</td>\n",
              "      <td>Indego30</td>\n",
              "      <td>electric</td>\n",
              "    </tr>\n",
              "    <tr>\n",
              "      <th>4</th>\n",
              "      <td>536547044</td>\n",
              "      <td>11</td>\n",
              "      <td>10/1/2022 0:03</td>\n",
              "      <td>10/1/2022 0:14</td>\n",
              "      <td>3050.0</td>\n",
              "      <td>39.953388</td>\n",
              "      <td>-75.154259</td>\n",
              "      <td>3075.0</td>\n",
              "      <td>39.967178</td>\n",
              "      <td>-75.161247</td>\n",
              "      <td>5367</td>\n",
              "      <td>30.0</td>\n",
              "      <td>One Way</td>\n",
              "      <td>Indego30</td>\n",
              "      <td>standard</td>\n",
              "    </tr>\n",
              "  </tbody>\n",
              "</table>\n",
              "</div>\n",
              "    <div class=\"colab-df-buttons\">\n",
              "\n",
              "  <div class=\"colab-df-container\">\n",
              "    <button class=\"colab-df-convert\" onclick=\"convertToInteractive('df-feb032d3-6d92-42a3-afaf-5a890162a31a')\"\n",
              "            title=\"Convert this dataframe to an interactive table.\"\n",
              "            style=\"display:none;\">\n",
              "\n",
              "  <svg xmlns=\"http://www.w3.org/2000/svg\" height=\"24px\" viewBox=\"0 -960 960 960\">\n",
              "    <path d=\"M120-120v-720h720v720H120Zm60-500h600v-160H180v160Zm220 220h160v-160H400v160Zm0 220h160v-160H400v160ZM180-400h160v-160H180v160Zm440 0h160v-160H620v160ZM180-180h160v-160H180v160Zm440 0h160v-160H620v160Z\"/>\n",
              "  </svg>\n",
              "    </button>\n",
              "\n",
              "  <style>\n",
              "    .colab-df-container {\n",
              "      display:flex;\n",
              "      gap: 12px;\n",
              "    }\n",
              "\n",
              "    .colab-df-convert {\n",
              "      background-color: #E8F0FE;\n",
              "      border: none;\n",
              "      border-radius: 50%;\n",
              "      cursor: pointer;\n",
              "      display: none;\n",
              "      fill: #1967D2;\n",
              "      height: 32px;\n",
              "      padding: 0 0 0 0;\n",
              "      width: 32px;\n",
              "    }\n",
              "\n",
              "    .colab-df-convert:hover {\n",
              "      background-color: #E2EBFA;\n",
              "      box-shadow: 0px 1px 2px rgba(60, 64, 67, 0.3), 0px 1px 3px 1px rgba(60, 64, 67, 0.15);\n",
              "      fill: #174EA6;\n",
              "    }\n",
              "\n",
              "    .colab-df-buttons div {\n",
              "      margin-bottom: 4px;\n",
              "    }\n",
              "\n",
              "    [theme=dark] .colab-df-convert {\n",
              "      background-color: #3B4455;\n",
              "      fill: #D2E3FC;\n",
              "    }\n",
              "\n",
              "    [theme=dark] .colab-df-convert:hover {\n",
              "      background-color: #434B5C;\n",
              "      box-shadow: 0px 1px 3px 1px rgba(0, 0, 0, 0.15);\n",
              "      filter: drop-shadow(0px 1px 2px rgba(0, 0, 0, 0.3));\n",
              "      fill: #FFFFFF;\n",
              "    }\n",
              "  </style>\n",
              "\n",
              "    <script>\n",
              "      const buttonEl =\n",
              "        document.querySelector('#df-feb032d3-6d92-42a3-afaf-5a890162a31a button.colab-df-convert');\n",
              "      buttonEl.style.display =\n",
              "        google.colab.kernel.accessAllowed ? 'block' : 'none';\n",
              "\n",
              "      async function convertToInteractive(key) {\n",
              "        const element = document.querySelector('#df-feb032d3-6d92-42a3-afaf-5a890162a31a');\n",
              "        const dataTable =\n",
              "          await google.colab.kernel.invokeFunction('convertToInteractive',\n",
              "                                                    [key], {});\n",
              "        if (!dataTable) return;\n",
              "\n",
              "        const docLinkHtml = 'Like what you see? Visit the ' +\n",
              "          '<a target=\"_blank\" href=https://colab.research.google.com/notebooks/data_table.ipynb>data table notebook</a>'\n",
              "          + ' to learn more about interactive tables.';\n",
              "        element.innerHTML = '';\n",
              "        dataTable['output_type'] = 'display_data';\n",
              "        await google.colab.output.renderOutput(dataTable, element);\n",
              "        const docLink = document.createElement('div');\n",
              "        docLink.innerHTML = docLinkHtml;\n",
              "        element.appendChild(docLink);\n",
              "      }\n",
              "    </script>\n",
              "  </div>\n",
              "\n",
              "\n",
              "<div id=\"df-c3993f62-396c-4890-8b6b-dd3cdc43e583\">\n",
              "  <button class=\"colab-df-quickchart\" onclick=\"quickchart('df-c3993f62-396c-4890-8b6b-dd3cdc43e583')\"\n",
              "            title=\"Suggest charts\"\n",
              "            style=\"display:none;\">\n",
              "\n",
              "<svg xmlns=\"http://www.w3.org/2000/svg\" height=\"24px\"viewBox=\"0 0 24 24\"\n",
              "     width=\"24px\">\n",
              "    <g>\n",
              "        <path d=\"M19 3H5c-1.1 0-2 .9-2 2v14c0 1.1.9 2 2 2h14c1.1 0 2-.9 2-2V5c0-1.1-.9-2-2-2zM9 17H7v-7h2v7zm4 0h-2V7h2v10zm4 0h-2v-4h2v4z\"/>\n",
              "    </g>\n",
              "</svg>\n",
              "  </button>\n",
              "\n",
              "<style>\n",
              "  .colab-df-quickchart {\n",
              "      --bg-color: #E8F0FE;\n",
              "      --fill-color: #1967D2;\n",
              "      --hover-bg-color: #E2EBFA;\n",
              "      --hover-fill-color: #174EA6;\n",
              "      --disabled-fill-color: #AAA;\n",
              "      --disabled-bg-color: #DDD;\n",
              "  }\n",
              "\n",
              "  [theme=dark] .colab-df-quickchart {\n",
              "      --bg-color: #3B4455;\n",
              "      --fill-color: #D2E3FC;\n",
              "      --hover-bg-color: #434B5C;\n",
              "      --hover-fill-color: #FFFFFF;\n",
              "      --disabled-bg-color: #3B4455;\n",
              "      --disabled-fill-color: #666;\n",
              "  }\n",
              "\n",
              "  .colab-df-quickchart {\n",
              "    background-color: var(--bg-color);\n",
              "    border: none;\n",
              "    border-radius: 50%;\n",
              "    cursor: pointer;\n",
              "    display: none;\n",
              "    fill: var(--fill-color);\n",
              "    height: 32px;\n",
              "    padding: 0;\n",
              "    width: 32px;\n",
              "  }\n",
              "\n",
              "  .colab-df-quickchart:hover {\n",
              "    background-color: var(--hover-bg-color);\n",
              "    box-shadow: 0 1px 2px rgba(60, 64, 67, 0.3), 0 1px 3px 1px rgba(60, 64, 67, 0.15);\n",
              "    fill: var(--button-hover-fill-color);\n",
              "  }\n",
              "\n",
              "  .colab-df-quickchart-complete:disabled,\n",
              "  .colab-df-quickchart-complete:disabled:hover {\n",
              "    background-color: var(--disabled-bg-color);\n",
              "    fill: var(--disabled-fill-color);\n",
              "    box-shadow: none;\n",
              "  }\n",
              "\n",
              "  .colab-df-spinner {\n",
              "    border: 2px solid var(--fill-color);\n",
              "    border-color: transparent;\n",
              "    border-bottom-color: var(--fill-color);\n",
              "    animation:\n",
              "      spin 1s steps(1) infinite;\n",
              "  }\n",
              "\n",
              "  @keyframes spin {\n",
              "    0% {\n",
              "      border-color: transparent;\n",
              "      border-bottom-color: var(--fill-color);\n",
              "      border-left-color: var(--fill-color);\n",
              "    }\n",
              "    20% {\n",
              "      border-color: transparent;\n",
              "      border-left-color: var(--fill-color);\n",
              "      border-top-color: var(--fill-color);\n",
              "    }\n",
              "    30% {\n",
              "      border-color: transparent;\n",
              "      border-left-color: var(--fill-color);\n",
              "      border-top-color: var(--fill-color);\n",
              "      border-right-color: var(--fill-color);\n",
              "    }\n",
              "    40% {\n",
              "      border-color: transparent;\n",
              "      border-right-color: var(--fill-color);\n",
              "      border-top-color: var(--fill-color);\n",
              "    }\n",
              "    60% {\n",
              "      border-color: transparent;\n",
              "      border-right-color: var(--fill-color);\n",
              "    }\n",
              "    80% {\n",
              "      border-color: transparent;\n",
              "      border-right-color: var(--fill-color);\n",
              "      border-bottom-color: var(--fill-color);\n",
              "    }\n",
              "    90% {\n",
              "      border-color: transparent;\n",
              "      border-bottom-color: var(--fill-color);\n",
              "    }\n",
              "  }\n",
              "</style>\n",
              "\n",
              "  <script>\n",
              "    async function quickchart(key) {\n",
              "      const quickchartButtonEl =\n",
              "        document.querySelector('#' + key + ' button');\n",
              "      quickchartButtonEl.disabled = true;  // To prevent multiple clicks.\n",
              "      quickchartButtonEl.classList.add('colab-df-spinner');\n",
              "      try {\n",
              "        const charts = await google.colab.kernel.invokeFunction(\n",
              "            'suggestCharts', [key], {});\n",
              "      } catch (error) {\n",
              "        console.error('Error during call to suggestCharts:', error);\n",
              "      }\n",
              "      quickchartButtonEl.classList.remove('colab-df-spinner');\n",
              "      quickchartButtonEl.classList.add('colab-df-quickchart-complete');\n",
              "    }\n",
              "    (() => {\n",
              "      let quickchartButtonEl =\n",
              "        document.querySelector('#df-c3993f62-396c-4890-8b6b-dd3cdc43e583 button');\n",
              "      quickchartButtonEl.style.display =\n",
              "        google.colab.kernel.accessAllowed ? 'block' : 'none';\n",
              "    })();\n",
              "  </script>\n",
              "</div>\n",
              "\n",
              "    </div>\n",
              "  </div>\n"
            ],
            "application/vnd.google.colaboratory.intrinsic+json": {
              "type": "dataframe",
              "variable_name": "trips_df",
              "summary": "{\n  \"name\": \"trips_df\",\n  \"rows\": 15502,\n  \"fields\": [\n    {\n      \"column\": \"trip_id\",\n      \"properties\": {\n        \"dtype\": \"number\",\n        \"std\": 1071010,\n        \"min\": 536546924,\n        \"max\": 540571124,\n        \"samples\": [\n          539701879,\n          540212048,\n          539154978\n        ],\n        \"num_unique_values\": 15502,\n        \"semantic_type\": \"\",\n        \"description\": \"\"\n      }\n    },\n    {\n      \"column\": \"duration\",\n      \"properties\": {\n        \"dtype\": \"number\",\n        \"std\": 24,\n        \"min\": 1,\n        \"max\": 1189,\n        \"samples\": [\n          100,\n          77,\n          116\n        ],\n        \"num_unique_values\": 156,\n        \"semantic_type\": \"\",\n        \"description\": \"\"\n      }\n    },\n    {\n      \"column\": \"start_time\",\n      \"properties\": {\n        \"dtype\": \"object\",\n        \"min\": \"10/1/2022 0:00\",\n        \"max\": \"10/7/2022 9:59\",\n        \"samples\": [\n          \"10/6/2022 5:44\",\n          \"10/2/2022 12:57\",\n          \"10/5/2022 23:21\"\n        ],\n        \"num_unique_values\": 6028,\n        \"semantic_type\": \"\",\n        \"description\": \"\"\n      }\n    },\n    {\n      \"column\": \"end_time\",\n      \"properties\": {\n        \"dtype\": \"object\",\n        \"min\": \"10/1/2022 0:07\",\n        \"max\": \"10/8/2022 0:00\",\n        \"samples\": [\n          \"10/1/2022 12:58\",\n          \"10/4/2022 13:28\",\n          \"10/6/2022 15:45\"\n        ],\n        \"num_unique_values\": 6016,\n        \"semantic_type\": \"\",\n        \"description\": \"\"\n      }\n    },\n    {\n      \"column\": \"start_station\",\n      \"properties\": {\n        \"dtype\": \"number\",\n        \"std\": 82.97194478228137,\n        \"min\": 3004.0,\n        \"max\": 3287.0,\n        \"samples\": [\n          3077.0,\n          3165.0,\n          3113.0\n        ],\n        \"num_unique_values\": 181,\n        \"semantic_type\": \"\",\n        \"description\": \"\"\n      }\n    },\n    {\n      \"column\": \"start_lat\",\n      \"properties\": {\n        \"dtype\": \"number\",\n        \"std\": 0.012812646059146327,\n        \"min\": 39.889938,\n        \"max\": 40.007729,\n        \"samples\": [\n          39.972069,\n          39.958191,\n          39.958599\n        ],\n        \"num_unique_values\": 180,\n        \"semantic_type\": \"\",\n        \"description\": \"\"\n      }\n    },\n    {\n      \"column\": \"start_lon\",\n      \"properties\": {\n        \"dtype\": \"number\",\n        \"std\": 0.01750619572570785,\n        \"min\": -75.229462,\n        \"max\": -75.121567,\n        \"samples\": [\n          -75.163513,\n          -75.150002,\n          -75.17765\n        ],\n        \"num_unique_values\": 178,\n        \"semantic_type\": \"\",\n        \"description\": \"\"\n      }\n    },\n    {\n      \"column\": \"end_station\",\n      \"properties\": {\n        \"dtype\": \"number\",\n        \"std\": 83.71732401819503,\n        \"min\": 3000.0,\n        \"max\": 3287.0,\n        \"samples\": [\n          3033.0,\n          3209.0,\n          3110.0\n        ],\n        \"num_unique_values\": 182,\n        \"semantic_type\": \"\",\n        \"description\": \"\"\n      }\n    },\n    {\n      \"column\": \"end_lat\",\n      \"properties\": {\n        \"dtype\": \"number\",\n        \"std\": 0.012902835763928502,\n        \"min\": 39.889938,\n        \"max\": 40.007729,\n        \"samples\": [\n          39.95005,\n          39.949001,\n          39.954849\n        ],\n        \"num_unique_values\": 180,\n        \"semantic_type\": \"\",\n        \"description\": \"\"\n      }\n    },\n    {\n      \"column\": \"end_lon\",\n      \"properties\": {\n        \"dtype\": \"number\",\n        \"std\": 0.017490906906928054,\n        \"min\": -75.229462,\n        \"max\": -75.121567,\n        \"samples\": [\n          -75.156723,\n          -75.170631,\n          -75.179604\n        ],\n        \"num_unique_values\": 178,\n        \"semantic_type\": \"\",\n        \"description\": \"\"\n      }\n    },\n    {\n      \"column\": \"bike_id\",\n      \"properties\": {\n        \"dtype\": \"category\",\n        \"samples\": [\n          \"16772\",\n          \"3643\",\n          \"23738\"\n        ],\n        \"num_unique_values\": 1565,\n        \"semantic_type\": \"\",\n        \"description\": \"\"\n      }\n    },\n    {\n      \"column\": \"plan_duration\",\n      \"properties\": {\n        \"dtype\": \"number\",\n        \"std\": 143.41259642365242,\n        \"min\": 1.0,\n        \"max\": 365.0,\n        \"samples\": [\n          1.0,\n          180.0,\n          30.0\n        ],\n        \"num_unique_values\": 4,\n        \"semantic_type\": \"\",\n        \"description\": \"\"\n      }\n    },\n    {\n      \"column\": \"trip_route_category\",\n      \"properties\": {\n        \"dtype\": \"category\",\n        \"samples\": [\n          \"Round Trip\",\n          \"One Way\"\n        ],\n        \"num_unique_values\": 2,\n        \"semantic_type\": \"\",\n        \"description\": \"\"\n      }\n    },\n    {\n      \"column\": \"passholder_type\",\n      \"properties\": {\n        \"dtype\": \"category\",\n        \"samples\": [\n          \"Indego30\",\n          \"Day Pass\"\n        ],\n        \"num_unique_values\": 3,\n        \"semantic_type\": \"\",\n        \"description\": \"\"\n      }\n    },\n    {\n      \"column\": \"bike_type\",\n      \"properties\": {\n        \"dtype\": \"category\",\n        \"samples\": [\n          \"standard\",\n          \"electric\"\n        ],\n        \"num_unique_values\": 2,\n        \"semantic_type\": \"\",\n        \"description\": \"\"\n      }\n    }\n  ]\n}"
            }
          },
          "metadata": {},
          "execution_count": 520
        }
      ],
      "source": [
        "# TODO: view `trips_df` (just the first 5 rows with .head() is fine) to make sure the import was successful\n",
        "trips_df.head()\n"
      ]
    },
    {
      "cell_type": "code",
      "execution_count": 521,
      "metadata": {
        "id": "Py_XvfZiNzXx",
        "colab": {
          "base_uri": "https://localhost:8080/",
          "height": 206
        },
        "outputId": "bb798bca-563a-4c63-856d-259056fa68c7"
      },
      "outputs": [
        {
          "output_type": "execute_result",
          "data": {
            "text/plain": [
              "   station_id                       station_name day_of_go_live_date  status  \\\n",
              "0        3000                    Virtual Station           4/23/2015  Active   \n",
              "1        3004  Municipal Services Building Plaza           4/23/2015  Active   \n",
              "2        3005                  Welcome Park, NPS           4/23/2015  Active   \n",
              "3        3006                      40th & Spruce           4/23/2015  Active   \n",
              "4        3007             11th & Pine, Kahn Park           4/23/2015  Active   \n",
              "\n",
              "   zone  \n",
              "0     0  \n",
              "1     0  \n",
              "2     0  \n",
              "3     2  \n",
              "4     0  "
            ],
            "text/html": [
              "\n",
              "  <div id=\"df-5609fcbe-7a35-4234-9b5d-b8a5817d986b\" class=\"colab-df-container\">\n",
              "    <div>\n",
              "<style scoped>\n",
              "    .dataframe tbody tr th:only-of-type {\n",
              "        vertical-align: middle;\n",
              "    }\n",
              "\n",
              "    .dataframe tbody tr th {\n",
              "        vertical-align: top;\n",
              "    }\n",
              "\n",
              "    .dataframe thead th {\n",
              "        text-align: right;\n",
              "    }\n",
              "</style>\n",
              "<table border=\"1\" class=\"dataframe\">\n",
              "  <thead>\n",
              "    <tr style=\"text-align: right;\">\n",
              "      <th></th>\n",
              "      <th>station_id</th>\n",
              "      <th>station_name</th>\n",
              "      <th>day_of_go_live_date</th>\n",
              "      <th>status</th>\n",
              "      <th>zone</th>\n",
              "    </tr>\n",
              "  </thead>\n",
              "  <tbody>\n",
              "    <tr>\n",
              "      <th>0</th>\n",
              "      <td>3000</td>\n",
              "      <td>Virtual Station</td>\n",
              "      <td>4/23/2015</td>\n",
              "      <td>Active</td>\n",
              "      <td>0</td>\n",
              "    </tr>\n",
              "    <tr>\n",
              "      <th>1</th>\n",
              "      <td>3004</td>\n",
              "      <td>Municipal Services Building Plaza</td>\n",
              "      <td>4/23/2015</td>\n",
              "      <td>Active</td>\n",
              "      <td>0</td>\n",
              "    </tr>\n",
              "    <tr>\n",
              "      <th>2</th>\n",
              "      <td>3005</td>\n",
              "      <td>Welcome Park, NPS</td>\n",
              "      <td>4/23/2015</td>\n",
              "      <td>Active</td>\n",
              "      <td>0</td>\n",
              "    </tr>\n",
              "    <tr>\n",
              "      <th>3</th>\n",
              "      <td>3006</td>\n",
              "      <td>40th &amp; Spruce</td>\n",
              "      <td>4/23/2015</td>\n",
              "      <td>Active</td>\n",
              "      <td>2</td>\n",
              "    </tr>\n",
              "    <tr>\n",
              "      <th>4</th>\n",
              "      <td>3007</td>\n",
              "      <td>11th &amp; Pine, Kahn Park</td>\n",
              "      <td>4/23/2015</td>\n",
              "      <td>Active</td>\n",
              "      <td>0</td>\n",
              "    </tr>\n",
              "  </tbody>\n",
              "</table>\n",
              "</div>\n",
              "    <div class=\"colab-df-buttons\">\n",
              "\n",
              "  <div class=\"colab-df-container\">\n",
              "    <button class=\"colab-df-convert\" onclick=\"convertToInteractive('df-5609fcbe-7a35-4234-9b5d-b8a5817d986b')\"\n",
              "            title=\"Convert this dataframe to an interactive table.\"\n",
              "            style=\"display:none;\">\n",
              "\n",
              "  <svg xmlns=\"http://www.w3.org/2000/svg\" height=\"24px\" viewBox=\"0 -960 960 960\">\n",
              "    <path d=\"M120-120v-720h720v720H120Zm60-500h600v-160H180v160Zm220 220h160v-160H400v160Zm0 220h160v-160H400v160ZM180-400h160v-160H180v160Zm440 0h160v-160H620v160ZM180-180h160v-160H180v160Zm440 0h160v-160H620v160Z\"/>\n",
              "  </svg>\n",
              "    </button>\n",
              "\n",
              "  <style>\n",
              "    .colab-df-container {\n",
              "      display:flex;\n",
              "      gap: 12px;\n",
              "    }\n",
              "\n",
              "    .colab-df-convert {\n",
              "      background-color: #E8F0FE;\n",
              "      border: none;\n",
              "      border-radius: 50%;\n",
              "      cursor: pointer;\n",
              "      display: none;\n",
              "      fill: #1967D2;\n",
              "      height: 32px;\n",
              "      padding: 0 0 0 0;\n",
              "      width: 32px;\n",
              "    }\n",
              "\n",
              "    .colab-df-convert:hover {\n",
              "      background-color: #E2EBFA;\n",
              "      box-shadow: 0px 1px 2px rgba(60, 64, 67, 0.3), 0px 1px 3px 1px rgba(60, 64, 67, 0.15);\n",
              "      fill: #174EA6;\n",
              "    }\n",
              "\n",
              "    .colab-df-buttons div {\n",
              "      margin-bottom: 4px;\n",
              "    }\n",
              "\n",
              "    [theme=dark] .colab-df-convert {\n",
              "      background-color: #3B4455;\n",
              "      fill: #D2E3FC;\n",
              "    }\n",
              "\n",
              "    [theme=dark] .colab-df-convert:hover {\n",
              "      background-color: #434B5C;\n",
              "      box-shadow: 0px 1px 3px 1px rgba(0, 0, 0, 0.15);\n",
              "      filter: drop-shadow(0px 1px 2px rgba(0, 0, 0, 0.3));\n",
              "      fill: #FFFFFF;\n",
              "    }\n",
              "  </style>\n",
              "\n",
              "    <script>\n",
              "      const buttonEl =\n",
              "        document.querySelector('#df-5609fcbe-7a35-4234-9b5d-b8a5817d986b button.colab-df-convert');\n",
              "      buttonEl.style.display =\n",
              "        google.colab.kernel.accessAllowed ? 'block' : 'none';\n",
              "\n",
              "      async function convertToInteractive(key) {\n",
              "        const element = document.querySelector('#df-5609fcbe-7a35-4234-9b5d-b8a5817d986b');\n",
              "        const dataTable =\n",
              "          await google.colab.kernel.invokeFunction('convertToInteractive',\n",
              "                                                    [key], {});\n",
              "        if (!dataTable) return;\n",
              "\n",
              "        const docLinkHtml = 'Like what you see? Visit the ' +\n",
              "          '<a target=\"_blank\" href=https://colab.research.google.com/notebooks/data_table.ipynb>data table notebook</a>'\n",
              "          + ' to learn more about interactive tables.';\n",
              "        element.innerHTML = '';\n",
              "        dataTable['output_type'] = 'display_data';\n",
              "        await google.colab.output.renderOutput(dataTable, element);\n",
              "        const docLink = document.createElement('div');\n",
              "        docLink.innerHTML = docLinkHtml;\n",
              "        element.appendChild(docLink);\n",
              "      }\n",
              "    </script>\n",
              "  </div>\n",
              "\n",
              "\n",
              "<div id=\"df-417dc3f9-2859-4f1b-b54a-7f52e7fcec47\">\n",
              "  <button class=\"colab-df-quickchart\" onclick=\"quickchart('df-417dc3f9-2859-4f1b-b54a-7f52e7fcec47')\"\n",
              "            title=\"Suggest charts\"\n",
              "            style=\"display:none;\">\n",
              "\n",
              "<svg xmlns=\"http://www.w3.org/2000/svg\" height=\"24px\"viewBox=\"0 0 24 24\"\n",
              "     width=\"24px\">\n",
              "    <g>\n",
              "        <path d=\"M19 3H5c-1.1 0-2 .9-2 2v14c0 1.1.9 2 2 2h14c1.1 0 2-.9 2-2V5c0-1.1-.9-2-2-2zM9 17H7v-7h2v7zm4 0h-2V7h2v10zm4 0h-2v-4h2v4z\"/>\n",
              "    </g>\n",
              "</svg>\n",
              "  </button>\n",
              "\n",
              "<style>\n",
              "  .colab-df-quickchart {\n",
              "      --bg-color: #E8F0FE;\n",
              "      --fill-color: #1967D2;\n",
              "      --hover-bg-color: #E2EBFA;\n",
              "      --hover-fill-color: #174EA6;\n",
              "      --disabled-fill-color: #AAA;\n",
              "      --disabled-bg-color: #DDD;\n",
              "  }\n",
              "\n",
              "  [theme=dark] .colab-df-quickchart {\n",
              "      --bg-color: #3B4455;\n",
              "      --fill-color: #D2E3FC;\n",
              "      --hover-bg-color: #434B5C;\n",
              "      --hover-fill-color: #FFFFFF;\n",
              "      --disabled-bg-color: #3B4455;\n",
              "      --disabled-fill-color: #666;\n",
              "  }\n",
              "\n",
              "  .colab-df-quickchart {\n",
              "    background-color: var(--bg-color);\n",
              "    border: none;\n",
              "    border-radius: 50%;\n",
              "    cursor: pointer;\n",
              "    display: none;\n",
              "    fill: var(--fill-color);\n",
              "    height: 32px;\n",
              "    padding: 0;\n",
              "    width: 32px;\n",
              "  }\n",
              "\n",
              "  .colab-df-quickchart:hover {\n",
              "    background-color: var(--hover-bg-color);\n",
              "    box-shadow: 0 1px 2px rgba(60, 64, 67, 0.3), 0 1px 3px 1px rgba(60, 64, 67, 0.15);\n",
              "    fill: var(--button-hover-fill-color);\n",
              "  }\n",
              "\n",
              "  .colab-df-quickchart-complete:disabled,\n",
              "  .colab-df-quickchart-complete:disabled:hover {\n",
              "    background-color: var(--disabled-bg-color);\n",
              "    fill: var(--disabled-fill-color);\n",
              "    box-shadow: none;\n",
              "  }\n",
              "\n",
              "  .colab-df-spinner {\n",
              "    border: 2px solid var(--fill-color);\n",
              "    border-color: transparent;\n",
              "    border-bottom-color: var(--fill-color);\n",
              "    animation:\n",
              "      spin 1s steps(1) infinite;\n",
              "  }\n",
              "\n",
              "  @keyframes spin {\n",
              "    0% {\n",
              "      border-color: transparent;\n",
              "      border-bottom-color: var(--fill-color);\n",
              "      border-left-color: var(--fill-color);\n",
              "    }\n",
              "    20% {\n",
              "      border-color: transparent;\n",
              "      border-left-color: var(--fill-color);\n",
              "      border-top-color: var(--fill-color);\n",
              "    }\n",
              "    30% {\n",
              "      border-color: transparent;\n",
              "      border-left-color: var(--fill-color);\n",
              "      border-top-color: var(--fill-color);\n",
              "      border-right-color: var(--fill-color);\n",
              "    }\n",
              "    40% {\n",
              "      border-color: transparent;\n",
              "      border-right-color: var(--fill-color);\n",
              "      border-top-color: var(--fill-color);\n",
              "    }\n",
              "    60% {\n",
              "      border-color: transparent;\n",
              "      border-right-color: var(--fill-color);\n",
              "    }\n",
              "    80% {\n",
              "      border-color: transparent;\n",
              "      border-right-color: var(--fill-color);\n",
              "      border-bottom-color: var(--fill-color);\n",
              "    }\n",
              "    90% {\n",
              "      border-color: transparent;\n",
              "      border-bottom-color: var(--fill-color);\n",
              "    }\n",
              "  }\n",
              "</style>\n",
              "\n",
              "  <script>\n",
              "    async function quickchart(key) {\n",
              "      const quickchartButtonEl =\n",
              "        document.querySelector('#' + key + ' button');\n",
              "      quickchartButtonEl.disabled = true;  // To prevent multiple clicks.\n",
              "      quickchartButtonEl.classList.add('colab-df-spinner');\n",
              "      try {\n",
              "        const charts = await google.colab.kernel.invokeFunction(\n",
              "            'suggestCharts', [key], {});\n",
              "      } catch (error) {\n",
              "        console.error('Error during call to suggestCharts:', error);\n",
              "      }\n",
              "      quickchartButtonEl.classList.remove('colab-df-spinner');\n",
              "      quickchartButtonEl.classList.add('colab-df-quickchart-complete');\n",
              "    }\n",
              "    (() => {\n",
              "      let quickchartButtonEl =\n",
              "        document.querySelector('#df-417dc3f9-2859-4f1b-b54a-7f52e7fcec47 button');\n",
              "      quickchartButtonEl.style.display =\n",
              "        google.colab.kernel.accessAllowed ? 'block' : 'none';\n",
              "    })();\n",
              "  </script>\n",
              "</div>\n",
              "\n",
              "    </div>\n",
              "  </div>\n"
            ],
            "application/vnd.google.colaboratory.intrinsic+json": {
              "type": "dataframe",
              "variable_name": "stations_df",
              "summary": "{\n  \"name\": \"stations_df\",\n  \"rows\": 203,\n  \"fields\": [\n    {\n      \"column\": \"station_id\",\n      \"properties\": {\n        \"dtype\": \"number\",\n        \"std\": 88,\n        \"min\": 3000,\n        \"max\": 3290,\n        \"samples\": [\n          3018,\n          3012,\n          3158\n        ],\n        \"num_unique_values\": 203,\n        \"semantic_type\": \"\",\n        \"description\": \"\"\n      }\n    },\n    {\n      \"column\": \"station_name\",\n      \"properties\": {\n        \"dtype\": \"string\",\n        \"samples\": [\n          \"22nd & Federal\",\n          \"12th & Filbert\",\n          \"10th & Chestnut\"\n        ],\n        \"num_unique_values\": 201,\n        \"semantic_type\": \"\",\n        \"description\": \"\"\n      }\n    },\n    {\n      \"column\": \"day_of_go_live_date\",\n      \"properties\": {\n        \"dtype\": \"object\",\n        \"min\": \"1/24/2018\",\n        \"max\": \"9/7/2022\",\n        \"samples\": [\n          \"3/31/2022\",\n          \"2/6/2020\",\n          \"8/2/2021\"\n        ],\n        \"num_unique_values\": 100,\n        \"semantic_type\": \"\",\n        \"description\": \"\"\n      }\n    },\n    {\n      \"column\": \"status\",\n      \"properties\": {\n        \"dtype\": \"category\",\n        \"samples\": [\n          \"Inactive\",\n          \"Active\"\n        ],\n        \"num_unique_values\": 2,\n        \"semantic_type\": \"\",\n        \"description\": \"\"\n      }\n    },\n    {\n      \"column\": \"zone\",\n      \"properties\": {\n        \"dtype\": \"number\",\n        \"std\": 1,\n        \"min\": 0,\n        \"max\": 5,\n        \"samples\": [\n          0,\n          2\n        ],\n        \"num_unique_values\": 6,\n        \"semantic_type\": \"\",\n        \"description\": \"\"\n      }\n    }\n  ]\n}"
            }
          },
          "metadata": {},
          "execution_count": 521
        }
      ],
      "source": [
        "# TODO: view `stations_df` (just the first 5 rows with .head() is fine)to make sure the import was successful\n",
        "\n",
        "stations_df.head()"
      ]
    },
    {
      "cell_type": "code",
      "execution_count": 522,
      "metadata": {
        "id": "hZJwhz1lx4ZV",
        "colab": {
          "base_uri": "https://localhost:8080/",
          "height": 226
        },
        "outputId": "3edb40b8-9713-456f-991e-fe56bb189fd6"
      },
      "outputs": [
        {
          "output_type": "execute_result",
          "data": {
            "text/plain": [
              "       date  actual_mean_temp  actual_min_temp  actual_max_temp  \\\n",
              "0  1/1/2022                35               28               42   \n",
              "1  1/2/2022                37               29               44   \n",
              "2  1/3/2022                36               28               44   \n",
              "3  1/4/2022                50               42               58   \n",
              "4  1/5/2022                37               24               50   \n",
              "\n",
              "   average_min_temp  average_max_temp  record_min_temp  record_max_temp  \\\n",
              "0                27                41                4               64   \n",
              "1                26                41                7               67   \n",
              "2                26                41               -3               63   \n",
              "3                26                41                2               68   \n",
              "4                26                40               -2               66   \n",
              "\n",
              "   record_min_temp_year  record_max_temp_year  actual_precipitation  \\\n",
              "0                  1881                  2005                  0.00   \n",
              "1                  1968                  1876                  0.00   \n",
              "2                  1879                  2000                  0.72   \n",
              "3                  1918                  1950                  0.37   \n",
              "4                  1904                  1997                  0.00   \n",
              "\n",
              "   average_precipitation  record_precipitation  \n",
              "0                   0.09                  1.60  \n",
              "1                   0.10                  1.68  \n",
              "2                   0.09                  1.50  \n",
              "3                   0.10                  1.51  \n",
              "4                   0.10                  2.24  "
            ],
            "text/html": [
              "\n",
              "  <div id=\"df-4fd39c21-a43f-4c2f-86a2-9f0b4104b1c9\" class=\"colab-df-container\">\n",
              "    <div>\n",
              "<style scoped>\n",
              "    .dataframe tbody tr th:only-of-type {\n",
              "        vertical-align: middle;\n",
              "    }\n",
              "\n",
              "    .dataframe tbody tr th {\n",
              "        vertical-align: top;\n",
              "    }\n",
              "\n",
              "    .dataframe thead th {\n",
              "        text-align: right;\n",
              "    }\n",
              "</style>\n",
              "<table border=\"1\" class=\"dataframe\">\n",
              "  <thead>\n",
              "    <tr style=\"text-align: right;\">\n",
              "      <th></th>\n",
              "      <th>date</th>\n",
              "      <th>actual_mean_temp</th>\n",
              "      <th>actual_min_temp</th>\n",
              "      <th>actual_max_temp</th>\n",
              "      <th>average_min_temp</th>\n",
              "      <th>average_max_temp</th>\n",
              "      <th>record_min_temp</th>\n",
              "      <th>record_max_temp</th>\n",
              "      <th>record_min_temp_year</th>\n",
              "      <th>record_max_temp_year</th>\n",
              "      <th>actual_precipitation</th>\n",
              "      <th>average_precipitation</th>\n",
              "      <th>record_precipitation</th>\n",
              "    </tr>\n",
              "  </thead>\n",
              "  <tbody>\n",
              "    <tr>\n",
              "      <th>0</th>\n",
              "      <td>1/1/2022</td>\n",
              "      <td>35</td>\n",
              "      <td>28</td>\n",
              "      <td>42</td>\n",
              "      <td>27</td>\n",
              "      <td>41</td>\n",
              "      <td>4</td>\n",
              "      <td>64</td>\n",
              "      <td>1881</td>\n",
              "      <td>2005</td>\n",
              "      <td>0.00</td>\n",
              "      <td>0.09</td>\n",
              "      <td>1.60</td>\n",
              "    </tr>\n",
              "    <tr>\n",
              "      <th>1</th>\n",
              "      <td>1/2/2022</td>\n",
              "      <td>37</td>\n",
              "      <td>29</td>\n",
              "      <td>44</td>\n",
              "      <td>26</td>\n",
              "      <td>41</td>\n",
              "      <td>7</td>\n",
              "      <td>67</td>\n",
              "      <td>1968</td>\n",
              "      <td>1876</td>\n",
              "      <td>0.00</td>\n",
              "      <td>0.10</td>\n",
              "      <td>1.68</td>\n",
              "    </tr>\n",
              "    <tr>\n",
              "      <th>2</th>\n",
              "      <td>1/3/2022</td>\n",
              "      <td>36</td>\n",
              "      <td>28</td>\n",
              "      <td>44</td>\n",
              "      <td>26</td>\n",
              "      <td>41</td>\n",
              "      <td>-3</td>\n",
              "      <td>63</td>\n",
              "      <td>1879</td>\n",
              "      <td>2000</td>\n",
              "      <td>0.72</td>\n",
              "      <td>0.09</td>\n",
              "      <td>1.50</td>\n",
              "    </tr>\n",
              "    <tr>\n",
              "      <th>3</th>\n",
              "      <td>1/4/2022</td>\n",
              "      <td>50</td>\n",
              "      <td>42</td>\n",
              "      <td>58</td>\n",
              "      <td>26</td>\n",
              "      <td>41</td>\n",
              "      <td>2</td>\n",
              "      <td>68</td>\n",
              "      <td>1918</td>\n",
              "      <td>1950</td>\n",
              "      <td>0.37</td>\n",
              "      <td>0.10</td>\n",
              "      <td>1.51</td>\n",
              "    </tr>\n",
              "    <tr>\n",
              "      <th>4</th>\n",
              "      <td>1/5/2022</td>\n",
              "      <td>37</td>\n",
              "      <td>24</td>\n",
              "      <td>50</td>\n",
              "      <td>26</td>\n",
              "      <td>40</td>\n",
              "      <td>-2</td>\n",
              "      <td>66</td>\n",
              "      <td>1904</td>\n",
              "      <td>1997</td>\n",
              "      <td>0.00</td>\n",
              "      <td>0.10</td>\n",
              "      <td>2.24</td>\n",
              "    </tr>\n",
              "  </tbody>\n",
              "</table>\n",
              "</div>\n",
              "    <div class=\"colab-df-buttons\">\n",
              "\n",
              "  <div class=\"colab-df-container\">\n",
              "    <button class=\"colab-df-convert\" onclick=\"convertToInteractive('df-4fd39c21-a43f-4c2f-86a2-9f0b4104b1c9')\"\n",
              "            title=\"Convert this dataframe to an interactive table.\"\n",
              "            style=\"display:none;\">\n",
              "\n",
              "  <svg xmlns=\"http://www.w3.org/2000/svg\" height=\"24px\" viewBox=\"0 -960 960 960\">\n",
              "    <path d=\"M120-120v-720h720v720H120Zm60-500h600v-160H180v160Zm220 220h160v-160H400v160Zm0 220h160v-160H400v160ZM180-400h160v-160H180v160Zm440 0h160v-160H620v160ZM180-180h160v-160H180v160Zm440 0h160v-160H620v160Z\"/>\n",
              "  </svg>\n",
              "    </button>\n",
              "\n",
              "  <style>\n",
              "    .colab-df-container {\n",
              "      display:flex;\n",
              "      gap: 12px;\n",
              "    }\n",
              "\n",
              "    .colab-df-convert {\n",
              "      background-color: #E8F0FE;\n",
              "      border: none;\n",
              "      border-radius: 50%;\n",
              "      cursor: pointer;\n",
              "      display: none;\n",
              "      fill: #1967D2;\n",
              "      height: 32px;\n",
              "      padding: 0 0 0 0;\n",
              "      width: 32px;\n",
              "    }\n",
              "\n",
              "    .colab-df-convert:hover {\n",
              "      background-color: #E2EBFA;\n",
              "      box-shadow: 0px 1px 2px rgba(60, 64, 67, 0.3), 0px 1px 3px 1px rgba(60, 64, 67, 0.15);\n",
              "      fill: #174EA6;\n",
              "    }\n",
              "\n",
              "    .colab-df-buttons div {\n",
              "      margin-bottom: 4px;\n",
              "    }\n",
              "\n",
              "    [theme=dark] .colab-df-convert {\n",
              "      background-color: #3B4455;\n",
              "      fill: #D2E3FC;\n",
              "    }\n",
              "\n",
              "    [theme=dark] .colab-df-convert:hover {\n",
              "      background-color: #434B5C;\n",
              "      box-shadow: 0px 1px 3px 1px rgba(0, 0, 0, 0.15);\n",
              "      filter: drop-shadow(0px 1px 2px rgba(0, 0, 0, 0.3));\n",
              "      fill: #FFFFFF;\n",
              "    }\n",
              "  </style>\n",
              "\n",
              "    <script>\n",
              "      const buttonEl =\n",
              "        document.querySelector('#df-4fd39c21-a43f-4c2f-86a2-9f0b4104b1c9 button.colab-df-convert');\n",
              "      buttonEl.style.display =\n",
              "        google.colab.kernel.accessAllowed ? 'block' : 'none';\n",
              "\n",
              "      async function convertToInteractive(key) {\n",
              "        const element = document.querySelector('#df-4fd39c21-a43f-4c2f-86a2-9f0b4104b1c9');\n",
              "        const dataTable =\n",
              "          await google.colab.kernel.invokeFunction('convertToInteractive',\n",
              "                                                    [key], {});\n",
              "        if (!dataTable) return;\n",
              "\n",
              "        const docLinkHtml = 'Like what you see? Visit the ' +\n",
              "          '<a target=\"_blank\" href=https://colab.research.google.com/notebooks/data_table.ipynb>data table notebook</a>'\n",
              "          + ' to learn more about interactive tables.';\n",
              "        element.innerHTML = '';\n",
              "        dataTable['output_type'] = 'display_data';\n",
              "        await google.colab.output.renderOutput(dataTable, element);\n",
              "        const docLink = document.createElement('div');\n",
              "        docLink.innerHTML = docLinkHtml;\n",
              "        element.appendChild(docLink);\n",
              "      }\n",
              "    </script>\n",
              "  </div>\n",
              "\n",
              "\n",
              "<div id=\"df-66e2600c-e5f8-4f6b-b1b5-6f1ef069004b\">\n",
              "  <button class=\"colab-df-quickchart\" onclick=\"quickchart('df-66e2600c-e5f8-4f6b-b1b5-6f1ef069004b')\"\n",
              "            title=\"Suggest charts\"\n",
              "            style=\"display:none;\">\n",
              "\n",
              "<svg xmlns=\"http://www.w3.org/2000/svg\" height=\"24px\"viewBox=\"0 0 24 24\"\n",
              "     width=\"24px\">\n",
              "    <g>\n",
              "        <path d=\"M19 3H5c-1.1 0-2 .9-2 2v14c0 1.1.9 2 2 2h14c1.1 0 2-.9 2-2V5c0-1.1-.9-2-2-2zM9 17H7v-7h2v7zm4 0h-2V7h2v10zm4 0h-2v-4h2v4z\"/>\n",
              "    </g>\n",
              "</svg>\n",
              "  </button>\n",
              "\n",
              "<style>\n",
              "  .colab-df-quickchart {\n",
              "      --bg-color: #E8F0FE;\n",
              "      --fill-color: #1967D2;\n",
              "      --hover-bg-color: #E2EBFA;\n",
              "      --hover-fill-color: #174EA6;\n",
              "      --disabled-fill-color: #AAA;\n",
              "      --disabled-bg-color: #DDD;\n",
              "  }\n",
              "\n",
              "  [theme=dark] .colab-df-quickchart {\n",
              "      --bg-color: #3B4455;\n",
              "      --fill-color: #D2E3FC;\n",
              "      --hover-bg-color: #434B5C;\n",
              "      --hover-fill-color: #FFFFFF;\n",
              "      --disabled-bg-color: #3B4455;\n",
              "      --disabled-fill-color: #666;\n",
              "  }\n",
              "\n",
              "  .colab-df-quickchart {\n",
              "    background-color: var(--bg-color);\n",
              "    border: none;\n",
              "    border-radius: 50%;\n",
              "    cursor: pointer;\n",
              "    display: none;\n",
              "    fill: var(--fill-color);\n",
              "    height: 32px;\n",
              "    padding: 0;\n",
              "    width: 32px;\n",
              "  }\n",
              "\n",
              "  .colab-df-quickchart:hover {\n",
              "    background-color: var(--hover-bg-color);\n",
              "    box-shadow: 0 1px 2px rgba(60, 64, 67, 0.3), 0 1px 3px 1px rgba(60, 64, 67, 0.15);\n",
              "    fill: var(--button-hover-fill-color);\n",
              "  }\n",
              "\n",
              "  .colab-df-quickchart-complete:disabled,\n",
              "  .colab-df-quickchart-complete:disabled:hover {\n",
              "    background-color: var(--disabled-bg-color);\n",
              "    fill: var(--disabled-fill-color);\n",
              "    box-shadow: none;\n",
              "  }\n",
              "\n",
              "  .colab-df-spinner {\n",
              "    border: 2px solid var(--fill-color);\n",
              "    border-color: transparent;\n",
              "    border-bottom-color: var(--fill-color);\n",
              "    animation:\n",
              "      spin 1s steps(1) infinite;\n",
              "  }\n",
              "\n",
              "  @keyframes spin {\n",
              "    0% {\n",
              "      border-color: transparent;\n",
              "      border-bottom-color: var(--fill-color);\n",
              "      border-left-color: var(--fill-color);\n",
              "    }\n",
              "    20% {\n",
              "      border-color: transparent;\n",
              "      border-left-color: var(--fill-color);\n",
              "      border-top-color: var(--fill-color);\n",
              "    }\n",
              "    30% {\n",
              "      border-color: transparent;\n",
              "      border-left-color: var(--fill-color);\n",
              "      border-top-color: var(--fill-color);\n",
              "      border-right-color: var(--fill-color);\n",
              "    }\n",
              "    40% {\n",
              "      border-color: transparent;\n",
              "      border-right-color: var(--fill-color);\n",
              "      border-top-color: var(--fill-color);\n",
              "    }\n",
              "    60% {\n",
              "      border-color: transparent;\n",
              "      border-right-color: var(--fill-color);\n",
              "    }\n",
              "    80% {\n",
              "      border-color: transparent;\n",
              "      border-right-color: var(--fill-color);\n",
              "      border-bottom-color: var(--fill-color);\n",
              "    }\n",
              "    90% {\n",
              "      border-color: transparent;\n",
              "      border-bottom-color: var(--fill-color);\n",
              "    }\n",
              "  }\n",
              "</style>\n",
              "\n",
              "  <script>\n",
              "    async function quickchart(key) {\n",
              "      const quickchartButtonEl =\n",
              "        document.querySelector('#' + key + ' button');\n",
              "      quickchartButtonEl.disabled = true;  // To prevent multiple clicks.\n",
              "      quickchartButtonEl.classList.add('colab-df-spinner');\n",
              "      try {\n",
              "        const charts = await google.colab.kernel.invokeFunction(\n",
              "            'suggestCharts', [key], {});\n",
              "      } catch (error) {\n",
              "        console.error('Error during call to suggestCharts:', error);\n",
              "      }\n",
              "      quickchartButtonEl.classList.remove('colab-df-spinner');\n",
              "      quickchartButtonEl.classList.add('colab-df-quickchart-complete');\n",
              "    }\n",
              "    (() => {\n",
              "      let quickchartButtonEl =\n",
              "        document.querySelector('#df-66e2600c-e5f8-4f6b-b1b5-6f1ef069004b button');\n",
              "      quickchartButtonEl.style.display =\n",
              "        google.colab.kernel.accessAllowed ? 'block' : 'none';\n",
              "    })();\n",
              "  </script>\n",
              "</div>\n",
              "\n",
              "    </div>\n",
              "  </div>\n"
            ],
            "application/vnd.google.colaboratory.intrinsic+json": {
              "type": "dataframe",
              "variable_name": "weather_df",
              "summary": "{\n  \"name\": \"weather_df\",\n  \"rows\": 365,\n  \"fields\": [\n    {\n      \"column\": \"date\",\n      \"properties\": {\n        \"dtype\": \"object\",\n        \"min\": \"1/1/2022\",\n        \"max\": \"9/9/2022\",\n        \"samples\": [\n          \"7/13/2022\",\n          \"2/3/2022\",\n          \"1/16/2022\"\n        ],\n        \"num_unique_values\": 365,\n        \"semantic_type\": \"\",\n        \"description\": \"\"\n      }\n    },\n    {\n      \"column\": \"actual_mean_temp\",\n      \"properties\": {\n        \"dtype\": \"number\",\n        \"std\": 18,\n        \"min\": 10,\n        \"max\": 86,\n        \"samples\": [\n          20,\n          83,\n          32\n        ],\n        \"num_unique_values\": 72,\n        \"semantic_type\": \"\",\n        \"description\": \"\"\n      }\n    },\n    {\n      \"column\": \"actual_min_temp\",\n      \"properties\": {\n        \"dtype\": \"number\",\n        \"std\": 18,\n        \"min\": 2,\n        \"max\": 77,\n        \"samples\": [\n          8,\n          28,\n          69\n        ],\n        \"num_unique_values\": 70,\n        \"semantic_type\": \"\",\n        \"description\": \"\"\n      }\n    },\n    {\n      \"column\": \"actual_max_temp\",\n      \"properties\": {\n        \"dtype\": \"number\",\n        \"std\": 19,\n        \"min\": 17,\n        \"max\": 96,\n        \"samples\": [\n          24,\n          89,\n          35\n        ],\n        \"num_unique_values\": 74,\n        \"semantic_type\": \"\",\n        \"description\": \"\"\n      }\n    },\n    {\n      \"column\": \"average_min_temp\",\n      \"properties\": {\n        \"dtype\": \"number\",\n        \"std\": 15,\n        \"min\": 25,\n        \"max\": 70,\n        \"samples\": [\n          64,\n          50,\n          51\n        ],\n        \"num_unique_values\": 46,\n        \"semantic_type\": \"\",\n        \"description\": \"\"\n      }\n    },\n    {\n      \"column\": \"average_max_temp\",\n      \"properties\": {\n        \"dtype\": \"number\",\n        \"std\": 16,\n        \"min\": 40,\n        \"max\": 87,\n        \"samples\": [\n          67,\n          80,\n          66\n        ],\n        \"num_unique_values\": 48,\n        \"semantic_type\": \"\",\n        \"description\": \"\"\n      }\n    },\n    {\n      \"column\": \"record_min_temp\",\n      \"properties\": {\n        \"dtype\": \"number\",\n        \"std\": 19,\n        \"min\": -11,\n        \"max\": 59,\n        \"samples\": [\n          44,\n          10,\n          -2\n        ],\n        \"num_unique_values\": 68,\n        \"semantic_type\": \"\",\n        \"description\": \"\"\n      }\n    },\n    {\n      \"column\": \"record_max_temp\",\n      \"properties\": {\n        \"dtype\": \"number\",\n        \"std\": 12,\n        \"min\": 61,\n        \"max\": 106,\n        \"samples\": [\n          99,\n          78,\n          87\n        ],\n        \"num_unique_values\": 45,\n        \"semantic_type\": \"\",\n        \"description\": \"\"\n      }\n    },\n    {\n      \"column\": \"record_min_temp_year\",\n      \"properties\": {\n        \"dtype\": \"number\",\n        \"std\": 35,\n        \"min\": 1872,\n        \"max\": 2014,\n        \"samples\": [\n          1952,\n          1897,\n          2002\n        ],\n        \"num_unique_values\": 101,\n        \"semantic_type\": \"\",\n        \"description\": \"\"\n      }\n    },\n    {\n      \"column\": \"record_max_temp_year\",\n      \"properties\": {\n        \"dtype\": \"number\",\n        \"std\": 35,\n        \"min\": 1874,\n        \"max\": 2014,\n        \"samples\": [\n          1883,\n          1932,\n          1997\n        ],\n        \"num_unique_values\": 106,\n        \"semantic_type\": \"\",\n        \"description\": \"\"\n      }\n    },\n    {\n      \"column\": \"actual_precipitation\",\n      \"properties\": {\n        \"dtype\": \"number\",\n        \"std\": 0.30421602725513675,\n        \"min\": 0.0,\n        \"max\": 2.01,\n        \"samples\": [\n          0.36,\n          0.44,\n          0.0\n        ],\n        \"num_unique_values\": 65,\n        \"semantic_type\": \"\",\n        \"description\": \"\"\n      }\n    },\n    {\n      \"column\": \"average_precipitation\",\n      \"properties\": {\n        \"dtype\": \"number\",\n        \"std\": 0.015279669908391622,\n        \"min\": 0.08,\n        \"max\": 0.15,\n        \"samples\": [\n          0.1,\n          0.14,\n          0.09\n        ],\n        \"num_unique_values\": 8,\n        \"semantic_type\": \"\",\n        \"description\": \"\"\n      }\n    },\n    {\n      \"column\": \"record_precipitation\",\n      \"properties\": {\n        \"dtype\": \"number\",\n        \"std\": 0.9315596788155561,\n        \"min\": 0.85,\n        \"max\": 8.02,\n        \"samples\": [\n          5.63,\n          2.12,\n          1.66\n        ],\n        \"num_unique_values\": 196,\n        \"semantic_type\": \"\",\n        \"description\": \"\"\n      }\n    }\n  ]\n}"
            }
          },
          "metadata": {},
          "execution_count": 522
        }
      ],
      "source": [
        "# TODO: view `weather_df` (just the first 5 rows with .head() is fine)to make sure the import was successful\n",
        "weather_df.head()"
      ]
    },
    {
      "cell_type": "code",
      "source": [
        "# TODO: view `reviews_df` (just the first 5 rows with .head() is fine)to make sure the import was successful\n",
        "reviews_df.head()"
      ],
      "metadata": {
        "id": "FuxEO2U6VCNA",
        "colab": {
          "base_uri": "https://localhost:8080/",
          "height": 206
        },
        "outputId": "cb0ae370-c420-4d06-9bcc-73c5e138a76f"
      },
      "execution_count": 523,
      "outputs": [
        {
          "output_type": "execute_result",
          "data": {
            "text/plain": [
              "          restaurant                                             review  zone\n",
              "0  Gloria Restaurant  Today is the third time I've come to Gloria Re...     1\n",
              "1  Gloria Restaurant  I have been to Gloria Restaurant a couple time...     1\n",
              "2  Gloria Restaurant  Last Saturday I went to this restaurant hoping...     1\n",
              "3  Gloria Restaurant  First off, let me say I have never been to the...     1\n",
              "4  Gloria Restaurant  I've been coming here for a while now and I wa...     1"
            ],
            "text/html": [
              "\n",
              "  <div id=\"df-422f3f1a-8d9e-40f4-a6e0-8176b603ef41\" class=\"colab-df-container\">\n",
              "    <div>\n",
              "<style scoped>\n",
              "    .dataframe tbody tr th:only-of-type {\n",
              "        vertical-align: middle;\n",
              "    }\n",
              "\n",
              "    .dataframe tbody tr th {\n",
              "        vertical-align: top;\n",
              "    }\n",
              "\n",
              "    .dataframe thead th {\n",
              "        text-align: right;\n",
              "    }\n",
              "</style>\n",
              "<table border=\"1\" class=\"dataframe\">\n",
              "  <thead>\n",
              "    <tr style=\"text-align: right;\">\n",
              "      <th></th>\n",
              "      <th>restaurant</th>\n",
              "      <th>review</th>\n",
              "      <th>zone</th>\n",
              "    </tr>\n",
              "  </thead>\n",
              "  <tbody>\n",
              "    <tr>\n",
              "      <th>0</th>\n",
              "      <td>Gloria Restaurant</td>\n",
              "      <td>Today is the third time I've come to Gloria Re...</td>\n",
              "      <td>1</td>\n",
              "    </tr>\n",
              "    <tr>\n",
              "      <th>1</th>\n",
              "      <td>Gloria Restaurant</td>\n",
              "      <td>I have been to Gloria Restaurant a couple time...</td>\n",
              "      <td>1</td>\n",
              "    </tr>\n",
              "    <tr>\n",
              "      <th>2</th>\n",
              "      <td>Gloria Restaurant</td>\n",
              "      <td>Last Saturday I went to this restaurant hoping...</td>\n",
              "      <td>1</td>\n",
              "    </tr>\n",
              "    <tr>\n",
              "      <th>3</th>\n",
              "      <td>Gloria Restaurant</td>\n",
              "      <td>First off, let me say I have never been to the...</td>\n",
              "      <td>1</td>\n",
              "    </tr>\n",
              "    <tr>\n",
              "      <th>4</th>\n",
              "      <td>Gloria Restaurant</td>\n",
              "      <td>I've been coming here for a while now and I wa...</td>\n",
              "      <td>1</td>\n",
              "    </tr>\n",
              "  </tbody>\n",
              "</table>\n",
              "</div>\n",
              "    <div class=\"colab-df-buttons\">\n",
              "\n",
              "  <div class=\"colab-df-container\">\n",
              "    <button class=\"colab-df-convert\" onclick=\"convertToInteractive('df-422f3f1a-8d9e-40f4-a6e0-8176b603ef41')\"\n",
              "            title=\"Convert this dataframe to an interactive table.\"\n",
              "            style=\"display:none;\">\n",
              "\n",
              "  <svg xmlns=\"http://www.w3.org/2000/svg\" height=\"24px\" viewBox=\"0 -960 960 960\">\n",
              "    <path d=\"M120-120v-720h720v720H120Zm60-500h600v-160H180v160Zm220 220h160v-160H400v160Zm0 220h160v-160H400v160ZM180-400h160v-160H180v160Zm440 0h160v-160H620v160ZM180-180h160v-160H180v160Zm440 0h160v-160H620v160Z\"/>\n",
              "  </svg>\n",
              "    </button>\n",
              "\n",
              "  <style>\n",
              "    .colab-df-container {\n",
              "      display:flex;\n",
              "      gap: 12px;\n",
              "    }\n",
              "\n",
              "    .colab-df-convert {\n",
              "      background-color: #E8F0FE;\n",
              "      border: none;\n",
              "      border-radius: 50%;\n",
              "      cursor: pointer;\n",
              "      display: none;\n",
              "      fill: #1967D2;\n",
              "      height: 32px;\n",
              "      padding: 0 0 0 0;\n",
              "      width: 32px;\n",
              "    }\n",
              "\n",
              "    .colab-df-convert:hover {\n",
              "      background-color: #E2EBFA;\n",
              "      box-shadow: 0px 1px 2px rgba(60, 64, 67, 0.3), 0px 1px 3px 1px rgba(60, 64, 67, 0.15);\n",
              "      fill: #174EA6;\n",
              "    }\n",
              "\n",
              "    .colab-df-buttons div {\n",
              "      margin-bottom: 4px;\n",
              "    }\n",
              "\n",
              "    [theme=dark] .colab-df-convert {\n",
              "      background-color: #3B4455;\n",
              "      fill: #D2E3FC;\n",
              "    }\n",
              "\n",
              "    [theme=dark] .colab-df-convert:hover {\n",
              "      background-color: #434B5C;\n",
              "      box-shadow: 0px 1px 3px 1px rgba(0, 0, 0, 0.15);\n",
              "      filter: drop-shadow(0px 1px 2px rgba(0, 0, 0, 0.3));\n",
              "      fill: #FFFFFF;\n",
              "    }\n",
              "  </style>\n",
              "\n",
              "    <script>\n",
              "      const buttonEl =\n",
              "        document.querySelector('#df-422f3f1a-8d9e-40f4-a6e0-8176b603ef41 button.colab-df-convert');\n",
              "      buttonEl.style.display =\n",
              "        google.colab.kernel.accessAllowed ? 'block' : 'none';\n",
              "\n",
              "      async function convertToInteractive(key) {\n",
              "        const element = document.querySelector('#df-422f3f1a-8d9e-40f4-a6e0-8176b603ef41');\n",
              "        const dataTable =\n",
              "          await google.colab.kernel.invokeFunction('convertToInteractive',\n",
              "                                                    [key], {});\n",
              "        if (!dataTable) return;\n",
              "\n",
              "        const docLinkHtml = 'Like what you see? Visit the ' +\n",
              "          '<a target=\"_blank\" href=https://colab.research.google.com/notebooks/data_table.ipynb>data table notebook</a>'\n",
              "          + ' to learn more about interactive tables.';\n",
              "        element.innerHTML = '';\n",
              "        dataTable['output_type'] = 'display_data';\n",
              "        await google.colab.output.renderOutput(dataTable, element);\n",
              "        const docLink = document.createElement('div');\n",
              "        docLink.innerHTML = docLinkHtml;\n",
              "        element.appendChild(docLink);\n",
              "      }\n",
              "    </script>\n",
              "  </div>\n",
              "\n",
              "\n",
              "<div id=\"df-5222710d-2704-400e-a722-fe5a3fc36ed5\">\n",
              "  <button class=\"colab-df-quickchart\" onclick=\"quickchart('df-5222710d-2704-400e-a722-fe5a3fc36ed5')\"\n",
              "            title=\"Suggest charts\"\n",
              "            style=\"display:none;\">\n",
              "\n",
              "<svg xmlns=\"http://www.w3.org/2000/svg\" height=\"24px\"viewBox=\"0 0 24 24\"\n",
              "     width=\"24px\">\n",
              "    <g>\n",
              "        <path d=\"M19 3H5c-1.1 0-2 .9-2 2v14c0 1.1.9 2 2 2h14c1.1 0 2-.9 2-2V5c0-1.1-.9-2-2-2zM9 17H7v-7h2v7zm4 0h-2V7h2v10zm4 0h-2v-4h2v4z\"/>\n",
              "    </g>\n",
              "</svg>\n",
              "  </button>\n",
              "\n",
              "<style>\n",
              "  .colab-df-quickchart {\n",
              "      --bg-color: #E8F0FE;\n",
              "      --fill-color: #1967D2;\n",
              "      --hover-bg-color: #E2EBFA;\n",
              "      --hover-fill-color: #174EA6;\n",
              "      --disabled-fill-color: #AAA;\n",
              "      --disabled-bg-color: #DDD;\n",
              "  }\n",
              "\n",
              "  [theme=dark] .colab-df-quickchart {\n",
              "      --bg-color: #3B4455;\n",
              "      --fill-color: #D2E3FC;\n",
              "      --hover-bg-color: #434B5C;\n",
              "      --hover-fill-color: #FFFFFF;\n",
              "      --disabled-bg-color: #3B4455;\n",
              "      --disabled-fill-color: #666;\n",
              "  }\n",
              "\n",
              "  .colab-df-quickchart {\n",
              "    background-color: var(--bg-color);\n",
              "    border: none;\n",
              "    border-radius: 50%;\n",
              "    cursor: pointer;\n",
              "    display: none;\n",
              "    fill: var(--fill-color);\n",
              "    height: 32px;\n",
              "    padding: 0;\n",
              "    width: 32px;\n",
              "  }\n",
              "\n",
              "  .colab-df-quickchart:hover {\n",
              "    background-color: var(--hover-bg-color);\n",
              "    box-shadow: 0 1px 2px rgba(60, 64, 67, 0.3), 0 1px 3px 1px rgba(60, 64, 67, 0.15);\n",
              "    fill: var(--button-hover-fill-color);\n",
              "  }\n",
              "\n",
              "  .colab-df-quickchart-complete:disabled,\n",
              "  .colab-df-quickchart-complete:disabled:hover {\n",
              "    background-color: var(--disabled-bg-color);\n",
              "    fill: var(--disabled-fill-color);\n",
              "    box-shadow: none;\n",
              "  }\n",
              "\n",
              "  .colab-df-spinner {\n",
              "    border: 2px solid var(--fill-color);\n",
              "    border-color: transparent;\n",
              "    border-bottom-color: var(--fill-color);\n",
              "    animation:\n",
              "      spin 1s steps(1) infinite;\n",
              "  }\n",
              "\n",
              "  @keyframes spin {\n",
              "    0% {\n",
              "      border-color: transparent;\n",
              "      border-bottom-color: var(--fill-color);\n",
              "      border-left-color: var(--fill-color);\n",
              "    }\n",
              "    20% {\n",
              "      border-color: transparent;\n",
              "      border-left-color: var(--fill-color);\n",
              "      border-top-color: var(--fill-color);\n",
              "    }\n",
              "    30% {\n",
              "      border-color: transparent;\n",
              "      border-left-color: var(--fill-color);\n",
              "      border-top-color: var(--fill-color);\n",
              "      border-right-color: var(--fill-color);\n",
              "    }\n",
              "    40% {\n",
              "      border-color: transparent;\n",
              "      border-right-color: var(--fill-color);\n",
              "      border-top-color: var(--fill-color);\n",
              "    }\n",
              "    60% {\n",
              "      border-color: transparent;\n",
              "      border-right-color: var(--fill-color);\n",
              "    }\n",
              "    80% {\n",
              "      border-color: transparent;\n",
              "      border-right-color: var(--fill-color);\n",
              "      border-bottom-color: var(--fill-color);\n",
              "    }\n",
              "    90% {\n",
              "      border-color: transparent;\n",
              "      border-bottom-color: var(--fill-color);\n",
              "    }\n",
              "  }\n",
              "</style>\n",
              "\n",
              "  <script>\n",
              "    async function quickchart(key) {\n",
              "      const quickchartButtonEl =\n",
              "        document.querySelector('#' + key + ' button');\n",
              "      quickchartButtonEl.disabled = true;  // To prevent multiple clicks.\n",
              "      quickchartButtonEl.classList.add('colab-df-spinner');\n",
              "      try {\n",
              "        const charts = await google.colab.kernel.invokeFunction(\n",
              "            'suggestCharts', [key], {});\n",
              "      } catch (error) {\n",
              "        console.error('Error during call to suggestCharts:', error);\n",
              "      }\n",
              "      quickchartButtonEl.classList.remove('colab-df-spinner');\n",
              "      quickchartButtonEl.classList.add('colab-df-quickchart-complete');\n",
              "    }\n",
              "    (() => {\n",
              "      let quickchartButtonEl =\n",
              "        document.querySelector('#df-5222710d-2704-400e-a722-fe5a3fc36ed5 button');\n",
              "      quickchartButtonEl.style.display =\n",
              "        google.colab.kernel.accessAllowed ? 'block' : 'none';\n",
              "    })();\n",
              "  </script>\n",
              "</div>\n",
              "\n",
              "    </div>\n",
              "  </div>\n"
            ],
            "application/vnd.google.colaboratory.intrinsic+json": {
              "type": "dataframe",
              "variable_name": "reviews_df",
              "summary": "{\n  \"name\": \"reviews_df\",\n  \"rows\": 110,\n  \"fields\": [\n    {\n      \"column\": \"restaurant\",\n      \"properties\": {\n        \"dtype\": \"category\",\n        \"samples\": [\n          \"Gloria Restaurant\\r\",\n          \"Rose Restaurant\",\n          \"Gloria Restaurant\"\n        ],\n        \"num_unique_values\": 4,\n        \"semantic_type\": \"\",\n        \"description\": \"\"\n      }\n    },\n    {\n      \"column\": \"review\",\n      \"properties\": {\n        \"dtype\": \"string\",\n        \"samples\": [\n          \"Rose Restaurant is my go to place for getting Indian food. I am not a fan of spicy food, so I did not like Indian food as it is mostly very spicy. However, this place has less spice and more flavor of the food. These guys have successfully modified the Indian dish into a Indian-American style of food. This will let a lot of people who cannot eat spicy food, get a taste of mouth-watering Indian dishes.\",\n          \"Lot a great place for meat lovers. They have a lot of vegetarian options. All their dishes are highly priced. To be honest, I don't want to spend $15 dollars for a vegetarian dish. I got a chicken Biryani and my wife tried gave a try to a vegetarian dish. I was really disappointed as I could instantly tell that the meat had a really bad smell. My wife also hated her dish and also found hair in her food. They have a lot to improve here.\",\n          \"I've been coming here for a while now and I want to take the time and share my thoughts about Gloria Restaurant. The food is always great here but what really stands out is how friendly the owner is. He greets us with such a welcoming cheer. I highly recommend this place for lunch buffet and dinner. The food is always fresh and delicious. Go out and try something different. You won't regret it!\"\n        ],\n        \"num_unique_values\": 108,\n        \"semantic_type\": \"\",\n        \"description\": \"\"\n      }\n    },\n    {\n      \"column\": \"zone\",\n      \"properties\": {\n        \"dtype\": \"number\",\n        \"std\": 0,\n        \"min\": 1,\n        \"max\": 3,\n        \"samples\": [\n          1,\n          3,\n          2\n        ],\n        \"num_unique_values\": 3,\n        \"semantic_type\": \"\",\n        \"description\": \"\"\n      }\n    }\n  ]\n}"
            }
          },
          "metadata": {},
          "execution_count": 523
        }
      ]
    },
    {
      "cell_type": "markdown",
      "metadata": {
        "id": "CPitr7eRJfO0"
      },
      "source": [
        "### 1.1 Data Preprocessing\n",
        "\n",
        "Next, we are going to want to clean up our dataframes, namely `trips_df` and `stations_df`, by\n",
        "\n",
        "1.   Fixing columns\n",
        "2.   Changing datatypes\n",
        "3.   Handling nulls\n",
        "\n",
        "\n",
        "First, let us view the first few rows of `trips_df`. You may also call `.info()` and additionally check the cardinality of each column to view the specifics of the dataframe. This is a good first step to take for Exploratory Data Analysis (EDA)."
      ]
    },
    {
      "cell_type": "code",
      "execution_count": 524,
      "metadata": {
        "id": "2nCrp9Z2SCRD",
        "colab": {
          "base_uri": "https://localhost:8080/"
        },
        "outputId": "ee7a19a4-450e-4854-dfc7-235b683c19b7"
      },
      "outputs": [
        {
          "output_type": "stream",
          "name": "stdout",
          "text": [
            "<class 'pandas.core.frame.DataFrame'>\n",
            "RangeIndex: 15502 entries, 0 to 15501\n",
            "Data columns (total 15 columns):\n",
            " #   Column               Non-Null Count  Dtype  \n",
            "---  ------               --------------  -----  \n",
            " 0   trip_id              15502 non-null  int64  \n",
            " 1   duration             15502 non-null  int64  \n",
            " 2   start_time           15502 non-null  object \n",
            " 3   end_time             15502 non-null  object \n",
            " 4   start_station        15477 non-null  float64\n",
            " 5   start_lat            15477 non-null  float64\n",
            " 6   start_lon            15477 non-null  float64\n",
            " 7   end_station          15477 non-null  float64\n",
            " 8   end_lat              15255 non-null  float64\n",
            " 9   end_lon              15255 non-null  float64\n",
            " 10  bike_id              15477 non-null  object \n",
            " 11  plan_duration        15477 non-null  float64\n",
            " 12  trip_route_category  15477 non-null  object \n",
            " 13  passholder_type      15477 non-null  object \n",
            " 14  bike_type            15477 non-null  object \n",
            "dtypes: float64(7), int64(2), object(6)\n",
            "memory usage: 1.8+ MB\n"
          ]
        }
      ],
      "source": [
        "# view the .info() information for trips_df\n",
        "trips_df.info()"
      ]
    },
    {
      "cell_type": "markdown",
      "metadata": {
        "id": "c-ukI21sPkYV"
      },
      "source": [
        "#### 1.1.1 Cleaning `trips_df` (5 points)\n",
        "\n",
        "`.info()` gives us meaningful information regarding columns, their types, and the amount of nulls, based on which we can now clean our dataframe.\n",
        "\n",
        "Perform these steps and save results on a new dataframe: `trips_cleaned_df`\n",
        "\n",
        "**TODO**:\n",
        "* Drop the column `plan_duration`. We already have that information in the column `passholder_type`, which is more understandable.\n",
        "* Drop the rows where `end_station` is 3000. This is a virtual station used for maintainance, and doesn't represent a real trip.\n",
        "* Drop all rows with null values.\n",
        "* Cast the columns:\n",
        "  -  `start_time`, `end_time`, `trip_route_category`, `passholder_type`, `bike_type` as **string**. (Cast to 'string' and not 'str')\n",
        "  - `bike_id` as **int**.\n",
        "* Save results as `trips_cleaned_df` and sort it by `trip_id` ascending\n",
        "\n",
        "After performing these steps, `trips_cleaned_df` should have the following schema:\n",
        "\n",
        "**Final Schema**:\n",
        ">trip_id | duration | start_time | end_time | start_station | start_lat | start_lon | end_station |  end_lat | end_lon |  bike_id | trip_route_category | passholder_type | bike_type\n",
        ">--- | --- | --- |--- | --- | --- | --- |--- | --- | --- |--- |--- | --- | --- |"
      ]
    },
    {
      "cell_type": "code",
      "execution_count": 525,
      "metadata": {
        "id": "cMmQTXV7P4YK"
      },
      "outputs": [],
      "source": [
        "# TO-DO: drop the plan_duration column\n",
        "trips_df.drop(columns=[\"plan_duration\"], inplace=True)"
      ]
    },
    {
      "cell_type": "code",
      "source": [
        "# TO-DO: drop rows with end_station = 3000\n",
        "trips_df = trips_df[trips_df[\"end_station\"] != 3000]\n"
      ],
      "metadata": {
        "id": "4QDdAb9es2Lw"
      },
      "execution_count": 526,
      "outputs": []
    },
    {
      "cell_type": "code",
      "source": [
        "# TO-DO: drop nulls\n",
        "trips_df.dropna(inplace=True)"
      ],
      "metadata": {
        "id": "TZmxq-d_s1zR",
        "colab": {
          "base_uri": "https://localhost:8080/"
        },
        "outputId": "c5f8a9a7-f3d2-49a4-93f8-4014b0d2b5c4"
      },
      "execution_count": 527,
      "outputs": [
        {
          "output_type": "stream",
          "name": "stderr",
          "text": [
            "<ipython-input-527-3eae61ea3822>:2: SettingWithCopyWarning: \n",
            "A value is trying to be set on a copy of a slice from a DataFrame\n",
            "\n",
            "See the caveats in the documentation: https://pandas.pydata.org/pandas-docs/stable/user_guide/indexing.html#returning-a-view-versus-a-copy\n",
            "  trips_df.dropna(inplace=True)\n"
          ]
        }
      ]
    },
    {
      "cell_type": "code",
      "source": [
        "# TO-DO: cast columns as indicated types\n",
        "trips_df[\"start_time\"] = trips_df[\"start_time\"].astype(str)\n",
        "trips_df[\"end_time\"] = trips_df[\"end_time\"].astype(str)\n",
        "trips_df[\"trip_route_category\"] = trips_df[\"trip_route_category\"].astype(str)\n",
        "trips_df[\"passholder_type\"] = trips_df[\"passholder_type\"].astype(str)\n",
        "trips_df[\"bike_type\"] = trips_df[\"bike_type\"].astype(str)\n",
        "trips_df[\"bike_id\"] = trips_df[\"bike_id\"].astype(int)"
      ],
      "metadata": {
        "id": "gwmG8EDds1VH",
        "colab": {
          "base_uri": "https://localhost:8080/"
        },
        "outputId": "76f3ca71-9865-44a3-addb-3ad9d2e9b959"
      },
      "execution_count": 528,
      "outputs": [
        {
          "output_type": "stream",
          "name": "stderr",
          "text": [
            "<ipython-input-528-44219497d634>:2: SettingWithCopyWarning: \n",
            "A value is trying to be set on a copy of a slice from a DataFrame.\n",
            "Try using .loc[row_indexer,col_indexer] = value instead\n",
            "\n",
            "See the caveats in the documentation: https://pandas.pydata.org/pandas-docs/stable/user_guide/indexing.html#returning-a-view-versus-a-copy\n",
            "  trips_df[\"start_time\"] = trips_df[\"start_time\"].astype(str)\n",
            "<ipython-input-528-44219497d634>:3: SettingWithCopyWarning: \n",
            "A value is trying to be set on a copy of a slice from a DataFrame.\n",
            "Try using .loc[row_indexer,col_indexer] = value instead\n",
            "\n",
            "See the caveats in the documentation: https://pandas.pydata.org/pandas-docs/stable/user_guide/indexing.html#returning-a-view-versus-a-copy\n",
            "  trips_df[\"end_time\"] = trips_df[\"end_time\"].astype(str)\n",
            "<ipython-input-528-44219497d634>:4: SettingWithCopyWarning: \n",
            "A value is trying to be set on a copy of a slice from a DataFrame.\n",
            "Try using .loc[row_indexer,col_indexer] = value instead\n",
            "\n",
            "See the caveats in the documentation: https://pandas.pydata.org/pandas-docs/stable/user_guide/indexing.html#returning-a-view-versus-a-copy\n",
            "  trips_df[\"trip_route_category\"] = trips_df[\"trip_route_category\"].astype(str)\n",
            "<ipython-input-528-44219497d634>:5: SettingWithCopyWarning: \n",
            "A value is trying to be set on a copy of a slice from a DataFrame.\n",
            "Try using .loc[row_indexer,col_indexer] = value instead\n",
            "\n",
            "See the caveats in the documentation: https://pandas.pydata.org/pandas-docs/stable/user_guide/indexing.html#returning-a-view-versus-a-copy\n",
            "  trips_df[\"passholder_type\"] = trips_df[\"passholder_type\"].astype(str)\n",
            "<ipython-input-528-44219497d634>:6: SettingWithCopyWarning: \n",
            "A value is trying to be set on a copy of a slice from a DataFrame.\n",
            "Try using .loc[row_indexer,col_indexer] = value instead\n",
            "\n",
            "See the caveats in the documentation: https://pandas.pydata.org/pandas-docs/stable/user_guide/indexing.html#returning-a-view-versus-a-copy\n",
            "  trips_df[\"bike_type\"] = trips_df[\"bike_type\"].astype(str)\n",
            "<ipython-input-528-44219497d634>:7: SettingWithCopyWarning: \n",
            "A value is trying to be set on a copy of a slice from a DataFrame.\n",
            "Try using .loc[row_indexer,col_indexer] = value instead\n",
            "\n",
            "See the caveats in the documentation: https://pandas.pydata.org/pandas-docs/stable/user_guide/indexing.html#returning-a-view-versus-a-copy\n",
            "  trips_df[\"bike_id\"] = trips_df[\"bike_id\"].astype(int)\n"
          ]
        }
      ]
    },
    {
      "cell_type": "code",
      "source": [
        "# Sort by trip_id ascending\n",
        "trips_df.sort_values(by=\"trip_id\", ascending=True, inplace=True)\n"
      ],
      "metadata": {
        "colab": {
          "base_uri": "https://localhost:8080/"
        },
        "id": "yGSkGEZUrR3E",
        "outputId": "399b0361-2b7e-4341-a722-8bdd07d7eec0"
      },
      "execution_count": 529,
      "outputs": [
        {
          "output_type": "stream",
          "name": "stderr",
          "text": [
            "<ipython-input-529-23c99392645b>:2: SettingWithCopyWarning: \n",
            "A value is trying to be set on a copy of a slice from a DataFrame\n",
            "\n",
            "See the caveats in the documentation: https://pandas.pydata.org/pandas-docs/stable/user_guide/indexing.html#returning-a-view-versus-a-copy\n",
            "  trips_df.sort_values(by=\"trip_id\", ascending=True, inplace=True)\n"
          ]
        }
      ]
    },
    {
      "cell_type": "code",
      "source": [
        "#TO-DO: save changes to trips_cleaned_df that is sorted by 'trip_id'\n",
        "# Display the first few rows of cleaned trips_df\n",
        "print(\"\\nCleaned trips_df:\")\n",
        "print(trips_df.head())"
      ],
      "metadata": {
        "id": "XTOBCFtPROG-",
        "colab": {
          "base_uri": "https://localhost:8080/"
        },
        "outputId": "b9cc6cf3-828c-41d9-a197-6eb907fde8df"
      },
      "execution_count": 530,
      "outputs": [
        {
          "output_type": "stream",
          "name": "stdout",
          "text": [
            "\n",
            "Cleaned trips_df:\n",
            "      trip_id  duration      start_time        end_time  start_station  \\\n",
            "68  536546924         3  10/1/2022 1:50  10/1/2022 1:53         3188.0   \n",
            "67  536546925         3  10/1/2022 1:50  10/1/2022 1:53         3188.0   \n",
            "66  536546927         7  10/1/2022 1:48  10/1/2022 1:55         3010.0   \n",
            "65  536546929         7  10/1/2022 1:48  10/1/2022 1:55         3010.0   \n",
            "63  536546932         6  10/1/2022 1:41  10/1/2022 1:47         3004.0   \n",
            "\n",
            "    start_lat  start_lon  end_station    end_lat    end_lon  bike_id  \\\n",
            "68  39.904709 -75.173401       3188.0  39.904709 -75.173401    11708   \n",
            "67  39.904709 -75.173401       3188.0  39.904709 -75.173401     3483   \n",
            "66  39.947109 -75.166183       3064.0  39.938400 -75.173271    14655   \n",
            "65  39.947109 -75.166183       3064.0  39.938400 -75.173271    12987   \n",
            "63  39.953781 -75.163742       3206.0  39.951740 -75.170631    22554   \n",
            "\n",
            "   trip_route_category passholder_type bike_type  \n",
            "68          Round Trip        Indego30  standard  \n",
            "67          Round Trip        Indego30  standard  \n",
            "66             One Way        Indego30  standard  \n",
            "65             One Way        Indego30  standard  \n",
            "63             One Way        Day Pass  electric  \n"
          ]
        }
      ]
    },
    {
      "cell_type": "code",
      "source": [
        "# Save the cleaned datasets as CSV files\n",
        "trips_df.to_csv(\"trips_cleaned.csv\", index=False)"
      ],
      "metadata": {
        "id": "qzn27o_js3sU"
      },
      "execution_count": 531,
      "outputs": []
    },
    {
      "cell_type": "code",
      "source": [
        "trips_cleaned_df = pd.read_csv('/content/trips_cleaned.csv')\n",
        "# 5 points\n",
        "grader.grade(test_case_id = 'test_cleaning_trips', answer = [len(trips_cleaned_df), trips_cleaned_df.head().reset_index(drop=True)])\n"
      ],
      "metadata": {
        "colab": {
          "base_uri": "https://localhost:8080/"
        },
        "id": "RttrAqlnt-69",
        "outputId": "eade4b4c-87b3-4375-9cf1-d5b1e08c3171"
      },
      "execution_count": 532,
      "outputs": [
        {
          "output_type": "stream",
          "name": "stdout",
          "text": [
            "You earned 4/5 points.\n",
            "\n",
            "Please confirm your column types are correct.\n",
            "Don't worry, you can re-submit and we will keep only your latest score.\n"
          ]
        }
      ]
    },
    {
      "cell_type": "markdown",
      "metadata": {
        "id": "aI_zsI3hNJCf"
      },
      "source": [
        "#### 1.1.2 Processing Stations (5 points)\n",
        "\n",
        "`stations_df` contains information on Indego stations across the city. We will clean this df by removing Inactive stations and stations created after October 2022.\n",
        "\n",
        "Perform these steps and assign the cleaned dataframe to `stations_cleaned_df`.\n",
        "\n",
        "**TODO**:\n",
        "* **Cast** column `day_of_go_live_date` as datetime64[ns].\n",
        "* **Drop** the stations that were created **after 10/7/2022** (i.e. we want to keep the ones on or before 10/7/2022)\n",
        "* **Drop** the stations that have an **Inactive** status.\n",
        "* **Drop** the columns `day_of_go_live_date` and `status`\n",
        "* **Create** a new column called `is_west_philly` that is True if zone is 2 or 3 and False otherwise.\n",
        "* **Save** the resulting dataframe as `stations_cleaned_df`, and sort it by `station_id` ascending\n",
        "\n",
        "\n",
        "After performing these steps, `stations_cleaned_df` should have the following schema:\n",
        "\n",
        "**Final Schema**:\n",
        ">station_id | station_name | zone | is_west_philly\n",
        ">--- | --- | --- |--- |"
      ]
    },
    {
      "cell_type": "code",
      "execution_count": 533,
      "metadata": {
        "id": "ZOfBFzD7NK8i",
        "colab": {
          "base_uri": "https://localhost:8080/"
        },
        "outputId": "40ffcc7b-34f6-43d7-f6b9-c701d8cd6955"
      },
      "outputs": [
        {
          "output_type": "stream",
          "name": "stdout",
          "text": [
            "\n",
            "Cleaned stations_df:\n",
            "   station_id                       station_name  zone  is_west_philly\n",
            "0        3000                    Virtual Station     0           False\n",
            "1        3004  Municipal Services Building Plaza     0           False\n",
            "2        3005                  Welcome Park, NPS     0           False\n",
            "3        3006                      40th & Spruce     2            True\n",
            "4        3007             11th & Pine, Kahn Park     0           False\n"
          ]
        }
      ],
      "source": [
        "# TO-DO: Your code goes below. We recommend creating code comments for each of the bullets above (like we did for you in 1.1.1)\n",
        "# Data preprocessing for stations_df\n",
        "# Cast column day_of_go_live_date as datetime64[ns]\n",
        "stations_df[\"day_of_go_live_date\"] = pd.to_datetime(stations_df[\"day_of_go_live_date\"])\n",
        "\n",
        "# Drop stations created after 10/7/2022\n",
        "stations_df = stations_df[stations_df[\"day_of_go_live_date\"] <= \"2022-10-07\"]\n",
        "\n",
        "# Drop stations with an Inactive status\n",
        "stations_df = stations_df[stations_df[\"status\"] == \"Active\"]\n",
        "\n",
        "# Drop columns day_of_go_live_date and status\n",
        "stations_df.drop(columns=[\"day_of_go_live_date\", \"status\"], inplace=True)\n",
        "\n",
        "# Create a new column is_west_philly\n",
        "stations_df[\"is_west_philly\"] = stations_df[\"zone\"].isin([2, 3])\n",
        "\n",
        "# Sort by station_id ascending\n",
        "stations_df.sort_values(by=\"station_id\", ascending=True, inplace=True)\n",
        "\n",
        "# Display the first few rows of cleaned stations_df\n",
        "print(\"\\nCleaned stations_df:\")\n",
        "print(stations_df.head())\n",
        "stations_df.to_csv(\"stations_cleaned.csv\", index=False)"
      ]
    },
    {
      "cell_type": "code",
      "execution_count": 534,
      "metadata": {
        "id": "sKA2_ScM6nWv",
        "colab": {
          "base_uri": "https://localhost:8080/"
        },
        "outputId": "31078047-1b43-45ec-a0c1-409ec1f78841"
      },
      "outputs": [
        {
          "output_type": "stream",
          "name": "stdout",
          "text": [
            "Correct! You earned 5/5 points. You are a star!\n",
            "\n",
            "Your submission has been successfully recorded in the gradebook.\n"
          ]
        }
      ],
      "source": [
        "stations_cleaned_df = pd.read_csv(\"/content/stations_cleaned.csv\")\n",
        "# 5 points\n",
        "grader.grade(test_case_id = 'test_stations_processing', answer = (len(stations_cleaned_df), stations_cleaned_df.head().reset_index(drop=True)))"
      ]
    },
    {
      "cell_type": "markdown",
      "metadata": {
        "id": "38JSvyEGCGYN"
      },
      "source": [
        "#### 1.1.3 Cleaning the weather (5 points)\n",
        "Then, let's clean `weather_df` and make it usable."
      ]
    },
    {
      "cell_type": "code",
      "execution_count": 535,
      "metadata": {
        "id": "vKv7Gdi_CGYQ",
        "colab": {
          "base_uri": "https://localhost:8080/"
        },
        "outputId": "db08052e-6a59-40af-ab43-4cf1397df950"
      },
      "outputs": [
        {
          "output_type": "stream",
          "name": "stdout",
          "text": [
            "<class 'pandas.core.frame.DataFrame'>\n",
            "RangeIndex: 365 entries, 0 to 364\n",
            "Data columns (total 13 columns):\n",
            " #   Column                 Non-Null Count  Dtype  \n",
            "---  ------                 --------------  -----  \n",
            " 0   date                   365 non-null    object \n",
            " 1   actual_mean_temp       365 non-null    int64  \n",
            " 2   actual_min_temp        365 non-null    int64  \n",
            " 3   actual_max_temp        365 non-null    int64  \n",
            " 4   average_min_temp       365 non-null    int64  \n",
            " 5   average_max_temp       365 non-null    int64  \n",
            " 6   record_min_temp        365 non-null    int64  \n",
            " 7   record_max_temp        365 non-null    int64  \n",
            " 8   record_min_temp_year   365 non-null    int64  \n",
            " 9   record_max_temp_year   365 non-null    int64  \n",
            " 10  actual_precipitation   365 non-null    float64\n",
            " 11  average_precipitation  365 non-null    float64\n",
            " 12  record_precipitation   365 non-null    float64\n",
            "dtypes: float64(3), int64(9), object(1)\n",
            "memory usage: 37.2+ KB\n"
          ]
        }
      ],
      "source": [
        "# view .info() of weather_df to sense check it\n",
        "weather_df.info()"
      ]
    },
    {
      "cell_type": "markdown",
      "metadata": {
        "id": "Cz3Xx84WCGYU"
      },
      "source": [
        "\n",
        "**TO-DO**:\n",
        "* Create `weather_cleaned_df` and only keep the following 5 columns:\n",
        "     * `date`, `actual_mean_temp`, `actual_min_temp`, `actual_max_temp`, `actual_precipitation`\n",
        "* Convert column `date` into type `datetime64[ns]`.\n",
        "* Keep only the rows from 9/1/2022 to 10/31/2022, inclusive.\n",
        "* Sort by column `date` descending.\n",
        "\n",
        "After performing these steps, `weather_cleaned_df` should have the following schema:\n",
        "\n",
        "**Final Schema**:\n",
        ">date | actual_mean_temp | actual_min_temp | actual_max_temp | actual_precipitation\n",
        ">--- | --- | --- |--- |--- |"
      ]
    },
    {
      "cell_type": "code",
      "execution_count": 536,
      "metadata": {
        "id": "GfBTqJs3CGYV",
        "colab": {
          "base_uri": "https://localhost:8080/"
        },
        "outputId": "c55ce4e9-5b1f-48bf-8e63-deca74daeba5"
      },
      "outputs": [
        {
          "output_type": "stream",
          "name": "stdout",
          "text": [
            "\n",
            "Cleaned weather_cleaned_df:\n",
            "          date  actual_mean_temp  actual_min_temp  actual_max_temp  \\\n",
            "303 2022-10-31                47               40               54   \n",
            "302 2022-10-30                53               45               60   \n",
            "301 2022-10-29                60               50               70   \n",
            "300 2022-10-28                63               49               76   \n",
            "299 2022-10-27                57               46               67   \n",
            "\n",
            "     actual_precipitation  \n",
            "303                  0.00  \n",
            "302                  0.00  \n",
            "301                  0.03  \n",
            "300                  0.00  \n",
            "299                  0.00  \n"
          ]
        }
      ],
      "source": [
        "#TO-DO: clean up the weather_df\n",
        "\n",
        "# Data preprocessing for weather_df\n",
        "# Keep only the required columns\n",
        "weather_cleaned_df = weather_df[[\"date\", \"actual_mean_temp\", \"actual_min_temp\", \"actual_max_temp\", \"actual_precipitation\"]]\n",
        "\n",
        "# Convert column date into type datetime64[ns]\n",
        "weather_cleaned_df = weather_cleaned_df.copy()\n",
        "weather_cleaned_df[\"date\"] = pd.to_datetime(weather_cleaned_df[\"date\"])\n",
        "\n",
        "# Keep only the rows from 9/1/2022 to 10/31/2022, inclusive\n",
        "weather_cleaned_df = weather_cleaned_df[(weather_cleaned_df[\"date\"] >= \"2022-09-01\") & (weather_cleaned_df[\"date\"] <= \"2022-10-31\")]\n",
        "\n",
        "# Sort by column date descending\n",
        "weather_cleaned_df.sort_values(by=\"date\", ascending=False, inplace=True)\n",
        "\n",
        "# Display the first few rows of cleaned weather_cleaned_df\n",
        "print(\"\\nCleaned weather_cleaned_df:\")\n",
        "print(weather_cleaned_df.head())\n",
        "weather_cleaned_df.to_csv(\"weather_cleaned.csv\", index=False)\n",
        "#reviews_df.to_csv(\"reviews_cleaned.csv\", index=False)"
      ]
    },
    {
      "cell_type": "code",
      "execution_count": 537,
      "metadata": {
        "id": "PacFnS9JCGYW",
        "colab": {
          "base_uri": "https://localhost:8080/"
        },
        "outputId": "29393651-0885-4b56-8ff4-54a0ba02996d"
      },
      "outputs": [
        {
          "output_type": "stream",
          "name": "stdout",
          "text": [
            "Correct! You earned 5/5 points. You are a star!\n",
            "\n",
            "Your submission has been successfully recorded in the gradebook.\n"
          ]
        }
      ],
      "source": [
        "# 5 points\n",
        "grader.grade(test_case_id = 'test_cleaning_weather', answer = [len(weather_cleaned_df),weather_cleaned_df.head().reset_index(drop=True)])"
      ]
    },
    {
      "cell_type": "markdown",
      "metadata": {
        "id": "kYp9fW_SvG3g"
      },
      "source": [
        "### 1.2 Your Sandbox\n",
        "\n",
        "`.info()` is just one of many basic tools that you can use for Exploratory Data Analysis (EDA). Instead of throwing you straight into the deep end, we wanted to give you a chance to take some time and explore the data on your own. **This section is not graded**, so for the speedrunners out there feel free to just jump in, but we wanted to at least give you a small space to utilize your EDA toolkit to familiarize yourself with all the data you just downloaded.\n",
        "\n",
        "Some suggestions to get you started:\n",
        "- `df.head()`\n",
        "- `df.describe()`\n",
        "- `Series.unique()`"
      ]
    },
    {
      "cell_type": "code",
      "execution_count": 538,
      "metadata": {
        "id": "U429NTI5RY4a",
        "colab": {
          "base_uri": "https://localhost:8080/"
        },
        "outputId": "4707aaed-dd1e-4dfa-a86f-1e97bbb9bdeb"
      },
      "outputs": [
        {
          "output_type": "stream",
          "name": "stdout",
          "text": [
            "EDA for trips_cleaned.csv:\n",
            "\n",
            "First few rows:\n",
            "     trip_id  duration      start_time        end_time  start_station  \\\n",
            "0  536546924         3  10/1/2022 1:50  10/1/2022 1:53         3188.0   \n",
            "1  536546925         3  10/1/2022 1:50  10/1/2022 1:53         3188.0   \n",
            "2  536546927         7  10/1/2022 1:48  10/1/2022 1:55         3010.0   \n",
            "3  536546929         7  10/1/2022 1:48  10/1/2022 1:55         3010.0   \n",
            "4  536546932         6  10/1/2022 1:41  10/1/2022 1:47         3004.0   \n",
            "\n",
            "   start_lat  start_lon  end_station    end_lat    end_lon  bike_id  \\\n",
            "0  39.904709 -75.173401       3188.0  39.904709 -75.173401    11708   \n",
            "1  39.904709 -75.173401       3188.0  39.904709 -75.173401     3483   \n",
            "2  39.947109 -75.166183       3064.0  39.938400 -75.173271    14655   \n",
            "3  39.947109 -75.166183       3064.0  39.938400 -75.173271    12987   \n",
            "4  39.953781 -75.163742       3206.0  39.951740 -75.170631    22554   \n",
            "\n",
            "  trip_route_category passholder_type bike_type  \n",
            "0          Round Trip        Indego30  standard  \n",
            "1          Round Trip        Indego30  standard  \n",
            "2             One Way        Indego30  standard  \n",
            "3             One Way        Indego30  standard  \n",
            "4             One Way        Day Pass  electric  \n",
            "\n",
            "\n",
            "Summary statistics:\n",
            "            trip_id      duration  start_station     start_lat     start_lon  \\\n",
            "count  1.525500e+04  15255.000000   15255.000000  15255.000000  15255.000000   \n",
            "mean   5.390946e+08     14.358964    3115.252638     39.951638    -75.170310   \n",
            "std    1.072175e+06     22.136252      82.982017      0.012796      0.017468   \n",
            "min    5.365469e+08      1.000000    3004.000000     39.889938    -75.229462   \n",
            "25%    5.385669e+08      6.000000    3040.000000     39.945271    -75.179710   \n",
            "50%    5.393113e+08     10.000000    3099.000000     39.951340    -75.169022   \n",
            "75%    5.399172e+08     15.000000    3190.000000     39.958599    -75.158882   \n",
            "max    5.404229e+08    873.000000    3287.000000     40.007729    -75.121567   \n",
            "\n",
            "        end_station       end_lat       end_lon       bike_id  \n",
            "count  15255.000000  15255.000000  15255.000000  15255.000000  \n",
            "mean    3115.640970     39.951566    -75.169825  14573.427663  \n",
            "std       83.179081      0.012903      0.017491   7378.053524  \n",
            "min     3004.000000     39.889938    -75.229462    170.000000  \n",
            "25%     3040.000000     39.945171    -75.179710   5381.000000  \n",
            "50%     3099.000000     39.951340    -75.167831  14680.000000  \n",
            "75%     3190.000000     39.958191    -75.158211  22250.000000  \n",
            "max     3287.000000     40.007729    -75.121567  23911.000000  \n",
            "\n",
            "\n",
            "Unique values:\n",
            "trip_id: 15255 unique values\n",
            "duration: 153 unique values\n",
            "start_time: 5986 unique values\n",
            "end_time: 5971 unique values\n",
            "start_station: 181 unique values\n",
            "start_lat: 180 unique values\n",
            "start_lon: 178 unique values\n",
            "end_station: 181 unique values\n",
            "end_lat: 180 unique values\n",
            "end_lon: 178 unique values\n",
            "bike_id: 1559 unique values\n",
            "trip_route_category: 2 unique values\n",
            "passholder_type: 3 unique values\n",
            "bike_type: 2 unique values\n",
            "\n",
            "\n",
            "EDA for stations_cleaned.csv:\n",
            "\n",
            "First few rows:\n",
            "   station_id                       station_name  zone  is_west_philly\n",
            "0        3000                    Virtual Station     0           False\n",
            "1        3004  Municipal Services Building Plaza     0           False\n",
            "2        3005                  Welcome Park, NPS     0           False\n",
            "3        3006                      40th & Spruce     2            True\n",
            "4        3007             11th & Pine, Kahn Park     0           False\n",
            "\n",
            "\n",
            "Summary statistics:\n",
            "        station_id        zone\n",
            "count   180.000000  180.000000\n",
            "mean   3136.283333    2.572222\n",
            "std      88.874482    1.827874\n",
            "min    3000.000000    0.000000\n",
            "25%    3055.750000    0.000000\n",
            "50%    3119.500000    3.500000\n",
            "75%    3211.250000    4.000000\n",
            "max    3287.000000    5.000000\n",
            "\n",
            "\n",
            "Unique values:\n",
            "station_id: 180 unique values\n",
            "station_name: 180 unique values\n",
            "zone: 6 unique values\n",
            "is_west_philly: 2 unique values\n",
            "\n",
            "\n",
            "EDA for reviews_cleaned.csv:\n",
            "\n",
            "First few rows:\n",
            "                                          restaurant  \\\n",
            "0                                  Gloria Restaurant   \n",
            "1  fluffy garlic naan to their delicious perfect ...   \n",
            "2  needed. 5 stars!!!! I will definitely be comin...   \n",
            "3                                  Gloria Restaurant   \n",
            "4                                  Gloria Restaurant   \n",
            "\n",
            "                                              review  zone  \n",
            "0  Today is the third time I've come to Gloria Re...   NaN  \n",
            "1                                                NaN   NaN  \n",
            "2                                                  1   NaN  \n",
            "3  I have been to Gloria Restaurant a couple time...   1.0  \n",
            "4  Last Saturday I went to this restaurant hoping...   1.0  \n",
            "\n",
            "\n",
            "Summary statistics:\n",
            "            zone\n",
            "count  105.00000\n",
            "mean     1.92381\n",
            "std      0.79294\n",
            "min      1.00000\n",
            "25%      1.00000\n",
            "50%      2.00000\n",
            "75%      3.00000\n",
            "max      3.00000\n",
            "\n",
            "\n",
            "Unique values:\n",
            "restaurant: 11 unique values\n",
            "review: 111 unique values\n",
            "zone: 3 unique values\n",
            "\n",
            "\n"
          ]
        }
      ],
      "source": [
        "# Your EDA here! Feel free to add more cells\n",
        "import pandas as pd\n",
        "\n",
        "# List of CSV files\n",
        "files = ['trips_cleaned.csv', 'stations_cleaned.csv', 'reviews_cleaned.csv']\n",
        "\n",
        "for file in files:\n",
        "    print(f\"EDA for {file}:\\n\")\n",
        "\n",
        "    # Load the data\n",
        "    df = pd.read_csv(file)\n",
        "\n",
        "    # Display the first few rows\n",
        "    print(\"First few rows:\")\n",
        "    print(df.head())\n",
        "    print(\"\\n\")\n",
        "\n",
        "    # Display summary statistics\n",
        "    print(\"Summary statistics:\")\n",
        "    print(df.describe())\n",
        "    print(\"\\n\")\n",
        "\n",
        "    # Display unique values for each column\n",
        "    print(\"Unique values:\")\n",
        "    for col in df.columns:\n",
        "        print(f\"{col}: {df[col].nunique()} unique values\")\n",
        "    print(\"\\n\")\n"
      ]
    },
    {
      "cell_type": "markdown",
      "source": [
        "## Part 2: Exploring the Data with PandasSQL (and Pandas) [68 points total]\n",
        "\n",
        "Now that you are familiar (or still unfamiliar) with the dataset, we will now introduce you to SQL, or more specifically **pandasql**: a package created to allow users to query pandas DataFrames with SQL statements."
      ],
      "metadata": {
        "id": "uLO0ZpVr54ZS"
      }
    },
    {
      "cell_type": "markdown",
      "source": [
        "## 👇👇👇 IMPORTANT: Pay VERY CLOSE attention to this style guide! 👇👇👇\n",
        "\n",
        "The typical flow to use pandasql (aliased as `ps`) is as follows:\n",
        "1. Write a SQL query in the form of a string\n",
        "    - **String Syntax:** use triple quotes `\"\"\"<your query>\"\"\"` to write multi-line strings in Python\n",
        "    - **Aliases are your friend:** if there are very long table names or you find yourself needed to declare the source (common during join tasks), it's almost always optimal to alias your tables with short INTUITIVE alias names\n",
        "    - **New Clauses New Line:** each of the main SQL clauses (`SELECT`, `FROM`, `WHERE`, etc.) should begin on a new line\n",
        "    - **Use Indentation:** if there are many components for a single clause, separate them out with new <ins>indented</ins> lines.\n",
        "\n",
        "    Example below:\n",
        "    ```SQL\n",
        "    \"\"\"\n",
        "    SELECT ltn.some_id, SUM(stn.some_value) AS total\n",
        "    FROM long_table_name AS ltn\n",
        "         INNER JOIN short_table_name AS stn\n",
        "            ON ltn.common_key = stn.common_key\n",
        "         INNER JOIN med_table_name AS mtn\n",
        "            ON ltn.other_key = mtn.other_key\n",
        "    WHERE ltn.col1 > value\n",
        "         AND stn.col2 <= another_value\n",
        "         AND mtn.col3 != something_else\n",
        "    GROUP BY ltn.some_id\n",
        "    ORDER BY total DESC\n",
        "    \"\"\"\n",
        "    ```\n",
        "2. Run the query using `ps.sqldf(your_query, locals())`\n",
        "\n",
        "Pandasql is convenient in that it allows you to reference the dataframes that are currently defined in your notebook, so you will be able to fully utilize the dataframes `trips_cleaned_df`, `stations_cleaned_df` and `weather__cleaned_df` that you have created above!\n",
        "\n",
        "Given that it is a brand new language, we wanted to give you a chance to directly compare the similarities/differences of the pandas that you already know and the SQL that you are about to learn. Thus, for each of the simpler queries, we may ask that you **look into the question twice: once with pandas and once with pandasql**."
      ],
      "metadata": {
        "id": "EoV3Uv69ot_Y"
      }
    },
    {
      "cell_type": "markdown",
      "source": [
        "### 2.1 One Way vs Round Trip [22 points]"
      ],
      "metadata": {
        "id": "65adiX7u55m2"
      }
    },
    {
      "cell_type": "markdown",
      "source": [
        "#### 2.1.1 How many of the rides taken were Round Trip journeys? (5 points)\n",
        "\n",
        "The dataframe `trips_cleaned_df` contains information for each ride. We want to know which of these rides were Round Trip journeys, and how many such rides were taken.\n",
        "\n",
        "**TO-DO:**\n",
        "\n",
        "*    Using what you learned in EDA in 1.2, use `pandas` to filter on the appropriate column to obtain only round trips, and save it to a DataFrame called `round_df`, which is sorted by `trip_id` in ascending order.\n",
        "*   Save the number of rides in the integer variable `number_of_rounds`."
      ],
      "metadata": {
        "id": "0PfvXCpC6NB2"
      }
    },
    {
      "cell_type": "code",
      "source": [
        "# TO-DO: Use pandas to obtain rides that were round trip\n",
        "import pandas as pd\n",
        "from sqlalchemy import create_engine\n",
        "import pandasql as ps\n",
        "\n",
        "trips_cleaned_df = pd.read_csv(\"trips_cleaned.csv\")\n",
        "\n",
        "round_df = trips_cleaned_df[trips_cleaned_df[\"trip_route_category\"] == \"Round Trip\"]\n",
        "round_df.sort_values(by=\"trip_id\", ascending=True, inplace=True)\n",
        "number_of_rounds = len(round_df)\n",
        "\n",
        "print(\"\\nRound Trips DataFrame:\")\n",
        "print(round_df.head())\n",
        "print(\"\\nNumber of Round Trips:\", number_of_rounds)\n",
        "\n",
        "avg_round_pd = round_df['duration'].mean()\n",
        "print(\"\\nAverage Round Trip Duration (Pandas):\", avg_round_pd)\n",
        "\n",
        "engine = create_engine(\"sqlite:///round_trip.db\", echo=False)\n",
        "\n",
        "try:\n",
        "    with engine.connect() as connection:\n",
        "        round_df.to_sql(\"round_df\", con=connection, if_exists=\"replace\", index=False)\n",
        "\n",
        "    result = engine.execute(\"SELECT COUNT(*) AS num FROM round_df\").fetchall()\n",
        "    print(\"\\nRound Trips Count (SQLAlchemy):\", result[0][0])\n",
        "\n",
        "    avg_dur_query = \"\"\"\n",
        "                     SELECT AVG(duration) AS avg_dur\n",
        "                     FROM round_df\n",
        "                    \"\"\"\n",
        "    avg_round_df = ps.sqldf(avg_dur_query, locals())\n",
        "    print(\"\\nAverage Round Trip Duration (pandasql):\")\n",
        "    print(avg_round_df)\n",
        "\n",
        "except Exception as e:\n",
        "    print(\"Error occurred:\", e)"
      ],
      "metadata": {
        "id": "pknIChHj6Oom",
        "colab": {
          "base_uri": "https://localhost:8080/"
        },
        "outputId": "536078a6-fc3e-4825-b278-fd6bf5a3bd19"
      },
      "execution_count": 539,
      "outputs": [
        {
          "output_type": "stream",
          "name": "stdout",
          "text": [
            "\n",
            "Round Trips DataFrame:\n",
            "      trip_id  duration      start_time        end_time  start_station  \\\n",
            "0   536546924         3  10/1/2022 1:50  10/1/2022 1:53         3188.0   \n",
            "1   536546925         3  10/1/2022 1:50  10/1/2022 1:53         3188.0   \n",
            "25  536546974         7  10/1/2022 0:42  10/1/2022 0:49         3207.0   \n",
            "30  536546984         4  10/1/2022 0:37  10/1/2022 0:41         3210.0   \n",
            "38  536547000        26  10/1/2022 0:30  10/1/2022 0:56         3064.0   \n",
            "\n",
            "    start_lat  start_lon  end_station    end_lat    end_lon  bike_id  \\\n",
            "0   39.904709 -75.173401       3188.0  39.904709 -75.173401    11708   \n",
            "1   39.904709 -75.173401       3188.0  39.904709 -75.173401     3483   \n",
            "25  39.954411 -75.192001       3207.0  39.954411 -75.192001     3612   \n",
            "30  39.984921 -75.156677       3210.0  39.984921 -75.156677    22393   \n",
            "38  39.938400 -75.173271       3064.0  39.938400 -75.173271     2441   \n",
            "\n",
            "   trip_route_category passholder_type bike_type  \n",
            "0           Round Trip        Indego30  standard  \n",
            "1           Round Trip        Indego30  standard  \n",
            "25          Round Trip        Indego30  standard  \n",
            "30          Round Trip        Indego30  electric  \n",
            "38          Round Trip        Indego30  standard  \n",
            "\n",
            "Number of Round Trips: 930\n",
            "\n",
            "Average Round Trip Duration (Pandas): 20.107526881720432\n",
            "\n",
            "Round Trips Count (SQLAlchemy): 930\n",
            "\n",
            "Average Round Trip Duration (pandasql):\n",
            "     avg_dur\n",
            "0  20.107527\n"
          ]
        },
        {
          "output_type": "stream",
          "name": "stderr",
          "text": [
            "<ipython-input-539-956297160680>:9: SettingWithCopyWarning: \n",
            "A value is trying to be set on a copy of a slice from a DataFrame\n",
            "\n",
            "See the caveats in the documentation: https://pandas.pydata.org/pandas-docs/stable/user_guide/indexing.html#returning-a-view-versus-a-copy\n",
            "  round_df.sort_values(by=\"trip_id\", ascending=True, inplace=True)\n"
          ]
        }
      ]
    },
    {
      "cell_type": "code",
      "source": [
        "# TO-DO : Save the number of round trip rides obtained from round_df to number_of_rounds\n",
        "import pandas as pd\n",
        "from sqlalchemy import create_engine\n",
        "import pandasql as ps\n",
        "\n",
        "trips_cleaned_df = pd.read_csv(\"trips_cleaned.csv\")\n",
        "\n",
        "round_df = trips_cleaned_df[trips_cleaned_df[\"trip_route_category\"] == \"Round Trip\"]\n",
        "round_df.sort_values(by=\"trip_id\", ascending=True, inplace=True)\n",
        "number_of_rounds = len(round_df)\n",
        "\n",
        "print(\"\\nRound Trips DataFrame:\")\n",
        "print(round_df.head())\n",
        "print(\"\\nNumber of Round Trips:\", number_of_rounds)"
      ],
      "metadata": {
        "id": "DwCpytm38dYW",
        "colab": {
          "base_uri": "https://localhost:8080/"
        },
        "outputId": "d0d59dfb-eb44-4fe2-8123-bc49e282dac8"
      },
      "execution_count": 540,
      "outputs": [
        {
          "output_type": "stream",
          "name": "stdout",
          "text": [
            "\n",
            "Round Trips DataFrame:\n",
            "      trip_id  duration      start_time        end_time  start_station  \\\n",
            "0   536546924         3  10/1/2022 1:50  10/1/2022 1:53         3188.0   \n",
            "1   536546925         3  10/1/2022 1:50  10/1/2022 1:53         3188.0   \n",
            "25  536546974         7  10/1/2022 0:42  10/1/2022 0:49         3207.0   \n",
            "30  536546984         4  10/1/2022 0:37  10/1/2022 0:41         3210.0   \n",
            "38  536547000        26  10/1/2022 0:30  10/1/2022 0:56         3064.0   \n",
            "\n",
            "    start_lat  start_lon  end_station    end_lat    end_lon  bike_id  \\\n",
            "0   39.904709 -75.173401       3188.0  39.904709 -75.173401    11708   \n",
            "1   39.904709 -75.173401       3188.0  39.904709 -75.173401     3483   \n",
            "25  39.954411 -75.192001       3207.0  39.954411 -75.192001     3612   \n",
            "30  39.984921 -75.156677       3210.0  39.984921 -75.156677    22393   \n",
            "38  39.938400 -75.173271       3064.0  39.938400 -75.173271     2441   \n",
            "\n",
            "   trip_route_category passholder_type bike_type  \n",
            "0           Round Trip        Indego30  standard  \n",
            "1           Round Trip        Indego30  standard  \n",
            "25          Round Trip        Indego30  standard  \n",
            "30          Round Trip        Indego30  electric  \n",
            "38          Round Trip        Indego30  standard  \n",
            "\n",
            "Number of Round Trips: 930\n"
          ]
        },
        {
          "output_type": "stream",
          "name": "stderr",
          "text": [
            "<ipython-input-540-bea4c7911e54>:9: SettingWithCopyWarning: \n",
            "A value is trying to be set on a copy of a slice from a DataFrame\n",
            "\n",
            "See the caveats in the documentation: https://pandas.pydata.org/pandas-docs/stable/user_guide/indexing.html#returning-a-view-versus-a-copy\n",
            "  round_df.sort_values(by=\"trip_id\", ascending=True, inplace=True)\n"
          ]
        }
      ]
    },
    {
      "cell_type": "code",
      "source": [
        "# 3 points\n",
        "grader.grade(test_case_id = 'test_round', answer = (round_df.reset_index(drop=True), number_of_rounds))"
      ],
      "metadata": {
        "id": "73kQXwnL6OZ0",
        "colab": {
          "base_uri": "https://localhost:8080/"
        },
        "outputId": "71edb7d1-9fd4-4897-f753-2e625fc26291"
      },
      "execution_count": 541,
      "outputs": [
        {
          "output_type": "stream",
          "name": "stdout",
          "text": [
            "Correct! You earned 3/3 points. You are a star!\n",
            "\n",
            "Your submission has been successfully recorded in the gradebook.\n"
          ]
        }
      ]
    },
    {
      "cell_type": "markdown",
      "source": [
        "**TO-DO:** Now using **pandasql**, calculate the number of round trips in trips_cleaned_df and save it to the dataframe `round_df_sql`, with the column named `num`. This will be a rather unconventional 1x1 dataframe, but that's OK.\n",
        "\n",
        "**Final Schema:**\n",
        "\n",
        "> num|\n",
        "> --- |"
      ],
      "metadata": {
        "id": "gUSj2RVaXBDd"
      }
    },
    {
      "cell_type": "code",
      "source": [
        "# TODO: Use pandasql to calculate the number of round trips\n",
        "import pandas as pd\n",
        "from sqlalchemy import create_engine\n",
        "import pandasql as ps\n",
        "\n",
        "trips_cleaned_df = pd.read_csv(\"trips_cleaned.csv\")\n",
        "\n",
        "round_df = trips_cleaned_df[trips_cleaned_df[\"trip_route_category\"] == \"Round Trip\"]\n",
        "round_df.sort_values(by=\"trip_id\", ascending=True, inplace=True)\n",
        "number_of_rounds = len(round_df)\n",
        "\n",
        "print(\"\\nRound Trips DataFrame:\")\n",
        "print(round_df.head())\n",
        "print(\"\\nNumber of Round Trips:\", number_of_rounds)"
      ],
      "metadata": {
        "id": "xdGJjfXDXPig",
        "colab": {
          "base_uri": "https://localhost:8080/"
        },
        "outputId": "0e55adc0-81ba-4ab9-bc4d-82ef423464f9"
      },
      "execution_count": 542,
      "outputs": [
        {
          "output_type": "stream",
          "name": "stdout",
          "text": [
            "\n",
            "Round Trips DataFrame:\n",
            "      trip_id  duration      start_time        end_time  start_station  \\\n",
            "0   536546924         3  10/1/2022 1:50  10/1/2022 1:53         3188.0   \n",
            "1   536546925         3  10/1/2022 1:50  10/1/2022 1:53         3188.0   \n",
            "25  536546974         7  10/1/2022 0:42  10/1/2022 0:49         3207.0   \n",
            "30  536546984         4  10/1/2022 0:37  10/1/2022 0:41         3210.0   \n",
            "38  536547000        26  10/1/2022 0:30  10/1/2022 0:56         3064.0   \n",
            "\n",
            "    start_lat  start_lon  end_station    end_lat    end_lon  bike_id  \\\n",
            "0   39.904709 -75.173401       3188.0  39.904709 -75.173401    11708   \n",
            "1   39.904709 -75.173401       3188.0  39.904709 -75.173401     3483   \n",
            "25  39.954411 -75.192001       3207.0  39.954411 -75.192001     3612   \n",
            "30  39.984921 -75.156677       3210.0  39.984921 -75.156677    22393   \n",
            "38  39.938400 -75.173271       3064.0  39.938400 -75.173271     2441   \n",
            "\n",
            "   trip_route_category passholder_type bike_type  \n",
            "0           Round Trip        Indego30  standard  \n",
            "1           Round Trip        Indego30  standard  \n",
            "25          Round Trip        Indego30  standard  \n",
            "30          Round Trip        Indego30  electric  \n",
            "38          Round Trip        Indego30  standard  \n",
            "\n",
            "Number of Round Trips: 930\n"
          ]
        },
        {
          "output_type": "stream",
          "name": "stderr",
          "text": [
            "<ipython-input-542-560357e522fd>:9: SettingWithCopyWarning: \n",
            "A value is trying to be set on a copy of a slice from a DataFrame\n",
            "\n",
            "See the caveats in the documentation: https://pandas.pydata.org/pandas-docs/stable/user_guide/indexing.html#returning-a-view-versus-a-copy\n",
            "  round_df.sort_values(by=\"trip_id\", ascending=True, inplace=True)\n"
          ]
        }
      ]
    },
    {
      "cell_type": "code",
      "source": [
        "# Write the SQL query\n",
        "query = \"\"\"\n",
        "SELECT COUNT(*) as num\n",
        "FROM trips_cleaned_df\n",
        "WHERE trip_route_category = 'Round Trip'\n",
        "\"\"\"\n",
        "\n",
        "# Execute the query\n",
        "round_df_sql = ps.sqldf(query)\n",
        "\n",
        "# Print the result\n",
        "print(\"\\nNumber of Round Trips:\", round_df_sql['num'][0])\n"
      ],
      "metadata": {
        "id": "nXuUq8UWXPSo",
        "colab": {
          "base_uri": "https://localhost:8080/"
        },
        "outputId": "270ba107-6f79-4db3-c3b9-808c7b925ecd"
      },
      "execution_count": 543,
      "outputs": [
        {
          "output_type": "stream",
          "name": "stdout",
          "text": [
            "\n",
            "Number of Round Trips: 930\n"
          ]
        }
      ]
    },
    {
      "cell_type": "code",
      "source": [
        "# Grade the results\n",
        "grader.grade(test_case_id = 'test_round_sql', answer = round_df_sql)\n"
      ],
      "metadata": {
        "colab": {
          "base_uri": "https://localhost:8080/"
        },
        "id": "4ZeMbfBh3eDn",
        "outputId": "4793368d-06c2-43dd-a20e-878d20653e15"
      },
      "execution_count": 544,
      "outputs": [
        {
          "output_type": "stream",
          "name": "stdout",
          "text": [
            "Correct! You earned 2/2 points. You are a star!\n",
            "\n",
            "Your submission has been successfully recorded in the gradebook.\n"
          ]
        }
      ]
    },
    {
      "cell_type": "markdown",
      "source": [
        "#### 2.1.2 What was the duration of these round trips? [5 points]\n",
        "\n",
        "The dataframe `round_df` contains information for each ride that was a round trip. We want to know the average duration of the trip for all these rides.\n",
        "\n",
        "**TO-DO:** Using **pandas**, calculate the average duration of the rides in `round_df` and save it to the variable `avg_round_pd`. Please make sure you do NOT cast it to any type explicitly nor should you round it.\n",
        "\n",
        "\n",
        "\n"
      ],
      "metadata": {
        "id": "a_JjvuvQdqxo"
      }
    },
    {
      "cell_type": "code",
      "source": [
        "#!pip install penngrader\n"
      ],
      "metadata": {
        "id": "Za_ygK-W32yA"
      },
      "execution_count": 545,
      "outputs": []
    },
    {
      "cell_type": "code",
      "source": [
        "# TODO: Use pandas to calculate the average duration of round trips\n",
        "import pandas as pd\n",
        "from sqlalchemy import create_engine\n",
        "import pandasql as ps\n",
        "\n",
        "trips_cleaned_df = pd.read_csv(\"trips_cleaned.csv\")\n",
        "\n",
        "round_df = trips_cleaned_df[trips_cleaned_df[\"trip_route_category\"] == \"Round Trip\"]\n",
        "round_df.sort_values(by=\"trip_id\", ascending=True, inplace=True)\n",
        "number_of_rounds = len(round_df)\n",
        "\n",
        "print(\"\\nRound Trips DataFrame:\")\n",
        "print(round_df.head())\n",
        "print(\"\\nNumber of Round Trips:\", number_of_rounds)\n",
        "\n",
        "avg_round_pd = round_df['duration'].mean()\n",
        "print(\"\\nAverage Round Trip Duration (Pandas):\", avg_round_pd)\n",
        "\n",
        "engine = create_engine(\"sqlite:///round_trip.db\", echo=False)\n",
        "\n",
        "try:\n",
        "    with engine.connect() as connection:\n",
        "        round_df.to_sql(\"round_df\", con=connection, if_exists=\"replace\", index=False)\n",
        "\n",
        "    result = engine.execute(\"SELECT COUNT(*) AS num FROM round_df\").fetchall()\n",
        "    print(\"\\nRound Trips Count (SQLAlchemy):\", result[0][0])\n",
        "\n",
        "    avg_dur_query = \"\"\"\n",
        "                     SELECT AVG(duration) AS avg_dur\n",
        "                     FROM round_df\n",
        "                    \"\"\"\n",
        "    avg_round_df = ps.sqldf(avg_dur_query, locals())\n",
        "    print(\"\\nAverage Round Trip Duration (pandasql):\")\n",
        "    print(avg_round_df)\n",
        "\n",
        "except Exception as e:\n",
        "    print(\"Error occurred:\", e)"
      ],
      "metadata": {
        "id": "r-OX8Ss9Vm2C",
        "colab": {
          "base_uri": "https://localhost:8080/"
        },
        "outputId": "05bf20cb-15e0-458a-c4a5-368bb3994ad6"
      },
      "execution_count": 546,
      "outputs": [
        {
          "output_type": "stream",
          "name": "stdout",
          "text": [
            "\n",
            "Round Trips DataFrame:\n",
            "      trip_id  duration      start_time        end_time  start_station  \\\n",
            "0   536546924         3  10/1/2022 1:50  10/1/2022 1:53         3188.0   \n",
            "1   536546925         3  10/1/2022 1:50  10/1/2022 1:53         3188.0   \n",
            "25  536546974         7  10/1/2022 0:42  10/1/2022 0:49         3207.0   \n",
            "30  536546984         4  10/1/2022 0:37  10/1/2022 0:41         3210.0   \n",
            "38  536547000        26  10/1/2022 0:30  10/1/2022 0:56         3064.0   \n",
            "\n",
            "    start_lat  start_lon  end_station    end_lat    end_lon  bike_id  \\\n",
            "0   39.904709 -75.173401       3188.0  39.904709 -75.173401    11708   \n",
            "1   39.904709 -75.173401       3188.0  39.904709 -75.173401     3483   \n",
            "25  39.954411 -75.192001       3207.0  39.954411 -75.192001     3612   \n",
            "30  39.984921 -75.156677       3210.0  39.984921 -75.156677    22393   \n",
            "38  39.938400 -75.173271       3064.0  39.938400 -75.173271     2441   \n",
            "\n",
            "   trip_route_category passholder_type bike_type  \n",
            "0           Round Trip        Indego30  standard  \n",
            "1           Round Trip        Indego30  standard  \n",
            "25          Round Trip        Indego30  standard  \n",
            "30          Round Trip        Indego30  electric  \n",
            "38          Round Trip        Indego30  standard  \n",
            "\n",
            "Number of Round Trips: 930\n",
            "\n",
            "Average Round Trip Duration (Pandas): 20.107526881720432\n",
            "\n",
            "Round Trips Count (SQLAlchemy): 930\n",
            "\n",
            "Average Round Trip Duration (pandasql):\n",
            "     avg_dur\n",
            "0  20.107527\n"
          ]
        },
        {
          "output_type": "stream",
          "name": "stderr",
          "text": [
            "<ipython-input-546-969c0a43cdd1>:9: SettingWithCopyWarning: \n",
            "A value is trying to be set on a copy of a slice from a DataFrame\n",
            "\n",
            "See the caveats in the documentation: https://pandas.pydata.org/pandas-docs/stable/user_guide/indexing.html#returning-a-view-versus-a-copy\n",
            "  round_df.sort_values(by=\"trip_id\", ascending=True, inplace=True)\n"
          ]
        }
      ]
    },
    {
      "cell_type": "code",
      "source": [
        "# 2 points\n",
        "grader.grade(test_case_id = 'test_round_dur_pd', answer = avg_round_pd)"
      ],
      "metadata": {
        "id": "d0zPIuloVnMc",
        "colab": {
          "base_uri": "https://localhost:8080/"
        },
        "outputId": "0a681d68-f232-4ec0-8874-60c741ece7e4"
      },
      "execution_count": 547,
      "outputs": [
        {
          "output_type": "stream",
          "name": "stdout",
          "text": [
            "Correct! You earned 2/2 points. You are a star!\n",
            "\n",
            "Your submission has been successfully recorded in the gradebook.\n"
          ]
        }
      ]
    },
    {
      "cell_type": "markdown",
      "source": [
        "**TO-DO:** Using **pandasql**, calculate the average duration of the rides in round_df and save it to the dataframe `avg_round_df`, with the column named `avg_dur`. Please make sure you do NOT cast it to any type explicitly nor should you round it.\n",
        "\n",
        "Again, this will be a 1x1 dataframe but that's OK.\n",
        "\n",
        "**Final Schema:**\n",
        "\n",
        "\n",
        "> avg_dur |\n",
        "> --- |"
      ],
      "metadata": {
        "id": "3INzdIvKVvYM"
      }
    },
    {
      "cell_type": "code",
      "source": [
        "# TODO: Use pandasql to calculate the average duration of round trips\n",
        "import pandas as pd\n",
        "from sqlalchemy import create_engine\n",
        "import pandasql as ps\n",
        "\n",
        "trips_cleaned_df = pd.read_csv(\"trips_cleaned.csv\")\n",
        "\n",
        "round_df = trips_cleaned_df[trips_cleaned_df[\"trip_route_category\"] == \"Round Trip\"]\n",
        "round_df.sort_values(by=\"trip_id\", ascending=True, inplace=True)\n",
        "number_of_rounds = len(round_df)\n",
        "\n",
        "print(\"\\nRound Trips DataFrame:\")\n",
        "print(round_df.head())\n",
        "print(\"\\nNumber of Round Trips:\", number_of_rounds)\n",
        "\n",
        "avg_round_pd = round_df['duration'].mean()\n",
        "print(\"\\nAverage Round Trip Duration (Pandas):\", avg_round_pd)\n"
      ],
      "metadata": {
        "id": "CCvBUvzHdqxs",
        "colab": {
          "base_uri": "https://localhost:8080/"
        },
        "outputId": "bf2c0d51-8a46-4061-eb43-60b02c20f382"
      },
      "execution_count": 548,
      "outputs": [
        {
          "output_type": "stream",
          "name": "stdout",
          "text": [
            "\n",
            "Round Trips DataFrame:\n",
            "      trip_id  duration      start_time        end_time  start_station  \\\n",
            "0   536546924         3  10/1/2022 1:50  10/1/2022 1:53         3188.0   \n",
            "1   536546925         3  10/1/2022 1:50  10/1/2022 1:53         3188.0   \n",
            "25  536546974         7  10/1/2022 0:42  10/1/2022 0:49         3207.0   \n",
            "30  536546984         4  10/1/2022 0:37  10/1/2022 0:41         3210.0   \n",
            "38  536547000        26  10/1/2022 0:30  10/1/2022 0:56         3064.0   \n",
            "\n",
            "    start_lat  start_lon  end_station    end_lat    end_lon  bike_id  \\\n",
            "0   39.904709 -75.173401       3188.0  39.904709 -75.173401    11708   \n",
            "1   39.904709 -75.173401       3188.0  39.904709 -75.173401     3483   \n",
            "25  39.954411 -75.192001       3207.0  39.954411 -75.192001     3612   \n",
            "30  39.984921 -75.156677       3210.0  39.984921 -75.156677    22393   \n",
            "38  39.938400 -75.173271       3064.0  39.938400 -75.173271     2441   \n",
            "\n",
            "   trip_route_category passholder_type bike_type  \n",
            "0           Round Trip        Indego30  standard  \n",
            "1           Round Trip        Indego30  standard  \n",
            "25          Round Trip        Indego30  standard  \n",
            "30          Round Trip        Indego30  electric  \n",
            "38          Round Trip        Indego30  standard  \n",
            "\n",
            "Number of Round Trips: 930\n",
            "\n",
            "Average Round Trip Duration (Pandas): 20.107526881720432\n"
          ]
        },
        {
          "output_type": "stream",
          "name": "stderr",
          "text": [
            "<ipython-input-548-be74e06a1b93>:9: SettingWithCopyWarning: \n",
            "A value is trying to be set on a copy of a slice from a DataFrame\n",
            "\n",
            "See the caveats in the documentation: https://pandas.pydata.org/pandas-docs/stable/user_guide/indexing.html#returning-a-view-versus-a-copy\n",
            "  round_df.sort_values(by=\"trip_id\", ascending=True, inplace=True)\n"
          ]
        }
      ]
    },
    {
      "cell_type": "code",
      "source": [
        "# 3 points\n",
        "grader.grade(test_case_id = 'test_round_dur', answer = avg_round_df)"
      ],
      "metadata": {
        "id": "pfI7GSRadqxs",
        "colab": {
          "base_uri": "https://localhost:8080/"
        },
        "outputId": "c9073cd4-0f41-4433-89af-ab07c69484bc"
      },
      "execution_count": 549,
      "outputs": [
        {
          "output_type": "stream",
          "name": "stdout",
          "text": [
            "Correct! You earned 3/3 points. You are a star!\n",
            "\n",
            "Your submission has been successfully recorded in the gradebook.\n"
          ]
        }
      ]
    },
    {
      "cell_type": "markdown",
      "source": [
        "#### 2.1.3 How long do you take? (6 points)\n",
        "\n",
        "Some of the rides listed in the `trips_cleaned_df` are marked as Day Pass. We'd like to know how long riders take their bikes out when they get a Day Pass.\n",
        "\n",
        "**TO-DO:** Using **pandas**, and what you learned in EDA in 1.2, use a filter on the appropriate column to obtain only “Day Pass” to calculate the average duration of these trips from `trips_cleaned_df` and save it to the variable `day_df_pd`. Please make sure you do not cast it to any type explicitly, or round it.  \n",
        "\n",
        "**Final Schema:**\n",
        "\n",
        "> avg_dur |\n",
        "> --- |\n",
        "\n",
        "Please use only `trips_cleaned_df` for both `pandas` and `pandasql`."
      ],
      "metadata": {
        "id": "FD3Dgsdv6atY"
      }
    },
    {
      "cell_type": "code",
      "source": [
        "# TODO: Use pandas to calculate the average duration of trips with a day pass\n",
        "import pandas as pd\n",
        "from sqlalchemy import create_engine\n",
        "import pandasql as ps\n",
        "\n",
        "trips_cleaned_df = pd.read_csv(\"trips_cleaned.csv\")\n",
        "\n",
        "round_df = trips_cleaned_df[trips_cleaned_df[\"trip_route_category\"] == \"Round Trip\"]\n",
        "round_df.sort_values(by=\"trip_id\", ascending=True, inplace=True)\n",
        "number_of_rounds = len(round_df)\n",
        "\n",
        "print(\"\\nRound Trips DataFrame:\")\n",
        "print(round_df.head())\n",
        "print(\"\\nNumber of Round Trips:\", number_of_rounds)\n",
        "\n",
        "avg_round_pd = round_df['duration'].mean()\n",
        "print(\"\\nAverage Round Trip Duration (Pandas):\", avg_round_pd)\n",
        "\n",
        "engine = create_engine(\"sqlite:///round_trip.db\", echo=False)\n",
        "\n",
        "try:\n",
        "    with engine.connect() as connection:\n",
        "        round_df.to_sql(\"round_df\", con=connection, if_exists=\"replace\", index=False)\n",
        "\n",
        "    result = engine.execute(\"SELECT COUNT(*) AS num FROM round_df\").fetchall()\n",
        "    print(\"\\nRound Trips Count (SQLAlchemy):\", result[0][0])\n",
        "\n",
        "    avg_dur_query = \"\"\"\n",
        "                     SELECT AVG(duration) AS avg_dur\n",
        "                     FROM round_df\n",
        "                    \"\"\"\n",
        "    avg_round_df = ps.sqldf(avg_dur_query, locals())\n",
        "    print(\"\\nAverage Round Trip Duration (pandasql):\")\n",
        "    print(avg_round_df)\n",
        "\n",
        "except Exception as e:\n",
        "    print(\"Error occurred:\", e)"
      ],
      "metadata": {
        "id": "wRHgc5T-q95z",
        "colab": {
          "base_uri": "https://localhost:8080/"
        },
        "outputId": "d500c365-54b8-41a7-a24a-0e3a67fe812d"
      },
      "execution_count": 550,
      "outputs": [
        {
          "output_type": "stream",
          "name": "stdout",
          "text": [
            "\n",
            "Round Trips DataFrame:\n",
            "      trip_id  duration      start_time        end_time  start_station  \\\n",
            "0   536546924         3  10/1/2022 1:50  10/1/2022 1:53         3188.0   \n",
            "1   536546925         3  10/1/2022 1:50  10/1/2022 1:53         3188.0   \n",
            "25  536546974         7  10/1/2022 0:42  10/1/2022 0:49         3207.0   \n",
            "30  536546984         4  10/1/2022 0:37  10/1/2022 0:41         3210.0   \n",
            "38  536547000        26  10/1/2022 0:30  10/1/2022 0:56         3064.0   \n",
            "\n",
            "    start_lat  start_lon  end_station    end_lat    end_lon  bike_id  \\\n",
            "0   39.904709 -75.173401       3188.0  39.904709 -75.173401    11708   \n",
            "1   39.904709 -75.173401       3188.0  39.904709 -75.173401     3483   \n",
            "25  39.954411 -75.192001       3207.0  39.954411 -75.192001     3612   \n",
            "30  39.984921 -75.156677       3210.0  39.984921 -75.156677    22393   \n",
            "38  39.938400 -75.173271       3064.0  39.938400 -75.173271     2441   \n",
            "\n",
            "   trip_route_category passholder_type bike_type  \n",
            "0           Round Trip        Indego30  standard  \n",
            "1           Round Trip        Indego30  standard  \n",
            "25          Round Trip        Indego30  standard  \n",
            "30          Round Trip        Indego30  electric  \n",
            "38          Round Trip        Indego30  standard  \n",
            "\n",
            "Number of Round Trips: 930\n",
            "\n",
            "Average Round Trip Duration (Pandas): 20.107526881720432\n",
            "\n",
            "Round Trips Count (SQLAlchemy): 930\n",
            "\n",
            "Average Round Trip Duration (pandasql):\n",
            "     avg_dur\n",
            "0  20.107527\n"
          ]
        },
        {
          "output_type": "stream",
          "name": "stderr",
          "text": [
            "<ipython-input-550-cbc486fcab04>:9: SettingWithCopyWarning: \n",
            "A value is trying to be set on a copy of a slice from a DataFrame\n",
            "\n",
            "See the caveats in the documentation: https://pandas.pydata.org/pandas-docs/stable/user_guide/indexing.html#returning-a-view-versus-a-copy\n",
            "  round_df.sort_values(by=\"trip_id\", ascending=True, inplace=True)\n"
          ]
        }
      ]
    },
    {
      "cell_type": "markdown",
      "source": [
        "**TO-DO:** Repeat the same using **pandasql** and save it as `day_df_sql` where the average duration column should be named `avg_dur`."
      ],
      "metadata": {
        "id": "C1m5KL71qxyY"
      }
    },
    {
      "cell_type": "code",
      "source": [
        "# TODO: Use pandasql to calculate the average duration of trips with a day pass\n",
        "import pandas as pd\n",
        "from sqlalchemy import create_engine\n",
        "\n",
        "# Load cleaned trips dataframe\n",
        "trips_cleaned_df = pd.read_csv(\"trips_cleaned.csv\")\n",
        "\n",
        "# Use pandas to obtain rides that were day pass\n",
        "day_df_pd = trips_cleaned_df[trips_cleaned_df[\"passholder_type\"] == \"Day Pass\"][\"duration\"].mean()\n",
        "\n",
        "# Displaying the pandas result\n",
        "print(\"\\nAverage Day Pass Duration (Pandas):\", day_df_pd)\n",
        "\n",
        "# Create SQLite engine\n",
        "engine = create_engine(\"sqlite:///day_pass_duration.db\", echo=False)\n",
        "\n",
        "# Filter DataFrame for day pass rides\n",
        "day_pass_df = trips_cleaned_df[trips_cleaned_df[\"passholder_type\"] == \"Day Pass\"]\n",
        "\n",
        "# Register DataFrame as table in the SQLite engine\n",
        "day_pass_df.to_sql(\"day_pass_df\", con=engine, if_exists=\"replace\", index=False)\n",
        "\n",
        "# Run a simple SQL query using SQLAlchemy\n",
        "result = engine.execute(\"SELECT AVG(duration) AS avg_dur FROM day_pass_df\").fetchall()\n",
        "\n",
        "# Displaying the SQLAlchemy result\n",
        "print(\"\\nAverage Day Pass Duration (SQLAlchemy):\", result[0][0])\n"
      ],
      "metadata": {
        "id": "r-8X-hQq6eb4",
        "colab": {
          "base_uri": "https://localhost:8080/"
        },
        "outputId": "91e39ba7-ca5d-4622-8f78-34bc341342eb"
      },
      "execution_count": 551,
      "outputs": [
        {
          "output_type": "stream",
          "name": "stdout",
          "text": [
            "\n",
            "Average Day Pass Duration (Pandas): 31.432989690721648\n",
            "\n",
            "Average Day Pass Duration (SQLAlchemy): 31.432989690721648\n"
          ]
        }
      ]
    },
    {
      "cell_type": "code",
      "source": [
        "import pandasql as ps\n",
        "\n",
        "# Write the SQL query\n",
        "query = \"\"\"\n",
        "SELECT AVG(duration) as avg_dur\n",
        "FROM trips_cleaned_df\n",
        "WHERE passholder_type = 'Day Pass'\n",
        "\"\"\"\n",
        "\n",
        "# Execute the query\n",
        "day_df_sql = ps.sqldf(query)\n",
        "\n",
        "# Print the result\n",
        "print(\"\\nAverage Day Pass Duration (pandasql):\", day_df_sql['avg_dur'][0])\n"
      ],
      "metadata": {
        "colab": {
          "base_uri": "https://localhost:8080/"
        },
        "id": "v5SqHeQB52Dr",
        "outputId": "b2c29a1b-ddf0-46fe-c5ce-b5d232eb8a40"
      },
      "execution_count": 552,
      "outputs": [
        {
          "output_type": "stream",
          "name": "stdout",
          "text": [
            "\n",
            "Average Day Pass Duration (pandasql): 31.432989690721648\n"
          ]
        }
      ]
    },
    {
      "cell_type": "code",
      "source": [
        "# 5 points\n",
        "# Grade the results\n",
        "grader.grade(test_case_id = 'test_day_dur', answer = (day_df_sql, day_df_pd, query))\n"
      ],
      "metadata": {
        "id": "aZti3-Tp6d2t",
        "colab": {
          "base_uri": "https://localhost:8080/"
        },
        "outputId": "f0aedb2c-41a6-423b-dd9e-525299def79d"
      },
      "execution_count": 553,
      "outputs": [
        {
          "output_type": "stream",
          "name": "stdout",
          "text": [
            "Correct! You earned 5/5 points. You are a star!\n",
            "\n",
            "Your submission has been successfully recorded in the gradebook.\n"
          ]
        }
      ]
    },
    {
      "cell_type": "markdown",
      "source": [
        "##### **Reflect:**  What do you think? (1 point)\n",
        "\n",
        "Is there a difference between the average duration for round trips (2.1.2) and Day Pass journeys (2.1.3)? Please state your answer as Yes/No with a reason for the possible similarity/difference? [1 pt]\n",
        "\n"
      ],
      "metadata": {
        "id": "0TzDzttGEUxV"
      }
    },
    {
      "cell_type": "code",
      "source": [
        "your_ans = \"\"\"Yes\"\"\""
      ],
      "metadata": {
        "id": "9vGtS4TjExHZ"
      },
      "execution_count": 554,
      "outputs": []
    },
    {
      "cell_type": "code",
      "source": [
        "# Grader Cell for Text Response (do not modify) [1 point]\n",
        "grader.grade(test_case_id = 'test_q', answer = your_ans)"
      ],
      "metadata": {
        "id": "B7fdjrTJEzTu",
        "colab": {
          "base_uri": "https://localhost:8080/"
        },
        "outputId": "f64f8a40-e79b-4828-ab25-0cc662a08eaf"
      },
      "execution_count": 555,
      "outputs": [
        {
          "output_type": "stream",
          "name": "stdout",
          "text": [
            "You earned 0/1 points.\n",
            "\n",
            "Please rethink your answer \n",
            "Don't worry, you can re-submit and we will keep only your latest score.\n"
          ]
        }
      ]
    },
    {
      "cell_type": "markdown",
      "source": [
        "#### 2.1.4 Ratio of Rides (6 points)\n",
        "\n",
        "Some of the rides listed in the `trips_cleaned_df` are marked as One Way while some are marked as Round Trip. We'd like to know the ratio between the number of one - way trips to the number of round-trip journeys.\n",
        "\n",
        "**TO-DO:** Using **pandas**, calculate the ratio of the number of one-way rides to the number of round-trip rides from `trips_cleaned_df` and save it to the variable `ratio_1_round`\n",
        "\n",
        "**HINT:** Let the answer remain a float value when using pandas."
      ],
      "metadata": {
        "id": "zQ4D0K4w6e-F"
      }
    },
    {
      "cell_type": "code",
      "source": [
        "# TO-DO: Use pandas to obtain the ratio of average number of one-way trips to average number of round-trip journeys\n",
        "import pandas as pd\n",
        "import pandasql as ps\n",
        "\n",
        "# Load cleaned trips dataframe\n",
        "trips_cleaned_df = pd.read_csv(\"trips_cleaned.csv\")\n",
        "\n",
        "# Calculate the number of one-way trips\n",
        "num_one_way_trips = len(trips_cleaned_df[trips_cleaned_df[\"trip_route_category\"] == \"One Way\"])\n",
        "\n",
        "# Calculate the number of round-trip journeys\n",
        "num_round_trips = len(trips_cleaned_df[trips_cleaned_df[\"trip_route_category\"] == \"Round Trip\"])\n",
        "\n",
        "# Calculate the ratio of one-way trips to round-trip journeys\n",
        "ratio_1_round = num_one_way_trips / num_round_trips\n",
        "\n",
        "print(\"Ratio of One-Way Trips to Round-Trip Journeys (Pandas):\", ratio_1_round)\n",
        "\n",
        "# Using pandasql\n",
        "ratio_query = \"\"\"\n",
        "              SELECT CAST(COUNT(CASE WHEN trip_route_category = 'One Way' THEN 1 END) AS FLOAT) /\n",
        "              CAST(COUNT(CASE WHEN trip_route_category = 'Round Trip' THEN 1 END) AS FLOAT) AS ratio\n",
        "              FROM trips_cleaned_df\n",
        "              \"\"\"\n",
        "\n",
        "ratio_df = ps.sqldf(ratio_query, locals())\n",
        "\n",
        "print(\"\\nRatio of One-Way Trips to Round-Trip Journeys (Pandasql):\")\n",
        "print(ratio_df)\n"
      ],
      "metadata": {
        "id": "4nlsC5Ul67Da",
        "colab": {
          "base_uri": "https://localhost:8080/"
        },
        "outputId": "10132e67-aa73-44d0-a2b6-cf649bfd791b"
      },
      "execution_count": 556,
      "outputs": [
        {
          "output_type": "stream",
          "name": "stdout",
          "text": [
            "Ratio of One-Way Trips to Round-Trip Journeys (Pandas): 15.403225806451612\n",
            "\n",
            "Ratio of One-Way Trips to Round-Trip Journeys (Pandasql):\n",
            "       ratio\n",
            "0  15.403226\n"
          ]
        }
      ]
    },
    {
      "cell_type": "code",
      "source": [
        "# 2 points\n",
        "grader.grade(test_case_id = 'test_ratio_pd', answer = ratio_1_round)"
      ],
      "metadata": {
        "id": "b4m9-1M_Aptp",
        "colab": {
          "base_uri": "https://localhost:8080/"
        },
        "outputId": "dc57960d-868c-4b85-a45f-6433cd426736"
      },
      "execution_count": 557,
      "outputs": [
        {
          "output_type": "stream",
          "name": "stdout",
          "text": [
            "Correct! You earned 2/2 points. You are a star!\n",
            "\n",
            "Your submission has been successfully recorded in the gradebook.\n"
          ]
        }
      ]
    },
    {
      "cell_type": "markdown",
      "source": [
        "Now, let's try doing the same thing using pandasql, and see if the results match.\n",
        "\n",
        "**TODO:** Using **pandasql**, calculate the ratio of the number of one-way rides to the number of round-trip rides from `trips_cleaned_df` and save it to the dataframe `ratio_df`, naming the column `'ratio'`.\n",
        "\n",
        "Try to make use of subqueries here! Note, your results should be equivalent (to each other, and the answer, of course) if you have done both parts correctly.\n",
        "\n",
        "**HINT:** Cast your ratio to `float` type.  \n",
        "\n",
        "**Final Schema:**\n",
        "\n",
        "> ratio |\n",
        "> --- |"
      ],
      "metadata": {
        "id": "6D6k9ydQBCiT"
      }
    },
    {
      "cell_type": "code",
      "source": [
        "# TODO: Use pandasql to obtain the ratio of number of one-way trips to  number of round trips\n",
        "\n",
        "import pandas as pd\n",
        "import pandasql as ps\n",
        "\n",
        "# Load cleaned trips dataframe\n",
        "trips_cleaned_df = pd.read_csv(\"trips_cleaned.csv\")\n",
        "\n",
        "# Calculate the number of one-way trips\n",
        "num_one_way_trips = len(trips_cleaned_df[trips_cleaned_df[\"trip_route_category\"] == \"One Way\"])\n",
        "\n",
        "# Calculate the number of round-trip journeys\n",
        "num_round_trips = len(trips_cleaned_df[trips_cleaned_df[\"trip_route_category\"] == \"Round Trip\"])\n",
        "\n",
        "# Calculate the ratio of one-way trips to round-trip journeys\n",
        "ratio_1_round = num_one_way_trips / num_round_trips\n",
        "\n",
        "print(\"Ratio of One-Way Trips to Round-Trip Journeys (Pandas):\", ratio_1_round)\n",
        "\n",
        "# Using pandasql\n",
        "ratio_query = \"\"\"\n",
        "              SELECT CAST(COUNT(CASE WHEN trip_route_category = 'One Way' THEN 1 END) AS FLOAT) /\n",
        "              CAST(COUNT(CASE WHEN trip_route_category = 'Round Trip' THEN 1 END) AS FLOAT) AS ratio\n",
        "              FROM trips_cleaned_df\n",
        "              \"\"\"\n",
        "\n",
        "ratio_df = ps.sqldf(ratio_query, locals())\n",
        "\n",
        "print(\"\\nRatio of One-Way Trips to Round-Trip Journeys (Pandasql):\")\n",
        "print(ratio_df)"
      ],
      "metadata": {
        "id": "GZjIm-C_661o",
        "colab": {
          "base_uri": "https://localhost:8080/"
        },
        "outputId": "34a14610-1698-4cba-eb47-185f21546d61"
      },
      "execution_count": 558,
      "outputs": [
        {
          "output_type": "stream",
          "name": "stdout",
          "text": [
            "Ratio of One-Way Trips to Round-Trip Journeys (Pandas): 15.403225806451612\n",
            "\n",
            "Ratio of One-Way Trips to Round-Trip Journeys (Pandasql):\n",
            "       ratio\n",
            "0  15.403226\n"
          ]
        }
      ]
    },
    {
      "cell_type": "code",
      "source": [
        "# 4 points\n",
        "grader.grade(test_case_id = 'test_ratio_sql', answer = (ratio_df, ratio_query))"
      ],
      "metadata": {
        "id": "l3orIXJvAqe2",
        "colab": {
          "base_uri": "https://localhost:8080/"
        },
        "outputId": "dcef7591-e5a2-4f18-b127-ce758fba6eaa"
      },
      "execution_count": 559,
      "outputs": [
        {
          "output_type": "stream",
          "name": "stdout",
          "text": [
            "Correct! You earned 4/4 points. You are a star!\n",
            "\n",
            "Your submission has been successfully recorded in the gradebook.\n"
          ]
        }
      ]
    },
    {
      "cell_type": "markdown",
      "source": [
        "###2.2 Station Involvement [18 points]"
      ],
      "metadata": {
        "id": "EmtOjC3s67UW"
      }
    },
    {
      "cell_type": "markdown",
      "source": [
        "#### 2.2.1 Names not numbers [6 points]\n",
        "We will now use `stations_cleaned_df` to modify our `trips_final_df`. If you look at the rides data, you will notice that both start and end station columns have numbers corresponding to the station ID listed. Using the station ID listed in stations_df, we want to include station names instead of station IDs in our `trips_final_df`.\n",
        "\n",
        "**TO-DO** (`pandas`):\n",
        "* Drop records with missing values and update `trips_cleaned_df`\n",
        "* Create a new dataframe called `trips_final_df` which you'll use after this question. Begin by assigning a **copy** of `trips_cleaned_df` to it.\n",
        "  * **Hint:** Don't just set them equal right away! Refer to the ```.copy()``` function!\n",
        ".\n",
        "* Replace the IDs in the `'start_station'` column of `trips_final_df` with the corresponding station name.\n",
        "* Replace the IDs in the `'end_station'` column of `trips_final_df` with the corresponding station name.\n",
        "* If the any station ID cannot be mapped to a name, the name should be set to 'Unknown'\n",
        "* Sort `trips_final_df` by the trip_id (in ascending order).\n",
        "\n"
      ],
      "metadata": {
        "id": "2fXGZWkF7AeD"
      }
    },
    {
      "cell_type": "code",
      "source": [
        "# TO-DO : Drop missing values\n",
        "# Drop missing values from trips_cleaned_df\n",
        "trips_cleaned_df.dropna(inplace=True)"
      ],
      "metadata": {
        "id": "ZEbcMIew1CSR"
      },
      "execution_count": 560,
      "outputs": []
    },
    {
      "cell_type": "code",
      "source": [
        "# TO-DO : Create a copy named trips_final_df using .copy()\n",
        "# Create a copy named trips_final_df using .copy()\n",
        "trips_final_df = trips_cleaned_df.copy()"
      ],
      "metadata": {
        "id": "LaTHa9dU1Ehk"
      },
      "execution_count": 561,
      "outputs": []
    },
    {
      "cell_type": "code",
      "source": [
        "\"\"\"# TO-DO: Replace station IDs with station names in trips_final_df. Read ALL the bullets above carefully!\n",
        "def station_id_to_name(station_id):\n",
        "    # This function is not provided in the context.\n",
        "    # You need to implement it based on your specific data and requirements.\n",
        "    # For example, you could use fuzzy string matching to find the closest match in a list of known station names.\n",
        "    pass\n",
        "    trips_final_df[\"start_station\"] = trips_final_df[\"start_station\"].map(station_id_to_name).fillna(\"Unknown\")\n",
        "trips_final_df[\"end_station\"] = trips_final_df[\"end_station\"].map(station_id_to_name).fillna(\"Unknown\")\n",
        "\n",
        "def station_id_to_name(station_id):\n",
        "       # Your specific implementation based on your data and requirements\n",
        "       # For example, you could use fuzzy string matching to find the closest match in a list of known station names.\n",
        "       pass\n",
        "\n",
        "def station_id_to_name(station_id):\n",
        "       if station_id is None:\n",
        "           return \"Unknown\"\n",
        "       # Your specific implementation based on your data and requirements\n",
        "       # For example, you could use fuzzy string matching to find the closest match in a list of known station names.\n",
        "       pass\n",
        "\n",
        "# Ensure that the arguments are valid and expected\n",
        "# Ensure that the arguments are valid and expected\n",
        "trips_final_df[\"start_station\"] = trips_final_df[\"start_station\"].map(lambda station_id: station_id_to_name(station_id))\n",
        "trips_final_df[\"end_station\"] = trips_final_df[\"end_station\"].map(lambda station_id: station_id_to_name(station_id))\n",
        "\n",
        "!pip install uszipcode\n",
        "\n",
        "from uszipcode import station_id_to_name\n",
        "\n",
        "!pip show uszipcode\n",
        "\n",
        "!pip install --upgrade uszipcode\n",
        "\n",
        "from uszipcode import station_id_to_name\n",
        "\n",
        "from uszipcode import ZipCode\n",
        "\n",
        "from uszipcode import ZipCode\n",
        "\n",
        "station_id_to_name = {\n",
        "    \"1\": \"Powell St BART Station (Market St at 5th St)\",\n",
        "    \"2\": \"Civic Center BART Station (7th St at Market St)\",\n",
        "    \"3\": \"Embarcadero BART Station (Beale St at Market St)\",\n",
        "    # ... and so on\n",
        "}\n",
        "\n",
        "def station_id_to_name(station_id):\n",
        "    return station_id_to_name.get(station_id, \"Unknown\")\n",
        "\n",
        "!pip install fuzzywuzzy\n",
        "from fuzzywuzzy import fuzz\"\"\""
      ],
      "metadata": {
        "id": "TIBK-_uO7EVZ",
        "colab": {
          "base_uri": "https://localhost:8080/",
          "height": 157
        },
        "outputId": "6e47700c-7766-4d07-c5b9-8237b9f0564a"
      },
      "execution_count": 562,
      "outputs": [
        {
          "output_type": "execute_result",
          "data": {
            "text/plain": [
              "'# TO-DO: Replace station IDs with station names in trips_final_df. Read ALL the bullets above carefully!\\ndef station_id_to_name(station_id):\\n    # This function is not provided in the context.\\n    # You need to implement it based on your specific data and requirements.\\n    # For example, you could use fuzzy string matching to find the closest match in a list of known station names.\\n    pass\\n    trips_final_df[\"start_station\"] = trips_final_df[\"start_station\"].map(station_id_to_name).fillna(\"Unknown\")\\ntrips_final_df[\"end_station\"] = trips_final_df[\"end_station\"].map(station_id_to_name).fillna(\"Unknown\")\\n\\ndef station_id_to_name(station_id):\\n       # Your specific implementation based on your data and requirements\\n       # For example, you could use fuzzy string matching to find the closest match in a list of known station names.\\n       pass\\n\\ndef station_id_to_name(station_id):\\n       if station_id is None:\\n           return \"Unknown\"\\n       # Your specific implementation based on your data and requirements\\n       # For example, you could use fuzzy string matching to find the closest match in a list of known station names.\\n       pass\\n\\n# Ensure that the arguments are valid and expected\\n# Ensure that the arguments are valid and expected\\ntrips_final_df[\"start_station\"] = trips_final_df[\"start_station\"].map(lambda station_id: station_id_to_name(station_id))\\ntrips_final_df[\"end_station\"] = trips_final_df[\"end_station\"].map(lambda station_id: station_id_to_name(station_id))\\n\\n!pip install uszipcode\\n\\nfrom uszipcode import station_id_to_name\\n\\n!pip show uszipcode\\n\\n!pip install --upgrade uszipcode\\n\\nfrom uszipcode import station_id_to_name\\n\\nfrom uszipcode import ZipCode\\n\\nfrom uszipcode import ZipCode\\n\\nstation_id_to_name = {\\n    \"1\": \"Powell St BART Station (Market St at 5th St)\",\\n    \"2\": \"Civic Center BART Station (7th St at Market St)\",\\n    \"3\": \"Embarcadero BART Station (Beale St at Market St)\",\\n    # ... and so on\\n}\\n\\ndef station_id_to_name(station_id):\\n    return station_id_to_name.get(station_id, \"Unknown\")\\n\\n!pip install fuzzywuzzy\\nfrom fuzzywuzzy import fuzz'"
            ],
            "application/vnd.google.colaboratory.intrinsic+json": {
              "type": "string"
            }
          },
          "metadata": {},
          "execution_count": 562
        }
      ]
    },
    {
      "cell_type": "code",
      "source": [
        "# Define a dictionary to map station IDs to station names\n",
        "station_names = {\n",
        "    \"1\": \"Powell St BART Station (Market St at 5th St)\",\n",
        "    \"2\": \"Civic Center BART Station (7th St at Market St)\",\n",
        "    \"3\": \"Embarcadero BART Station (Beale St at Market St)\",\n",
        "    # ... and so on\n",
        "}\n",
        "\n",
        "# Define a function to map station IDs to station names\n",
        "def station_id_to_name(station_id):\n",
        "    return station_names.get(station_id, \"Unknown\")\n",
        "\n",
        "# Map station IDs to station names in the DataFrame\n",
        "trips_final_df[\"start_station\"] = trips_final_df[\"start_station\"].map(station_id_to_name).fillna(\"Unknown\")\n",
        "trips_final_df[\"end_station\"] = trips_final_df[\"end_station\"].map(station_id_to_name).fillna(\"Unknown\")\n"
      ],
      "metadata": {
        "id": "rRHumm7P8VJK"
      },
      "execution_count": 563,
      "outputs": []
    },
    {
      "cell_type": "code",
      "source": [
        "# TO-DO: Sort trips_final_df by the trip_id\n",
        "trips_final_df.sort_values(by=\"trip_id\", inplace=True)\n"
      ],
      "metadata": {
        "id": "EfdLg0mpxANz"
      },
      "execution_count": 564,
      "outputs": []
    },
    {
      "cell_type": "code",
      "source": [
        "# 3 points\n",
        "grader.grade(test_case_id = 'test_stations', answer = trips_final_df.reset_index(drop=True))"
      ],
      "metadata": {
        "id": "hXK8HI2j7EL0",
        "colab": {
          "base_uri": "https://localhost:8080/"
        },
        "outputId": "a45fb82f-1946-4d15-a2eb-679ef4fcf5a0"
      },
      "execution_count": 565,
      "outputs": [
        {
          "output_type": "stream",
          "name": "stdout",
          "text": [
            "You earned 2/3 points.\n",
            "\n",
            "But, don't worry, you can re-submit and we will keep only your latest score.\n"
          ]
        }
      ]
    },
    {
      "cell_type": "markdown",
      "source": [
        "**TO-DO** : Repeat the same using `trips_cleaned_df` (only for this sql query) and `pandasql`, saving it as `trips_stations_sql`.\n",
        "\n",
        "<ins>Remember:</ins> If a station ID cannot be mapped to a name, the name should be **NULL**"
      ],
      "metadata": {
        "id": "uon1cRZVZ6vI"
      }
    },
    {
      "cell_type": "code",
      "source": [
        "#TODO : Use pandasql to replace station IDs with station names in trips_cleaned_df and save it as trips_stations_sql\n",
        "\n",
        "replace_query = \"\"\"\n",
        "                SELECT\n",
        "                    trip_id,\n",
        "                    duration,\n",
        "                    start_time,\n",
        "                    end_time,\n",
        "                    (CASE\n",
        "                        WHEN s1.station_name IS NOT NULL THEN s1.station_name\n",
        "                        ELSE 'Unknown'\n",
        "                    END) AS start_station,\n",
        "                    start_lat,\n",
        "                    start_lon,\n",
        "                    (CASE\n",
        "                        WHEN s2.station_name IS NOT NULL THEN s2.station_name\n",
        "                        ELSE 'Unknown'\n",
        "                    END) AS end_station,\n",
        "                    end_lat,\n",
        "                    end_lon,\n",
        "                    bike_id,\n",
        "                    trip_route_category,\n",
        "                    passholder_type,\n",
        "                    bike_type\n",
        "                FROM\n",
        "                    trips_cleaned_df AS t\n",
        "                LEFT JOIN\n",
        "                    stations_cleaned_df AS s1 ON t.start_station = s1.station_id\n",
        "                LEFT JOIN\n",
        "                    stations_cleaned_df AS s2 ON t.end_station = s2.station_id\n",
        "                \"\"\"\n",
        "\n",
        "trips_stations_sql = ps.sqldf(replace_query, locals())\n",
        "trips_stations_sql\n",
        "\n",
        "!ls\n",
        "\n",
        "import pandas as pd\n",
        "\n",
        "stations_cleaned_df = pd.read_csv('stations_cleaned.csv')\n"
      ],
      "metadata": {
        "id": "BoBeYT_uZtJH",
        "colab": {
          "base_uri": "https://localhost:8080/"
        },
        "outputId": "19509ca2-f16f-43e3-eb56-6cd11a83d514"
      },
      "execution_count": 566,
      "outputs": [
        {
          "output_type": "stream",
          "name": "stdout",
          "text": [
            "config.yaml\t      indego_trips.csv\t      sample_data\t    weather_cleaned.csv\n",
            "day_pass_duration.db  restaurant_reviews.csv  stations_cleaned.csv\n",
            "drive\t\t      reviews_cleaned.csv     trips_cleaned.csv\n",
            "indego_stations.csv   round_trip.db\t      weather_2022_PHL.csv\n"
          ]
        }
      ]
    },
    {
      "cell_type": "code",
      "source": [
        "#3 points\n",
        "grader.grade(test_case_id = 'test_stations_sql', answer = (trips_stations_sql, replace_query))"
      ],
      "metadata": {
        "id": "rnEiHa_8Zs--",
        "colab": {
          "base_uri": "https://localhost:8080/"
        },
        "outputId": "5c6acaab-7a78-483e-c833-bf5cb683f514"
      },
      "execution_count": 567,
      "outputs": [
        {
          "output_type": "stream",
          "name": "stdout",
          "text": [
            "Correct! You earned 3/3 points. You are a star!\n",
            "\n",
            "Your submission has been successfully recorded in the gradebook.\n"
          ]
        }
      ]
    },
    {
      "cell_type": "markdown",
      "source": [
        "#### 2.2.2 Morning Class? (6 points)\n",
        "We are all pretty familiar with University City, most of you probably live in or commute to this area every day. We want to count the number of people who start out at the University City Station before noon.\n",
        "\n",
        "**TO-DO**:\n",
        "* The first step involved is creating a new column in `trips_final_df` called `hour` where you will extract the hour of the `start_time` column. You can do this using pandas, and an apply function.\n",
        "* The next step is to use `pandasql` to count the number of rides that start at the 'University City Station' before noon (do not include trips with hour 12) and store the result in a dataframe called `ucity_df`, with the column name as `ride_count`.\n",
        "\n",
        "**Hint**: you may find it helpful to look up the `.Timestamp()` function to understand how to extract the hour of a particular date."
      ],
      "metadata": {
        "id": "_BuyVlRb7EvA"
      }
    },
    {
      "cell_type": "code",
      "source": [
        "#TODO : Create a new column called hour\n",
        "trips_final_df['hour'] = pd.to_datetime(trips_final_df['start_time']).dt.hour\n"
      ],
      "metadata": {
        "id": "bUWKZMoA7I5E"
      },
      "execution_count": 568,
      "outputs": []
    },
    {
      "cell_type": "code",
      "source": [
        "\n",
        "# Write the SQL query to count the number of rides before noon that started at University City Station\n",
        "ucity_query = \"\"\"\n",
        "SELECT COUNT(*) AS ride_count\n",
        "FROM trips_final_df\n",
        "WHERE start_station = 'University City Station' AND hour < 12\n",
        "\"\"\"\n",
        "\n",
        "# Execute the query\n",
        "ucity_df = ps.sqldf(ucity_query)\n",
        "\n",
        "# Print the result\n",
        "print(\"Number of rides starting at University City Station before noon:\", ucity_df['ride_count'].values[0])\n"
      ],
      "metadata": {
        "colab": {
          "base_uri": "https://localhost:8080/"
        },
        "id": "VFJ8ibhAkpni",
        "outputId": "662d3397-aba3-4a78-82ae-8864a2c3728b"
      },
      "execution_count": 569,
      "outputs": [
        {
          "output_type": "stream",
          "name": "stdout",
          "text": [
            "Number of rides starting at University City Station before noon: 0\n"
          ]
        }
      ]
    },
    {
      "cell_type": "code",
      "source": [
        "#6 points\n",
        "grader.grade(test_case_id = 'test_ucity', answer = (trips_final_df.reset_index(drop=True), ucity_df.reset_index(drop=True), ucity_query))"
      ],
      "metadata": {
        "colab": {
          "base_uri": "https://localhost:8080/"
        },
        "id": "hWUhIdi5Ic2y",
        "outputId": "ebbc3c1b-4803-4d48-d7be-85f2f84f70bb"
      },
      "execution_count": 570,
      "outputs": [
        {
          "output_type": "stream",
          "name": "stdout",
          "text": [
            "You earned 5/6 points.\n",
            "\n",
            "Ride Count is incorrect \n",
            "Don't worry, you can re-submit and we will keep only your latest score.\n"
          ]
        }
      ]
    },
    {
      "cell_type": "markdown",
      "source": [
        "#### 2.2.3 Most Popular Stations (6 points)\n",
        "We now want to see which stations from `trips_final_df` are used most frequently.\n",
        "\n",
        "**TODO**:\n",
        "* Find the total number of rides for each `start_station`\n",
        "* Return the top 3 most frequently used stations in a dataframe named `top3_df` where the schema looks like this:\n",
        "\n",
        "> Station | Count_rides\n",
        "> --- | ---\n",
        "\n",
        "**Hint**: Use `pandasql` to do this in ONE query."
      ],
      "metadata": {
        "id": "aCCk-rrn7JOg"
      }
    },
    {
      "cell_type": "code",
      "source": [
        "#TODO: Return the top three used stations by number of rides\n",
        "# Import necessary libraries\n",
        "import pandas as pd\n",
        "import pandasql as ps\n",
        "\n",
        "# Load the data\n",
        "trips_cleaned_df = pd.read_csv(\"trips_cleaned.csv\")  # replace with your actual DataFrame\n",
        "stations_cleaned_df = pd.read_csv('stations_cleaned.csv')  # replace with your actual DataFrame\n",
        "\n",
        "# Write the SQL query\n",
        "replace_query = \"\"\"\n",
        "                SELECT\n",
        "                    t.trip_id,\n",
        "                    t.duration,\n",
        "                    t.start_time,\n",
        "                    t.end_time,\n",
        "                    COALESCE(s1.station_name, 'Unknown') AS start_station,\n",
        "                    t.start_lat,\n",
        "                    t.start_lon,\n",
        "                    COALESCE(s2.station_name, 'Unknown') AS end_station,\n",
        "                    t.end_lat,\n",
        "                    t.end_lon,\n",
        "                    t.bike_id,\n",
        "                    t.trip_route_category,\n",
        "                    t.passholder_type,\n",
        "                    t.bike_type\n",
        "                FROM\n",
        "                    trips_cleaned_df AS t\n",
        "                LEFT JOIN\n",
        "                    stations_cleaned_df AS s1 ON t.start_station = s1.station_id\n",
        "                LEFT JOIN\n",
        "                    stations_cleaned_df AS s2 ON t.end_station = s2.station_id\n",
        "                \"\"\"\n",
        "\n",
        "# Execute the query\n",
        "trips_stations_sql = ps.sqldf(replace_query)\n",
        "\n",
        "# Print the result\n",
        "#print(trips_stations_sql)\n",
        "# Write the SQL query\n",
        "top3_query = \"\"\"\n",
        "SELECT start_station AS Station, COUNT(*) AS Count_rides\n",
        "FROM trips_stations_sql\n",
        "GROUP BY start_station\n",
        "ORDER BY Count_rides DESC\n",
        "LIMIT 3\n",
        "\"\"\"\n",
        "\n",
        "# Execute the query\n",
        "top3_df = ps.sqldf(top3_query)\n",
        "\n",
        "# Print the result\n",
        "print(top3_df)\n"
      ],
      "metadata": {
        "id": "ZaZqjaky7PHB",
        "colab": {
          "base_uri": "https://localhost:8080/"
        },
        "outputId": "0aa1f33c-f781-4fe6-c43d-504a53286b47"
      },
      "execution_count": 571,
      "outputs": [
        {
          "output_type": "stream",
          "name": "stdout",
          "text": [
            "           Station  Count_rides\n",
            "0    17th & Locust          267\n",
            "1  12th & Chestnut          238\n",
            "2    15th & Spruce          233\n"
          ]
        }
      ]
    },
    {
      "cell_type": "code",
      "source": [
        "# 6 points\n",
        "grader.grade(test_case_id = 'test_freq_stat', answer = (top3_query,top3_df))\n"
      ],
      "metadata": {
        "id": "nCcj1xdr7O2H",
        "colab": {
          "base_uri": "https://localhost:8080/"
        },
        "outputId": "f400d567-8f98-473a-fcb6-3929325550ad"
      },
      "execution_count": 572,
      "outputs": [
        {
          "output_type": "stream",
          "name": "stdout",
          "text": [
            "Correct! You earned 6/6 points. You are a star!\n",
            "\n",
            "Your submission has been successfully recorded in the gradebook.\n"
          ]
        }
      ]
    },
    {
      "cell_type": "markdown",
      "source": [
        "### 2.3 Determining the Distance [8 points]\n",
        "\n",
        "We are going to be using a new package called geopy to calculate the distance between the start and end stations for a particular ride.\n",
        "\n",
        "`geopy` has been imported as `gp` above, and the `.geodesic()` gives you the distance between two sets of coordinates. We have the coordinates for the start_station and end_station for each ride.\n",
        "\n",
        "**TO-DO**:\n",
        "* For the trip with `'trip_id': 540422637`, find the latitude and longitudes of both the start and end stations.\n",
        "* Save the latitude and longitude as **tuples** into variables `coords_1` and `coords_2` for the `'start_station'` and `'end_station'` respectively.\n",
        "  - Do **NOT** hard code the values: you will get a **ZERO** for the question when we manually review for this!\n",
        "* Use geopy to calculate the distance **in miles** between the two stations and save it to the variable final_dist."
      ],
      "metadata": {
        "id": "2oUvTghy7Pdw"
      }
    },
    {
      "cell_type": "code",
      "source": [
        "# TO-DO: Use pandasql to obtain the latitude and longitude of the start and end stations for ride ID 540422637.\n",
        "# Write the SQL query\n",
        "latlng_query = \"\"\"\n",
        "SELECT start_lat, start_lon, end_lat, end_lon\n",
        "FROM trips_final_df\n",
        "WHERE trip_id = 540422637\n",
        "\"\"\"\n",
        "\n",
        "# Execute the query\n",
        "latlng_df = ps.sqldf(latlng_query)\n",
        "\n",
        "# Print the result\n",
        "print(latlng_df)\n"
      ],
      "metadata": {
        "id": "EpVOwJtp7aWS",
        "colab": {
          "base_uri": "https://localhost:8080/"
        },
        "outputId": "745be84a-b13e-4252-8f35-82787d8a6ea7"
      },
      "execution_count": 573,
      "outputs": [
        {
          "output_type": "stream",
          "name": "stdout",
          "text": [
            "   start_lat  start_lon    end_lat    end_lon\n",
            "0  39.947109 -75.166183  39.927769 -75.151031\n"
          ]
        }
      ]
    },
    {
      "cell_type": "code",
      "source": [
        "# TO-DO : Fill in the coordinates using the dataframe that has the resultant coordinates\n",
        "# Get the coordinates from the DataFrame\n",
        "coords_1 = (latlng_df['start_lat'][0], latlng_df['start_lon'][0])  # coordinates for the start station\n",
        "coords_2 = (latlng_df['end_lat'][0], latlng_df['end_lon'][0])  # coordinates for the end station\n",
        "\n",
        "print(\"Coordinates for the start station:\", coords_1)\n",
        "print(\"Coordinates for the end station:\", coords_2)\n"
      ],
      "metadata": {
        "id": "kIZfNmVuMLEk",
        "colab": {
          "base_uri": "https://localhost:8080/"
        },
        "outputId": "0700032d-cf6a-46d2-cdd0-9c35ea074e50"
      },
      "execution_count": 574,
      "outputs": [
        {
          "output_type": "stream",
          "name": "stdout",
          "text": [
            "Coordinates for the start station: (39.947109, -75.166183)\n",
            "Coordinates for the end station: (39.927769, -75.151031)\n"
          ]
        }
      ]
    },
    {
      "cell_type": "code",
      "source": [
        "# TO-DO: Use geopy and its appropriate functions to calculate the distance between the two stations\n",
        "# Import necessary libraries\n",
        "from geopy.distance import geodesic\n",
        "\n",
        "# Calculate the distance between the two stations\n",
        "final_dist = geodesic(coords_1, coords_2).miles\n",
        "\n",
        "print(\"Distance between the two stations:\", final_dist, \"miles\")\n"
      ],
      "metadata": {
        "id": "KpR7DKPBMLmL",
        "colab": {
          "base_uri": "https://localhost:8080/"
        },
        "outputId": "4ef92e69-095b-47d0-a13c-2ad8ccc188a0"
      },
      "execution_count": 575,
      "outputs": [
        {
          "output_type": "stream",
          "name": "stdout",
          "text": [
            "Distance between the two stations: 1.558201402042118 miles\n"
          ]
        }
      ]
    },
    {
      "cell_type": "code",
      "source": [
        "# 8 points\n",
        "grader.grade(test_case_id = 'test_geodist', answer = (coords_1, coords_2, final_dist, latlng_query))"
      ],
      "metadata": {
        "id": "DIzg0Xkn7Z-7",
        "colab": {
          "base_uri": "https://localhost:8080/"
        },
        "outputId": "b3413dbf-c331-478a-8c7a-44033514d9ad"
      },
      "execution_count": 576,
      "outputs": [
        {
          "output_type": "stream",
          "name": "stdout",
          "text": [
            "Correct! You earned 8/8 points. You are a star!\n",
            "\n",
            "Your submission has been successfully recorded in the gradebook.\n"
          ]
        }
      ]
    },
    {
      "cell_type": "code",
      "source": [
        "\"\"\"!pip install autograde\n",
        "\n",
        "!pip install autograde\n",
        "\n",
        "\n",
        "!jupyter nbconvert --execute lab09.ipynb\n",
        "\n",
        "\n",
        "!pip install autograde\n",
        "\n",
        "!jupyter nbconvert --execute lab01.ipynb\n",
        "\n",
        "!pip show grader\"\"\""
      ],
      "metadata": {
        "colab": {
          "base_uri": "https://localhost:8080/",
          "height": 52
        },
        "id": "mZV1oa2FMs7I",
        "outputId": "a91b3f98-58bd-435e-97a2-08a4835b4536"
      },
      "execution_count": 577,
      "outputs": [
        {
          "output_type": "execute_result",
          "data": {
            "text/plain": [
              "'!pip install autograde\\n\\n!pip install autograde\\n\\n\\n!jupyter nbconvert --execute lab09.ipynb\\n\\n\\n!pip install autograde\\n\\n!jupyter nbconvert --execute lab01.ipynb\\n\\n!pip show grader'"
            ],
            "application/vnd.google.colaboratory.intrinsic+json": {
              "type": "string"
            }
          },
          "metadata": {},
          "execution_count": 577
        }
      ]
    },
    {
      "cell_type": "markdown",
      "source": [
        "### 2.4 Destinations from Amtrak Station [7 points]\n",
        "As you might imagine, Amtrak Station is a very important location for Indego, as there is a lot of people that either want to get there for a train ride or are exiting from there to visit Philadelphia. Thus, we want to learn about where people tend to go once they leave Amtrak Station.\n",
        "\n",
        "You will first create this dataset using Pandas, and then SQL (pandasql)\n",
        "\n",
        "**TO-DO:**\n",
        "- Using `trips_final_df`, find the top 5 most common end stations where Amtrak Station was the start_station where the duration is **at least 15 minutes**\n",
        "  - Do **NOT** include Amtrak as an end station!\n",
        "  - Note that duration is already measured in minutes, and that Amtrak's station_name is _\"Amtrak 30th Street Station\"_\n",
        "- For this Pandas section, name the final dataframe `end_station_df`.\n",
        "- Ensure that `end_station_df` is first sorted by `Count` in descending order, and then sorted by `end_station` in ascending order.\n",
        "\n",
        "**Final Schema (make sure you have the same column names and order!)**:\n",
        "> end_station | Count\n",
        "> --- | ---"
      ],
      "metadata": {
        "id": "sQQ1CzdiS3yI"
      }
    },
    {
      "cell_type": "code",
      "source": [
        "# TODO: Get end_station_df using Pandas\n",
        "# Filter rows where duration is at least 15 minutes\n",
        "filtered_df = trips_final_df[trips_final_df['duration'] >= 15]\n",
        "\n",
        "# Group by end_station and count the number of rows for each end_station\n",
        "end_station_counts = filtered_df['end_station'].value_counts()\n",
        "\n",
        "# Convert the Series to a DataFrame and reset the index\n",
        "end_station_df = end_station_counts.reset_index()\n",
        "\n",
        "# Rename the columns\n",
        "end_station_df.columns = ['end_station', 'Count']\n",
        "\n",
        "# Get the top 5\n",
        "end_station_df = end_station_df.head(5)\n"
      ],
      "metadata": {
        "id": "VGAB9ue9S3yK"
      },
      "execution_count": 578,
      "outputs": []
    },
    {
      "cell_type": "markdown",
      "source": [
        "**TO-DO:**\n",
        "- Repeat the process but now using pandasql. Please make sure to use `end_station_query` to save your SQL code as this is what will be graded.\n",
        "- Name the final dataframe `sql_end_station_df`\n",
        "- Double-check that this looks the exact same as `end_station_df` from the Pandas section above.\n",
        "\n",
        "**Final Schema:**\n",
        "> end_station | Count\n",
        "> --- | ---"
      ],
      "metadata": {
        "id": "4XTfx3f_S3yL"
      }
    },
    {
      "cell_type": "code",
      "source": [
        "# TODO: Get the same exact query, but only using PandaSQL\n",
        "\n",
        "end_station_query = \"\"\"\n",
        "                    SELECT end_station, COUNT(*) as Count\n",
        "                    FROM trips_final_df\n",
        "                    WHERE duration >= 15 AND end_station != 'Amtrak 30th Street Station'\n",
        "                    GROUP BY end_station\n",
        "                    ORDER BY Count DESC, end_station ASC\n",
        "                    LIMIT 5\n",
        "                    \"\"\"\n",
        "\n",
        "sql_end_station_df = ps.sqldf(end_station_query, locals())\n"
      ],
      "metadata": {
        "id": "wArHcWrvS3yM"
      },
      "execution_count": 579,
      "outputs": []
    },
    {
      "cell_type": "code",
      "source": [
        "# 7 points\n",
        "grader.grade(test_case_id = 'test_amtrak', answer = (end_station_df.reset_index(drop=True), sql_end_station_df, end_station_query))"
      ],
      "metadata": {
        "id": "uCoROMVlS3yM",
        "colab": {
          "base_uri": "https://localhost:8080/"
        },
        "outputId": "68d2e69d-06ee-42a9-ef9f-5bdd5f5b121f"
      },
      "execution_count": 580,
      "outputs": [
        {
          "output_type": "stream",
          "name": "stdout",
          "text": [
            "You earned 4/7 points.\n",
            "\n",
            "It seems like you have the incorrect number of stations\n",
            "It seems like you have incorrect counts for end stations\n",
            "It seems like you have the wrong end station names\n",
            "Don't worry, you can re-submit and we will keep only your latest score.\n"
          ]
        }
      ]
    },
    {
      "cell_type": "markdown",
      "source": [
        "### 2.5 Weather and Trip Data [13 points]"
      ],
      "metadata": {
        "id": "0OIIHzThS3yM"
      }
    },
    {
      "cell_type": "markdown",
      "source": [
        "#### 2.5.1 Trips and Weather Tables [3 points]\n",
        "\n",
        "We will begin by slightly modifying `trips_final_df` and `weather_cleaned_df`. We eventually want to merge using the `date` column from `weather_cleaned_df` and the `start_time` column from `trips_final_df`. You will note that these two columns do not contain the same information, since `date` does not contain the time.\n",
        "\n",
        "**We are not concerned about the time, it is up to you to find the best way to alter the `start_time` column to keep just the date and thus make merging possible**.\n",
        "\n",
        "We strongly recommend creating a new `date` column in `trips_final_df` containing only the day information, as it will make merging the dataframes much easier.\n",
        "\n",
        "**TO-DO:** \\\\\n",
        "- `weather_merge_df`, containing columns `date`, `actual_max_temp` and `actual_precipitation`\n",
        "- `trips_merge_df`, containing columns `date`,  `bike_type`, `start_station` and `trip_id`"
      ],
      "metadata": {
        "id": "FMW2nhXPS3yN"
      }
    },
    {
      "cell_type": "code",
      "source": [
        "# TODO: Create weather_merge_df and trips_merge_df\n",
        "# Create weather_merge_df\n",
        "weather_merge_df = weather_cleaned_df[['date', 'actual_max_temp', 'actual_precipitation']]\n",
        "\n",
        "# Convert the start_time column to datetime\n",
        "trips_final_df['start_time'] = pd.to_datetime(trips_final_df['start_time'])\n",
        "\n",
        "# Create a new date column\n",
        "trips_final_df['date'] = trips_final_df['start_time'].dt.date\n",
        "\n",
        "# Create trips_merge_df\n",
        "trips_merge_df = trips_final_df[['date', 'bike_type', 'start_station', 'trip_id']]"
      ],
      "metadata": {
        "id": "owKCJszYS3yO"
      },
      "execution_count": 581,
      "outputs": []
    },
    {
      "cell_type": "code",
      "source": [
        "# 3 points\n",
        "grader.grade(test_case_id = 'test_merge_df', answer = (weather_merge_df.reset_index(drop=True), trips_merge_df.reset_index(drop=True)))"
      ],
      "metadata": {
        "id": "IYjUTfDQS3yO",
        "colab": {
          "base_uri": "https://localhost:8080/"
        },
        "outputId": "2b095803-8cfe-4708-bfa3-d1795b551a1c"
      },
      "execution_count": 582,
      "outputs": [
        {
          "output_type": "stream",
          "name": "stdout",
          "text": [
            "Correct! You earned 3/3 points. You are a star!\n",
            "\n",
            "Your submission has been successfully recorded in the gradebook.\n"
          ]
        }
      ]
    },
    {
      "cell_type": "markdown",
      "source": [
        "#### 2.5.2 Standard Riding on Spruce (SQL) [3 points]\n",
        "\n",
        "**TO-DO:**\n",
        "- Using `trips_merge_df` and `weather_merge_df`, *for each actual max temperature*, find the percentage of rides that were of **standard** bike type on trips where the start_station included **Spruce** in it\n",
        "  - e.g. \"13th & Spruce\" OR \"15th & Spruce\" are 2 potential start_stations that would be included\n",
        "- Filter so that we only have entries where the **average actual_precipitation** is **less than** 0.3\n",
        "\n",
        "*   Cast your percentages to integers and name the column **Standard_Percentage**\n",
        "\n",
        "**Final Schema (make sure you have the same column names and order!)**:\n",
        ">Temperature | Standard_Percentage |\n",
        ">--- | --- |"
      ],
      "metadata": {
        "id": "NystCsO9EuIh"
      }
    },
    {
      "cell_type": "code",
      "source": [
        "# TO-DO: Create percentage_df (use PandaSQL)\n",
        "percentage_query = \"\"\"\n",
        "                   SELECT w.actual_max_temp as Temperature,\n",
        "                          CAST(SUM(CASE WHEN t.bike_type = 'standard' THEN 1 ELSE 0 END) AS FLOAT) / COUNT(*) * 100 as Standard_Percentage\n",
        "                   FROM trips_merge_df t\n",
        "                   JOIN weather_merge_df w ON t.date = w.date\n",
        "                   WHERE t.start_station LIKE '%Spruce%' AND w.actual_precipitation < 0.3\n",
        "                   GROUP BY w.actual_max_temp\n",
        "                   \"\"\"\n",
        "\n",
        "percentage_df = ps.sqldf(percentage_query, locals())\n"
      ],
      "metadata": {
        "id": "7jbzplMKS3yP"
      },
      "execution_count": 583,
      "outputs": []
    },
    {
      "cell_type": "code",
      "source": [
        "# 3 points\n",
        "grader.grade(test_case_id = 'test_percentage', answer = (percentage_query, percentage_df))"
      ],
      "metadata": {
        "id": "ql6NED1sqwFr",
        "colab": {
          "base_uri": "https://localhost:8080/"
        },
        "outputId": "a12a414e-32f7-4e11-b222-fddc467cf078"
      },
      "execution_count": 584,
      "outputs": [
        {
          "output_type": "stream",
          "name": "stdout",
          "text": [
            "You earned 2/3 points.\n",
            "\n",
            "It seems like you have either the wrong Temperture or Standard Percentage values\n",
            "Don't worry, you can re-submit and we will keep only your latest score.\n"
          ]
        }
      ]
    },
    {
      "cell_type": "markdown",
      "source": [
        "#### 2.5.3 Rainy Days vs Non-Rainy Days [7 points]\n",
        "\n",
        "Just to get a little more practice with SQL...\n",
        "\n",
        "**TO-DO:**\n",
        "- Make a dataframe called `sql_rain_df` using query `rain_query` that finds the total number of trips on Rainy Days vs. Sunny Days, along with the number of days for each day type (rainy, non-rainy)\n",
        "  - A rainy day is defined as one where the precipitation was **greater than 0**.\n",
        "  - You will find `WITH (...) AS` and `UNION` commands useful here.\n",
        "\n",
        "<ins>Sense-Check</ins>: The `'Number of Days'` in your output will necessarily need to sum up to **7** since we only have 7 different days in our bikes dataset.\n",
        "\n",
        "<ins>Warning</ins>: Please note that you do NOT need to do this with Pandas, **ONLY PANDASQL**! <br> If you do this in Pandas, we will reduce the score to **ZERO** during manual review.\n",
        "\n",
        "\n",
        "**Final Schema** _(make sure you have the same column names and order!)_:\n",
        ">Day Type | Number of Rides | Number of Days\n",
        ">--- | --- | --- |\n",
        "> Rainy Day | ? | ?\n",
        "> Sunny Day | ? | ?"
      ],
      "metadata": {
        "id": "_3sr7YYrS3yR"
      }
    },
    {
      "cell_type": "code",
      "source": [
        "# Import necessary libraries\n",
        "import pandas as pd\n",
        "import pandasql as ps\n",
        "\n",
        "# Load the data\n",
        "trips_df = pd.read_csv(\"trips_cleaned.csv\")\n",
        "weather_df = pd.read_csv(\"weather_cleaned.csv\")\n",
        "\n",
        "# Convert date columns to datetime if necessary\n",
        "trips_df['start_time'] = pd.to_datetime(trips_df['start_time'])\n",
        "weather_df['date'] = pd.to_datetime(weather_df['date'])\n",
        "\n",
        "# Convert precipitation column to numeric if necessary\n",
        "weather_df['actual_precipitation'] = pd.to_numeric(weather_df['actual_precipitation'])\n",
        "\n",
        "# Merge the dataframes\n",
        "merged_df = pd.merge(trips_df, weather_df, left_on='start_time', right_on='date')\n",
        "\n",
        "# Write the SQL query\n",
        "rain_query = \"\"\"\n",
        "WITH rainy_days AS (\n",
        "    SELECT date, COUNT(trip_id) AS num_rides\n",
        "    FROM merged_df\n",
        "    WHERE actual_precipitation > 0\n",
        "    GROUP BY date\n",
        "),\n",
        "sunny_days AS (\n",
        "    SELECT date, COUNT(trip_id) AS num_rides\n",
        "    FROM merged_df\n",
        "    WHERE actual_precipitation = 0\n",
        "    GROUP BY date\n",
        ")\n",
        "SELECT 'Rainy Day' AS 'Day Type', SUM(num_rides) AS 'Number of Rides', COUNT(*) AS 'Number of Days'\n",
        "FROM rainy_days\n",
        "UNION ALL\n",
        "SELECT 'Sunny Day' AS 'Day Type', SUM(num_rides) AS 'Number of Rides', COUNT(*) AS 'Number of Days'\n",
        "FROM sunny_days\n",
        "\"\"\"\n",
        "\n",
        "# Execute the query\n",
        "sql_rain_df = ps.sqldf(rain_query, locals())\n",
        "\n",
        "# Print the result\n",
        "print(sql_rain_df)\n"
      ],
      "metadata": {
        "id": "x0ifSHrSS3yR",
        "colab": {
          "base_uri": "https://localhost:8080/"
        },
        "outputId": "8190417b-1247-43cd-955a-38c1790b3bef"
      },
      "execution_count": 585,
      "outputs": [
        {
          "output_type": "stream",
          "name": "stdout",
          "text": [
            "    Day Type  Number of Rides  Number of Days\n",
            "0  Rainy Day                1               1\n",
            "1  Sunny Day                2               2\n"
          ]
        }
      ]
    },
    {
      "cell_type": "code",
      "source": [
        "# 7 points\n",
        "grader.grade(test_case_id = 'test_rainy', answer = (sql_rain_df,rain_query))"
      ],
      "metadata": {
        "id": "XKRLmq_2S3yS",
        "colab": {
          "base_uri": "https://localhost:8080/"
        },
        "outputId": "991641f1-5e04-4cc9-eb57-9b80cf2557ac"
      },
      "execution_count": 586,
      "outputs": [
        {
          "output_type": "stream",
          "name": "stdout",
          "text": [
            "You earned 5/7 points.\n",
            "\n",
            "It seems like you have the incorrect number of rides\n",
            "It seems like you have incorrect number of days for Sunny and Rainy Days\n",
            "Don't worry, you can re-submit and we will keep only your latest score.\n"
          ]
        }
      ]
    },
    {
      "cell_type": "markdown",
      "source": [
        "## Part 3: Data Visualization [8 points total]"
      ],
      "metadata": {
        "id": "2TmWRlsBS3yU"
      }
    },
    {
      "cell_type": "markdown",
      "source": [
        "You've done great work so far! Now let's create a couple visualizations to illustrate data we might be interested in.\n",
        "\n",
        "\n",
        "This section will be **manually graded**."
      ],
      "metadata": {
        "id": "FBMLzvZES3yU"
      }
    },
    {
      "cell_type": "markdown",
      "source": [
        "Begin by following the directions below to prepare the dataset for plotting"
      ],
      "metadata": {
        "id": "SWl6emHZS3yU"
      }
    },
    {
      "cell_type": "code",
      "source": [
        "from datetime import datetime\n",
        "import seaborn as sns"
      ],
      "metadata": {
        "id": "vUBBTugE9T4H"
      },
      "execution_count": 587,
      "outputs": []
    },
    {
      "cell_type": "markdown",
      "source": [
        "For this part we will be using `trips_final_df`"
      ],
      "metadata": {
        "id": "7TbqcrVG9VDd"
      }
    },
    {
      "cell_type": "code",
      "source": [
        "# Step 1a - using datetime functions, create a column called Time that has the time\n",
        "# (Hour:Minute) seen in the start_time column\n",
        "\n",
        "# HINT: The date should be of type %m/%d/%Y %H:%M, and once you've converted to datetime\n",
        "# you can use the .time() function to get the time of day\n",
        "\n",
        "import pandas as pd\n",
        "from datetime import datetime\n",
        "import seaborn as sns\n",
        "import matplotlib.pyplot as plt\n",
        "\n",
        "\n",
        "trips_final_df['Time'] = pd.to_datetime(trips_final_df['start_time']).dt.round('H').dt.strftime('%H:%M')\n",
        "\n",
        "trips_final_df['Date'] = pd.to_datetime(trips_final_df['start_time']).dt.date\n",
        "\n",
        "trips_final_df['Day'] = pd.to_datetime(trips_final_df['Date']).dt.day_name()\n",
        "\n",
        "plot1_df = trips_final_df[['trip_id', 'Time', 'Day']]\n",
        "\n",
        "plot1_df = plot1_df.groupby(['Day', 'Time']).size().reset_index(name='Count')\n",
        "\n",
        "sns.lineplot(data=plot1_df, x='Time', y='Count', hue='Day', markers=True)\n",
        "plt.xlabel(\"Time of Day\")\n",
        "plt.ylabel(\"# of Rides\")\n",
        "plt.title(\"# of Rides for each Time of Day\")\n",
        "\n",
        "plot2_df = trips_final_df[['duration', 'Time', 'Day']]\n",
        "\n",
        "plot2_df = plot2_df.groupby(['Day', 'Time']).agg({'duration':'mean'}).reset_index()\n",
        "plot2_df = plot2_df.rename(columns={'duration':'Average Duration'})\n",
        "\n",
        "sns.lineplot(data=plot2_df, x='Time', y='Average Duration', hue='Day', markers=True)\n",
        "plt.xlabel(\"Time of Day\")\n",
        "plt.ylabel(\"Average Duration\")\n",
        "plt.title(\"Average Duration of an Indego Bike Ride for each Time of Day\")\n",
        "\n",
        "plt.show()\n",
        "\n"
      ],
      "metadata": {
        "id": "76tp5HG-S3yU",
        "colab": {
          "base_uri": "https://localhost:8080/",
          "height": 472
        },
        "outputId": "fe757587-8c95-41e0-ed25-a8be8563c9d8"
      },
      "execution_count": 588,
      "outputs": [
        {
          "output_type": "display_data",
          "data": {
            "text/plain": [
              "<Figure size 640x480 with 1 Axes>"
            ],
            "image/png": "[encoded data removed]"
          },
          "metadata": {}
        }
      ]
    },
    {
      "cell_type": "code",
      "source": [
        "# Step 2b- Using the 'Date' column, create a column called Day which has the day\n",
        "# associated with the date (Monday, Tuesday, ..., Sunday). You can discard the\n",
        "# 'Date' column once you're done.\n",
        "\n",
        "# Hint: the .weekday() function will be helpful here, but you cannot leave the final\n",
        "# answer as an integer; make sure to convert to the actual name of the day!\n",
        "\n",
        "# Note: 0 represents Monday, 1 represents Tuesday, ... , 6 represents Sunday\n",
        "\n",
        "# Convert 'Date' to datetime\n",
        "trips_final_df['Date'] = pd.to_datetime(trips_final_df['Date'])\n",
        "\n",
        "# Create a new column 'Day' with the day of the week\n",
        "trips_final_df['Day'] = trips_final_df['Date'].dt.day_name()\n",
        "\n",
        "# Discard the 'Date' column\n",
        "trips_final_df = trips_final_df.drop(columns=['Date'])\n"
      ],
      "metadata": {
        "id": "SkJU6LBS9KMa"
      },
      "execution_count": 589,
      "outputs": []
    },
    {
      "cell_type": "code",
      "source": [
        "# Step 3-  Make a dataframe that just contains 'trip_id','duration','Time of Day', and 'Day'\n",
        "\n",
        "# Convert 'start_time' to datetime\n",
        "trips_final_df['start_time'] = pd.to_datetime(trips_final_df['start_time'])\n",
        "\n",
        "# Create a new column 'Time of Day' with the time part of 'start_time'\n",
        "trips_final_df['Time of Day'] = trips_final_df['start_time'].dt.time\n",
        "\n",
        "\n",
        "# Create a new DataFrame with only the specified columns\n",
        "selected_columns_df = trips_final_df[['trip_id', 'duration', 'Time of Day', 'Day']]\n",
        "selected_columns_df"
      ],
      "metadata": {
        "id": "tEI_BSHF9L9p",
        "colab": {
          "base_uri": "https://localhost:8080/",
          "height": 423
        },
        "outputId": "ad767580-fd7f-4a4a-d141-5d7d657832ba"
      },
      "execution_count": 590,
      "outputs": [
        {
          "output_type": "execute_result",
          "data": {
            "text/plain": [
              "         trip_id  duration Time of Day       Day\n",
              "0      536546924         3    01:50:00  Saturday\n",
              "1      536546925         3    01:50:00  Saturday\n",
              "2      536546927         7    01:48:00  Saturday\n",
              "3      536546929         7    01:48:00  Saturday\n",
              "4      536546932         6    01:41:00  Saturday\n",
              "...          ...       ...         ...       ...\n",
              "15250  540422839       100    21:36:00    Friday\n",
              "15251  540422840       102    21:35:00    Friday\n",
              "15252  540422841       102    21:34:00    Friday\n",
              "15253  540422860        50    21:27:00    Friday\n",
              "15254  540422896        53    21:12:00    Friday\n",
              "\n",
              "[15255 rows x 4 columns]"
            ],
            "text/html": [
              "\n",
              "  <div id=\"df-b8a12722-6699-453c-8307-e8b804845589\" class=\"colab-df-container\">\n",
              "    <div>\n",
              "<style scoped>\n",
              "    .dataframe tbody tr th:only-of-type {\n",
              "        vertical-align: middle;\n",
              "    }\n",
              "\n",
              "    .dataframe tbody tr th {\n",
              "        vertical-align: top;\n",
              "    }\n",
              "\n",
              "    .dataframe thead th {\n",
              "        text-align: right;\n",
              "    }\n",
              "</style>\n",
              "<table border=\"1\" class=\"dataframe\">\n",
              "  <thead>\n",
              "    <tr style=\"text-align: right;\">\n",
              "      <th></th>\n",
              "      <th>trip_id</th>\n",
              "      <th>duration</th>\n",
              "      <th>Time of Day</th>\n",
              "      <th>Day</th>\n",
              "    </tr>\n",
              "  </thead>\n",
              "  <tbody>\n",
              "    <tr>\n",
              "      <th>0</th>\n",
              "      <td>536546924</td>\n",
              "      <td>3</td>\n",
              "      <td>01:50:00</td>\n",
              "      <td>Saturday</td>\n",
              "    </tr>\n",
              "    <tr>\n",
              "      <th>1</th>\n",
              "      <td>536546925</td>\n",
              "      <td>3</td>\n",
              "      <td>01:50:00</td>\n",
              "      <td>Saturday</td>\n",
              "    </tr>\n",
              "    <tr>\n",
              "      <th>2</th>\n",
              "      <td>536546927</td>\n",
              "      <td>7</td>\n",
              "      <td>01:48:00</td>\n",
              "      <td>Saturday</td>\n",
              "    </tr>\n",
              "    <tr>\n",
              "      <th>3</th>\n",
              "      <td>536546929</td>\n",
              "      <td>7</td>\n",
              "      <td>01:48:00</td>\n",
              "      <td>Saturday</td>\n",
              "    </tr>\n",
              "    <tr>\n",
              "      <th>4</th>\n",
              "      <td>536546932</td>\n",
              "      <td>6</td>\n",
              "      <td>01:41:00</td>\n",
              "      <td>Saturday</td>\n",
              "    </tr>\n",
              "    <tr>\n",
              "      <th>...</th>\n",
              "      <td>...</td>\n",
              "      <td>...</td>\n",
              "      <td>...</td>\n",
              "      <td>...</td>\n",
              "    </tr>\n",
              "    <tr>\n",
              "      <th>15250</th>\n",
              "      <td>540422839</td>\n",
              "      <td>100</td>\n",
              "      <td>21:36:00</td>\n",
              "      <td>Friday</td>\n",
              "    </tr>\n",
              "    <tr>\n",
              "      <th>15251</th>\n",
              "      <td>540422840</td>\n",
              "      <td>102</td>\n",
              "      <td>21:35:00</td>\n",
              "      <td>Friday</td>\n",
              "    </tr>\n",
              "    <tr>\n",
              "      <th>15252</th>\n",
              "      <td>540422841</td>\n",
              "      <td>102</td>\n",
              "      <td>21:34:00</td>\n",
              "      <td>Friday</td>\n",
              "    </tr>\n",
              "    <tr>\n",
              "      <th>15253</th>\n",
              "      <td>540422860</td>\n",
              "      <td>50</td>\n",
              "      <td>21:27:00</td>\n",
              "      <td>Friday</td>\n",
              "    </tr>\n",
              "    <tr>\n",
              "      <th>15254</th>\n",
              "      <td>540422896</td>\n",
              "      <td>53</td>\n",
              "      <td>21:12:00</td>\n",
              "      <td>Friday</td>\n",
              "    </tr>\n",
              "  </tbody>\n",
              "</table>\n",
              "<p>15255 rows × 4 columns</p>\n",
              "</div>\n",
              "    <div class=\"colab-df-buttons\">\n",
              "\n",
              "  <div class=\"colab-df-container\">\n",
              "    <button class=\"colab-df-convert\" onclick=\"convertToInteractive('df-b8a12722-6699-453c-8307-e8b804845589')\"\n",
              "            title=\"Convert this dataframe to an interactive table.\"\n",
              "            style=\"display:none;\">\n",
              "\n",
              "  <svg xmlns=\"http://www.w3.org/2000/svg\" height=\"24px\" viewBox=\"0 -960 960 960\">\n",
              "    <path d=\"M120-120v-720h720v720H120Zm60-500h600v-160H180v160Zm220 220h160v-160H400v160Zm0 220h160v-160H400v160ZM180-400h160v-160H180v160Zm440 0h160v-160H620v160ZM180-180h160v-160H180v160Zm440 0h160v-160H620v160Z\"/>\n",
              "  </svg>\n",
              "    </button>\n",
              "\n",
              "  <style>\n",
              "    .colab-df-container {\n",
              "      display:flex;\n",
              "      gap: 12px;\n",
              "    }\n",
              "\n",
              "    .colab-df-convert {\n",
              "      background-color: #E8F0FE;\n",
              "      border: none;\n",
              "      border-radius: 50%;\n",
              "      cursor: pointer;\n",
              "      display: none;\n",
              "      fill: #1967D2;\n",
              "      height: 32px;\n",
              "      padding: 0 0 0 0;\n",
              "      width: 32px;\n",
              "    }\n",
              "\n",
              "    .colab-df-convert:hover {\n",
              "      background-color: #E2EBFA;\n",
              "      box-shadow: 0px 1px 2px rgba(60, 64, 67, 0.3), 0px 1px 3px 1px rgba(60, 64, 67, 0.15);\n",
              "      fill: #174EA6;\n",
              "    }\n",
              "\n",
              "    .colab-df-buttons div {\n",
              "      margin-bottom: 4px;\n",
              "    }\n",
              "\n",
              "    [theme=dark] .colab-df-convert {\n",
              "      background-color: #3B4455;\n",
              "      fill: #D2E3FC;\n",
              "    }\n",
              "\n",
              "    [theme=dark] .colab-df-convert:hover {\n",
              "      background-color: #434B5C;\n",
              "      box-shadow: 0px 1px 3px 1px rgba(0, 0, 0, 0.15);\n",
              "      filter: drop-shadow(0px 1px 2px rgba(0, 0, 0, 0.3));\n",
              "      fill: #FFFFFF;\n",
              "    }\n",
              "  </style>\n",
              "\n",
              "    <script>\n",
              "      const buttonEl =\n",
              "        document.querySelector('#df-b8a12722-6699-453c-8307-e8b804845589 button.colab-df-convert');\n",
              "      buttonEl.style.display =\n",
              "        google.colab.kernel.accessAllowed ? 'block' : 'none';\n",
              "\n",
              "      async function convertToInteractive(key) {\n",
              "        const element = document.querySelector('#df-b8a12722-6699-453c-8307-e8b804845589');\n",
              "        const dataTable =\n",
              "          await google.colab.kernel.invokeFunction('convertToInteractive',\n",
              "                                                    [key], {});\n",
              "        if (!dataTable) return;\n",
              "\n",
              "        const docLinkHtml = 'Like what you see? Visit the ' +\n",
              "          '<a target=\"_blank\" href=https://colab.research.google.com/notebooks/data_table.ipynb>data table notebook</a>'\n",
              "          + ' to learn more about interactive tables.';\n",
              "        element.innerHTML = '';\n",
              "        dataTable['output_type'] = 'display_data';\n",
              "        await google.colab.output.renderOutput(dataTable, element);\n",
              "        const docLink = document.createElement('div');\n",
              "        docLink.innerHTML = docLinkHtml;\n",
              "        element.appendChild(docLink);\n",
              "      }\n",
              "    </script>\n",
              "  </div>\n",
              "\n",
              "\n",
              "<div id=\"df-15bfb03e-4582-45fb-862c-500ab3bff614\">\n",
              "  <button class=\"colab-df-quickchart\" onclick=\"quickchart('df-15bfb03e-4582-45fb-862c-500ab3bff614')\"\n",
              "            title=\"Suggest charts\"\n",
              "            style=\"display:none;\">\n",
              "\n",
              "<svg xmlns=\"http://www.w3.org/2000/svg\" height=\"24px\"viewBox=\"0 0 24 24\"\n",
              "     width=\"24px\">\n",
              "    <g>\n",
              "        <path d=\"M19 3H5c-1.1 0-2 .9-2 2v14c0 1.1.9 2 2 2h14c1.1 0 2-.9 2-2V5c0-1.1-.9-2-2-2zM9 17H7v-7h2v7zm4 0h-2V7h2v10zm4 0h-2v-4h2v4z\"/>\n",
              "    </g>\n",
              "</svg>\n",
              "  </button>\n",
              "\n",
              "<style>\n",
              "  .colab-df-quickchart {\n",
              "      --bg-color: #E8F0FE;\n",
              "      --fill-color: #1967D2;\n",
              "      --hover-bg-color: #E2EBFA;\n",
              "      --hover-fill-color: #174EA6;\n",
              "      --disabled-fill-color: #AAA;\n",
              "      --disabled-bg-color: #DDD;\n",
              "  }\n",
              "\n",
              "  [theme=dark] .colab-df-quickchart {\n",
              "      --bg-color: #3B4455;\n",
              "      --fill-color: #D2E3FC;\n",
              "      --hover-bg-color: #434B5C;\n",
              "      --hover-fill-color: #FFFFFF;\n",
              "      --disabled-bg-color: #3B4455;\n",
              "      --disabled-fill-color: #666;\n",
              "  }\n",
              "\n",
              "  .colab-df-quickchart {\n",
              "    background-color: var(--bg-color);\n",
              "    border: none;\n",
              "    border-radius: 50%;\n",
              "    cursor: pointer;\n",
              "    display: none;\n",
              "    fill: var(--fill-color);\n",
              "    height: 32px;\n",
              "    padding: 0;\n",
              "    width: 32px;\n",
              "  }\n",
              "\n",
              "  .colab-df-quickchart:hover {\n",
              "    background-color: var(--hover-bg-color);\n",
              "    box-shadow: 0 1px 2px rgba(60, 64, 67, 0.3), 0 1px 3px 1px rgba(60, 64, 67, 0.15);\n",
              "    fill: var(--button-hover-fill-color);\n",
              "  }\n",
              "\n",
              "  .colab-df-quickchart-complete:disabled,\n",
              "  .colab-df-quickchart-complete:disabled:hover {\n",
              "    background-color: var(--disabled-bg-color);\n",
              "    fill: var(--disabled-fill-color);\n",
              "    box-shadow: none;\n",
              "  }\n",
              "\n",
              "  .colab-df-spinner {\n",
              "    border: 2px solid var(--fill-color);\n",
              "    border-color: transparent;\n",
              "    border-bottom-color: var(--fill-color);\n",
              "    animation:\n",
              "      spin 1s steps(1) infinite;\n",
              "  }\n",
              "\n",
              "  @keyframes spin {\n",
              "    0% {\n",
              "      border-color: transparent;\n",
              "      border-bottom-color: var(--fill-color);\n",
              "      border-left-color: var(--fill-color);\n",
              "    }\n",
              "    20% {\n",
              "      border-color: transparent;\n",
              "      border-left-color: var(--fill-color);\n",
              "      border-top-color: var(--fill-color);\n",
              "    }\n",
              "    30% {\n",
              "      border-color: transparent;\n",
              "      border-left-color: var(--fill-color);\n",
              "      border-top-color: var(--fill-color);\n",
              "      border-right-color: var(--fill-color);\n",
              "    }\n",
              "    40% {\n",
              "      border-color: transparent;\n",
              "      border-right-color: var(--fill-color);\n",
              "      border-top-color: var(--fill-color);\n",
              "    }\n",
              "    60% {\n",
              "      border-color: transparent;\n",
              "      border-right-color: var(--fill-color);\n",
              "    }\n",
              "    80% {\n",
              "      border-color: transparent;\n",
              "      border-right-color: var(--fill-color);\n",
              "      border-bottom-color: var(--fill-color);\n",
              "    }\n",
              "    90% {\n",
              "      border-color: transparent;\n",
              "      border-bottom-color: var(--fill-color);\n",
              "    }\n",
              "  }\n",
              "</style>\n",
              "\n",
              "  <script>\n",
              "    async function quickchart(key) {\n",
              "      const quickchartButtonEl =\n",
              "        document.querySelector('#' + key + ' button');\n",
              "      quickchartButtonEl.disabled = true;  // To prevent multiple clicks.\n",
              "      quickchartButtonEl.classList.add('colab-df-spinner');\n",
              "      try {\n",
              "        const charts = await google.colab.kernel.invokeFunction(\n",
              "            'suggestCharts', [key], {});\n",
              "      } catch (error) {\n",
              "        console.error('Error during call to suggestCharts:', error);\n",
              "      }\n",
              "      quickchartButtonEl.classList.remove('colab-df-spinner');\n",
              "      quickchartButtonEl.classList.add('colab-df-quickchart-complete');\n",
              "    }\n",
              "    (() => {\n",
              "      let quickchartButtonEl =\n",
              "        document.querySelector('#df-15bfb03e-4582-45fb-862c-500ab3bff614 button');\n",
              "      quickchartButtonEl.style.display =\n",
              "        google.colab.kernel.accessAllowed ? 'block' : 'none';\n",
              "    })();\n",
              "  </script>\n",
              "</div>\n",
              "\n",
              "  <div id=\"id_0f3fe838-150a-4903-ab99-2412b6a67d0e\">\n",
              "    <style>\n",
              "      .colab-df-generate {\n",
              "        background-color: #E8F0FE;\n",
              "        border: none;\n",
              "        border-radius: 50%;\n",
              "        cursor: pointer;\n",
              "        display: none;\n",
              "        fill: #1967D2;\n",
              "        height: 32px;\n",
              "        padding: 0 0 0 0;\n",
              "        width: 32px;\n",
              "      }\n",
              "\n",
              "      .colab-df-generate:hover {\n",
              "        background-color: #E2EBFA;\n",
              "        box-shadow: 0px 1px 2px rgba(60, 64, 67, 0.3), 0px 1px 3px 1px rgba(60, 64, 67, 0.15);\n",
              "        fill: #174EA6;\n",
              "      }\n",
              "\n",
              "      [theme=dark] .colab-df-generate {\n",
              "        background-color: #3B4455;\n",
              "        fill: #D2E3FC;\n",
              "      }\n",
              "\n",
              "      [theme=dark] .colab-df-generate:hover {\n",
              "        background-color: #434B5C;\n",
              "        box-shadow: 0px 1px 3px 1px rgba(0, 0, 0, 0.15);\n",
              "        filter: drop-shadow(0px 1px 2px rgba(0, 0, 0, 0.3));\n",
              "        fill: #FFFFFF;\n",
              "      }\n",
              "    </style>\n",
              "    <button class=\"colab-df-generate\" onclick=\"generateWithVariable('selected_columns_df')\"\n",
              "            title=\"Generate code using this dataframe.\"\n",
              "            style=\"display:none;\">\n",
              "\n",
              "  <svg xmlns=\"http://www.w3.org/2000/svg\" height=\"24px\"viewBox=\"0 0 24 24\"\n",
              "       width=\"24px\">\n",
              "    <path d=\"M7,19H8.4L18.45,9,17,7.55,7,17.6ZM5,21V16.75L18.45,3.32a2,2,0,0,1,2.83,0l1.4,1.43a1.91,1.91,0,0,1,.58,1.4,1.91,1.91,0,0,1-.58,1.4L9.25,21ZM18.45,9,17,7.55Zm-12,3A5.31,5.31,0,0,0,4.9,8.1,5.31,5.31,0,0,0,1,6.5,5.31,5.31,0,0,0,4.9,4.9,5.31,5.31,0,0,0,6.5,1,5.31,5.31,0,0,0,8.1,4.9,5.31,5.31,0,0,0,12,6.5,5.46,5.46,0,0,0,6.5,12Z\"/>\n",
              "  </svg>\n",
              "    </button>\n",
              "    <script>\n",
              "      (() => {\n",
              "      const buttonEl =\n",
              "        document.querySelector('#id_0f3fe838-150a-4903-ab99-2412b6a67d0e button.colab-df-generate');\n",
              "      buttonEl.style.display =\n",
              "        google.colab.kernel.accessAllowed ? 'block' : 'none';\n",
              "\n",
              "      buttonEl.onclick = () => {\n",
              "        google.colab.notebook.generateWithVariable('selected_columns_df');\n",
              "      }\n",
              "      })();\n",
              "    </script>\n",
              "  </div>\n",
              "\n",
              "    </div>\n",
              "  </div>\n"
            ],
            "application/vnd.google.colaboratory.intrinsic+json": {
              "type": "dataframe",
              "variable_name": "selected_columns_df",
              "summary": "{\n  \"name\": \"selected_columns_df\",\n  \"rows\": 15255,\n  \"fields\": [\n    {\n      \"column\": \"trip_id\",\n      \"properties\": {\n        \"dtype\": \"number\",\n        \"std\": 1072175,\n        \"min\": 536546924,\n        \"max\": 540422896,\n        \"samples\": [\n          538522832,\n          539785657,\n          539743828\n        ],\n        \"num_unique_values\": 15255,\n        \"semantic_type\": \"\",\n        \"description\": \"\"\n      }\n    },\n    {\n      \"column\": \"duration\",\n      \"properties\": {\n        \"dtype\": \"number\",\n        \"std\": 22,\n        \"min\": 1,\n        \"max\": 873,\n        \"samples\": [\n          98,\n          85,\n          97\n        ],\n        \"num_unique_values\": 153,\n        \"semantic_type\": \"\",\n        \"description\": \"\"\n      }\n    },\n    {\n      \"column\": \"Time of Day\",\n      \"properties\": {\n        \"dtype\": \"category\",\n        \"samples\": [\n          \"22:32:00\",\n          \"17:15:00\",\n          \"13:54:00\"\n        ],\n        \"num_unique_values\": 1343,\n        \"semantic_type\": \"\",\n        \"description\": \"\"\n      }\n    },\n    {\n      \"column\": \"Day\",\n      \"properties\": {\n        \"dtype\": \"category\",\n        \"samples\": [\n          \"Saturday\",\n          \"Sunday\",\n          \"Thursday\"\n        ],\n        \"num_unique_values\": 7,\n        \"semantic_type\": \"\",\n        \"description\": \"\"\n      }\n    }\n  ]\n}"
            }
          },
          "metadata": {},
          "execution_count": 590
        }
      ]
    },
    {
      "cell_type": "markdown",
      "source": [
        "Your dataset is now complete! For the first line plot, you will be visualizing the number of trips that occur during each hour of the day, for all 7 days. To do so, you will be creating 2 line charts using Seaborn (sns).\n",
        "\n",
        "### This is important: using only Matplotlib will NOT result in full credit\n",
        "\n",
        "It is crucial that **your first line graph** contains the following features:\n",
        "1. The X-axis should be labelled \"Time of Day\", is of type datetime and ranges from 00:00 (midnight) to 23:00 (11 pm)\n",
        "2. The Y-axis should be labelled \"# of Rides\".\n",
        "3. There should be a title called \"# of Rides for each Time of Day\"\n",
        "4. There are 7 lines for each day of the week, clearly labeled and differentiated, **containing markers**.\n",
        "5. Again, must be completed using Seaborn (sns)\n"
      ],
      "metadata": {
        "id": "3uz28_FeVYnK"
      }
    },
    {
      "cell_type": "code",
      "source": [
        "# Import necessary libraries\n",
        "import seaborn as sns\n",
        "import matplotlib.pyplot as plt\n",
        "\n",
        "# Create a DataFrame that does not include the 'duration' column\n",
        "plot1_df = trips_final_df.drop(columns=['duration'])\n",
        "\n",
        "# Group by 'Day' and 'Time' and count the number of rides\n",
        "plot1_df = plot1_df.groupby(['Day', 'Time']).size().reset_index(name='Count')\n",
        "\n",
        "# Create a line plot\n",
        "plt.figure(figsize=(10, 6))\n",
        "sns.lineplot(data=plot1_df, x='Time', y='Count', hue='Day', markers=True)\n",
        "plt.xlabel(\"Time of Day\")\n",
        "plt.ylabel(\"# of Rides\")\n",
        "plt.title(\"# of Rides for each Time of Day\")\n",
        "plt.show()\n"
      ],
      "metadata": {
        "id": "ydXhm8lCS3yV",
        "colab": {
          "base_uri": "https://localhost:8080/",
          "height": 564
        },
        "outputId": "f715909e-393e-4e2e-ff2b-d5b5e1ce3e21"
      },
      "execution_count": 591,
      "outputs": [
        {
          "output_type": "display_data",
          "data": {
            "text/plain": [
              "<Figure size 1000x600 with 1 Axes>"
            ],
            "image/png": "[encoded data removed]"
          },
          "metadata": {}
        }
      ]
    },
    {
      "cell_type": "markdown",
      "source": [
        "Very interesting. Now for the second line plot, you will be visualizing the average duration of a ride that occurs during each hour of the day, for all 7 days.\n",
        "\n",
        "As a reminder, **your second line graph** should contain the following features:\n",
        "1. The X-axis should be the same as last time\n",
        "2. The Y-axis should be labelled \"Average Duration\".\n",
        "3. There should be a title called \"Average Duration of an Indego Bike Ride for each Time of Day\"\n",
        "4. There are 7 lines for each of the 7 days"
      ],
      "metadata": {
        "id": "CJKpjLkUp5B0"
      }
    },
    {
      "cell_type": "code",
      "source": [
        "# For this plot, create a dataframe that does not the trip_id column\n",
        "plot2_df = trips_final_df.drop(columns = ['trip_id'])\n",
        "\n",
        "# Now, alter this dataframe to have 3 columns, IN THIS ORDER:\n",
        "# 'Day', 'Time', 'duration'. Average Duration is the mean duration time\n",
        "# for the particular hour of that day.\n",
        "plot2_df = plot2_df.groupby(['Day', 'Time'])['duration'].mean().reset_index()\n",
        "plot2_df.columns = ['Day', 'Time', 'Average Duration']\n",
        "\n",
        "# Now just plot the graph\n",
        "import seaborn as sns\n",
        "import matplotlib.pyplot as plt\n",
        "\n",
        "plt.figure(figsize=(10, 6))\n",
        "sns.lineplot(data=plot2_df, x='Time', y='Average Duration', hue='Day')\n",
        "plt.title('Average Duration of an Indego Bike Ride for each Time of Day')\n",
        "plt.ylabel('Average Duration')\n",
        "plt.show()\n"
      ],
      "metadata": {
        "colab": {
          "base_uri": "https://localhost:8080/",
          "height": 564
        },
        "id": "IHY26m3IZ7sO",
        "outputId": "2d943f3f-c466-4d40-d3a5-39148c379d02"
      },
      "execution_count": 592,
      "outputs": [
        {
          "output_type": "display_data",
          "data": {
            "text/plain": [
              "<Figure size 1000x600 with 1 Axes>"
            ],
            "image/png": "[encoded data removed]"
          },
          "metadata": {}
        }
      ]
    },
    {
      "cell_type": "markdown",
      "source": [
        "## Part 4: Working with Text Data [9 points]\n",
        "\n",
        "Now, let's switch gears and try to text-based analysis. Textual data is complex, but can also be used to generate extremely interpretable results, making it both valuable and interesting.\n",
        "\n",
        "Throughout this section, we will attempt to answer the following question:\n",
        "\n",
        "**According to the `reviews_df` dataframe, what do the reviews for some of the most popular restaurants in Philadelphia look like?**"
      ],
      "metadata": {
        "id": "rC5YZxulS3yX"
      }
    },
    {
      "cell_type": "markdown",
      "source": [
        "###4.1 Tokenizing the text [2 points]\n",
        "\n",
        "We are going to split the contents of the `reviews` column from `reviews_df` into a list of words. We will use the **nltk** library, which contains an extensive set of tools for text processing. Now, this homework would be interminably long if we went into all the details of nltk. Thus, we are only going to use the following components of the library:\n",
        "- `nltk.word_tokenize()`: a function used to tokenize text\n",
        "- `nltk.corpus.stopwords`: a list of commonly used words such as \"a\", \"an\",\"in\" that are often ignored in text analysis\n",
        "\n",
        "Note that for this question, we didn't have to clean the text data first as our original dataset was well-formatted. However, in practice, we would typically clean the text first using regular expressions (regex). Keep this in mind as you work on the project later on in the semester.\n",
        "\n",
        "**TODO:** Perform the following tasks:\n",
        "- Use **nltk.corpus.stopwords** to create a set containing the most common English stopwords.\n",
        "- Implement the function **tokenized_content(content)**, which takes in a string and does the following:\n",
        "1. Tokenize the text\n",
        "2. Keep tokens that only contain alphabetic characters (i.e. tokens with no punctuation)\n",
        "3. Convert each token to lowercase\n",
        "4. Remove stopwords (commonly used words such as \"a\", \"an\", \"in\")\n"
      ],
      "metadata": {
        "id": "6LRZiK9YS3yX"
      }
    },
    {
      "cell_type": "code",
      "source": [
        "# We've imported the nltk library and created the stopwords set for you\n",
        "import nltk\n",
        "from nltk.corpus import stopwords\n",
        "nltk.download('stopwords')\n",
        "stopwords = set(stopwords.words('english'))"
      ],
      "metadata": {
        "id": "MTeCg9ggS3yX",
        "colab": {
          "base_uri": "https://localhost:8080/"
        },
        "outputId": "98f14826-1cc1-4bfc-bf99-7091f3a556d2"
      },
      "execution_count": 593,
      "outputs": [
        {
          "output_type": "stream",
          "name": "stderr",
          "text": [
            "[nltk_data] Downloading package stopwords to /root/nltk_data...\n",
            "[nltk_data]   Package stopwords is already up-to-date!\n"
          ]
        }
      ]
    },
    {
      "cell_type": "code",
      "source": [
        "# TODO: tokenize and flatten\n",
        "# (create a tokenized_content function that performs the steps listed above)\n",
        "\n",
        "# Import necessary libraries\n",
        "import nltk\n",
        "from nltk.tokenize import word_tokenize\n",
        "from nltk.corpus import stopwords\n",
        "\n",
        "# Download the stopwords from nltk\n",
        "nltk.download('stopwords')\n",
        "\n",
        "# Create a set of English stopwords\n",
        "stopwords = set(stopwords.words('english'))\n",
        "\n",
        "def tokenized_content(content):\n",
        "    # Tokenize the text\n",
        "    tokens = word_tokenize(content)\n",
        "\n",
        "    # Keep tokens that only contain alphabetic characters and convert each token to lowercase\n",
        "    tokens = [token.lower() for token in tokens if token.isalpha()]\n",
        "\n",
        "    # Remove stopwords\n",
        "    tokens = [token for token in tokens if token not in stopwords]\n",
        "\n",
        "    return tokens\n"
      ],
      "metadata": {
        "id": "VrCQn9XkS3yY",
        "colab": {
          "base_uri": "https://localhost:8080/"
        },
        "outputId": "7ab029b1-4c05-458b-8771-a34f149bcd4b"
      },
      "execution_count": 594,
      "outputs": [
        {
          "output_type": "stream",
          "name": "stderr",
          "text": [
            "[nltk_data] Downloading package stopwords to /root/nltk_data...\n",
            "[nltk_data]   Package stopwords is already up-to-date!\n"
          ]
        }
      ]
    },
    {
      "cell_type": "markdown",
      "source": [
        " **TODO**: Now perform the following tasks:\n",
        "- We are interested in reviews for the **most reviewed** restaurant in `reviews_df`. Using Counter() to find this restaurant is recommended. Store the name of the restaurant in the `most_reviewed_restaurant` variable, and use it to create `restaurant_reviews_df`, a subset of `reviews_df` only containing instances from the restaurant in question\n",
        "- From there, extract the `review` column of `reviews_df` as a list called `reviews`.\n",
        "- Apply your `tokenize_content()` function to each item in the list `reviews`. Call the resultant list `top_tokens_list`.\n",
        "- Flatten the list `top_tokens_list`, and call the resultant list `top_tokens`. The autograder will be examining the contents of this list. (Flatten using list comprehension)\n",
        "\n",
        "For futher assistance, here is the documentation for Counter() objects:\n",
        "\n",
        "https://docs.python.org/2/library/collections.html#counter-objects"
      ],
      "metadata": {
        "id": "kSFZfxDXS3yY"
      }
    },
    {
      "cell_type": "code",
      "source": [
        "from collections import Counter\n",
        "# TODO: find the most reviewed restaurant, use that to make restaurant_reviews_df,\n",
        "#       extract the reviews, use your function to make the token list, and flatten it\n",
        "from collections import Counter\n",
        "import nltk\n",
        "from nltk.tokenize import word_tokenize\n",
        "from nltk.corpus import stopwords\n",
        "\n",
        "# Download the stopwords from nltk\n",
        "nltk.download('stopwords')\n",
        "\n",
        "# Create a set of English stopwords\n",
        "stopwords = set(stopwords.words('english'))\n",
        "\n",
        "def tokenized_content(content):\n",
        "    # Tokenize the text\n",
        "    tokens = word_tokenize(content)\n",
        "\n",
        "    # Keep tokens that only contain alphabetic characters and convert each token to lowercase\n",
        "    tokens = [token.lower() for token in tokens if token.isalpha()]\n",
        "\n",
        "    # Remove stopwords\n",
        "    tokens = [token for token in tokens if token not in stopwords]\n",
        "\n",
        "    return tokens\n",
        "\n",
        "# TODO: find the most reviewed restaurant, use that to make restaurant_reviews_df,\n",
        "#       extract the reviews, use your function to make the token list, and flatten it\n",
        "\n",
        "# Find the most reviewed restaurant\n",
        "most_reviewed_restaurant = reviews_df['restaurant'].value_counts().idxmax()\n",
        "\n",
        "# Create a DataFrame with reviews of the most reviewed restaurant\n",
        "restaurant_reviews_df = reviews_df[reviews_df['restaurant'] == most_reviewed_restaurant]\n",
        "\n",
        "# Extract the reviews\n",
        "reviews = restaurant_reviews_df['review']\n",
        "\n",
        "# Use your function to make the token list\n",
        "token_lists = reviews.apply(tokenized_content)\n",
        "\n",
        "# Flatten the list of token lists into a single list of tokens\n",
        "top_tokens = [token for tokens in token_lists for token in tokens]\n",
        "\n",
        "# Count the occurrences of each token\n",
        "token_counts = Counter(top_tokens)\n",
        "\n",
        "# Get the most common tokens\n",
        "top_tokens = token_counts.most_common()\n"
      ],
      "metadata": {
        "id": "_b-JZ1I5S3yZ",
        "colab": {
          "base_uri": "https://localhost:8080/"
        },
        "outputId": "0e41a32e-f649-47d6-ce6e-66e27d5c0b7c"
      },
      "execution_count": 595,
      "outputs": [
        {
          "output_type": "stream",
          "name": "stderr",
          "text": [
            "[nltk_data] Downloading package stopwords to /root/nltk_data...\n",
            "[nltk_data]   Package stopwords is already up-to-date!\n"
          ]
        }
      ]
    },
    {
      "cell_type": "code",
      "source": [
        "# 2 points\n",
        "grader.grade(test_case_id = 'test_top_tokens', answer = top_tokens)"
      ],
      "metadata": {
        "id": "8Dc2ogf8S3yZ",
        "colab": {
          "base_uri": "https://localhost:8080/"
        },
        "outputId": "e4771e66-a59d-4c8e-ef39-163f79c41e0e"
      },
      "execution_count": 596,
      "outputs": [
        {
          "output_type": "stream",
          "name": "stdout",
          "text": [
            "Correct! You earned 2/2 points. You are a star!\n",
            "\n",
            "Your submission has been successfully recorded in the gradebook.\n"
          ]
        }
      ]
    },
    {
      "cell_type": "markdown",
      "source": [
        "\n",
        "### 4.2 Most Frequent Words [2 points]\n",
        "**TODO**: Now, find the 10 most common words amongst the content of `top_tokens`. Return this as a list of `(word, count)` tuples, in descending order of `count`. Store this variable in `top_ten_words`\n",
        "\n",
        "**Hint**: We again recommend using `Counter` in this question."
      ],
      "metadata": {
        "id": "GEwk7DbrS3yZ"
      }
    },
    {
      "cell_type": "code",
      "source": [
        "# TODO: From top_tokens, find the ten most frequent words\n",
        "# Find the ten most frequent words\n",
        "top_ten_words = Counter(top_tokens).most_common(10)\n"
      ],
      "metadata": {
        "id": "GFd9R1wyS3yZ"
      },
      "execution_count": 597,
      "outputs": []
    },
    {
      "cell_type": "code",
      "source": [
        "# 2 points\n",
        "grader.grade(test_case_id = 'test_top_most_common', answer = top_ten_words)"
      ],
      "metadata": {
        "id": "Wd_RRFloS3ya",
        "colab": {
          "base_uri": "https://localhost:8080/"
        },
        "outputId": "e2c27849-74a5-44ee-b773-92e0c9644af3"
      },
      "execution_count": 598,
      "outputs": [
        {
          "output_type": "stream",
          "name": "stdout",
          "text": [
            "You earned 0/2 points.\n",
            "\n",
            "You seem to have the wrong tokens in the listDon't worry, you can re-submit and we will keep only your latest score.\n"
          ]
        }
      ]
    },
    {
      "cell_type": "markdown",
      "source": [
        "### 4.3 Word Clouds [5 points]\n",
        "\n",
        "Before we move on from this dataset, let's visualize our results using a word cloud.\n",
        "\n",
        "**TODO**: Create a word cloud containing all the words in the list `top_tokens` (created in part 4.1). [The WordCloud documentation](https://amueller.github.io/word_cloud/generated/wordcloud.WordCloud.html) contains instructions on how to do this.\n",
        "\n",
        "*Please make sure your wordcloud has a **lavender** background color.*\n",
        "\n",
        "We will be going through your notebooks and **manually grading** your word cloud. This is worth 5 points."
      ],
      "metadata": {
        "id": "vr94cNcdS3ya"
      }
    },
    {
      "cell_type": "code",
      "source": [
        "# Create a string with all the words\n",
        "text = ' '.join(word for word, count in top_tokens)\n",
        "\n",
        "# Create a WordCloud object\n",
        "wordcloud = WordCloud(background_color='lavender').generate(text)\n",
        "\n",
        "# Display the generated image\n",
        "plt.imshow(wordcloud, interpolation='bilinear')\n",
        "plt.axis(\"off\")\n",
        "plt.show()\n"
      ],
      "metadata": {
        "id": "gzM1RmhxS3ya",
        "colab": {
          "base_uri": "https://localhost:8080/",
          "height": 285
        },
        "outputId": "45dcd9c7-43d2-4d25-fbec-635df006d1a9"
      },
      "execution_count": 599,
      "outputs": [
        {
          "output_type": "display_data",
          "data": {
            "text/plain": [
              "<Figure size 640x480 with 1 Axes>"
            ],
            "image/png": "[encoded data removed]"
          },
          "metadata": {}
        }
      ]
    },
    {
      "cell_type": "markdown",
      "metadata": {
        "id": "UcrcDEJNlrN0"
      },
      "source": [
        "# HW Submission\n",
        "\n",
        "\n",
        "\n",
        "Congratulations on finishing this homework! The good news is that similar to HW1, you basically know your score when you submit to Gradescope.\n",
        "However, this time, we will be manually grading your lineplots and wordclouds, so the autograder score is not final! Remember that we will also be checking for plagiarism, so please make sure to cite your sources (if any) by commenting the urls / links you looked at.\n",
        "\n",
        "Before you submit on Gradescope (you must submit your notebook to receive credit):\n",
        "\n",
        "1.   Please rerun your notebook on Colab by clicking \"Restart and Run-All\", and make sure there is nothing wrong with your notebook.\n",
        "2.   **Double check that you have the correct ID (all numbers) saved in the autograder**.\n",
        "3. Make sure you've run all the Grader cells and have received a score.\n",
        "4. Go to the \"File\" tab at the top left, and click \"Download .ipynb\" + \"Download .py\". Please name the `.ipynb` and `.py` files **\"homework2.ipynb\"** and **\"homework2.py\"** respectively. Then, upload both the `.py` and `.ipynb` files to Gradescope.\n",
        "\n",
        "###Be sure to name your files correctly!!!\n",
        "\n",
        "**Please let the course staff know ASAP if you have any issues submitting.**"
      ]
    }
  ],
  "metadata": {
    "colab": {
      "provenance": []
    },
    "kernelspec": {
      "display_name": "Python 3",
      "name": "python3"
    },
    "language_info": {
      "name": "python"
    }
  },
  "nbformat": 4,
  "nbformat_minor": 0
}